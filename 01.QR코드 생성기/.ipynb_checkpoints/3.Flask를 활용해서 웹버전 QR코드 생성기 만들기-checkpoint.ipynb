{
 "cells": [
  {
   "cell_type": "markdown",
   "metadata": {},
   "source": [
    "# 웹버전 QR코드 생성기\n",
    "현재 QR코드 생성 서비스들은 필수로 회원가입을 해야한다거나 유료로 제공되는 곳이 많은데 여기서 우리가 작성한 QR코드 생성기를 파이썬의 웹 프레임워크인 Flask 를 활용해서 웹브라우저를 통해 동작하게 작성해보도록 하겠습니다. \n",
    "\n",
    "### Flask 설치\n",
    "파이썬에는 Django, Flask 같은 웹프로그래밍을 가능하게 하는 웹 프레임워크가 있습니다. 여기서는 간단한 기능 몇개만 구현을 하려고 하기 때문에 Flask 를 사용해서 웹페이지를 작성해보도록 하겠습니다. \n",
    "\n",
    "```pip install flask``` \n",
    "\n",
    "Flask 를 사용하기 위해선 먼저 pip 명령을 통해 flask 를 설치해야 합니다."
   ]
  },
  {
   "cell_type": "markdown",
   "metadata": {},
   "source": [
    "### flask 인스턴스 생성 및 기본 라우터 함수 선언"
   ]
  },
  {
   "cell_type": "code",
   "execution_count": null,
   "metadata": {},
   "outputs": [],
   "source": [
    "from flask import Flask\n",
    "\n",
    "app = Flask(__name__)\n",
    "\n",
    "@app.route(\"/\")\n",
    "def index():\n",
    "    return \"Index page\""
   ]
  },
  {
   "cell_type": "markdown",
   "metadata": {},
   "source": [
    "Flask 는 위의 7줄의 코드만 작성해도 웹사이트를 만들 수 있게 될만큼 아주 간단하고 심플한 프레임워크 입니다. flask 는 @app.route(\"주소\") 데코레이터로 웹사이트의 주소를 생성 할 수 있습니다. @app.route() 데코레이터 밑에 기능을 함수로 구현하면 해당 route(\"주소\") 가 브라우저를 통해 호출되면 구현해놓은 함수가 동작하는 형태로 운영됩니다. 여기서 직접 HTML 을 문자열로서 리턴할 수도 있고 render_template 함수를 통해 미리 작성해놓은 html 파일을 리턴할 수도 있습니다."
   ]
  },
  {
   "cell_type": "code",
   "execution_count": null,
   "metadata": {},
   "outputs": [],
   "source": [
    "from flask import Flask\n",
    "from flask import render_template\n",
    "\n",
    "app = Flask(__name__)\n",
    "\n",
    "@app.route(\"/\")\n",
    "def index():\n",
    "    return render_template(\"index.html\")"
   ]
  },
  {
   "cell_type": "markdown",
   "metadata": {},
   "source": [
    "### templates 폴더\n",
    "\n",
    "미리 작성해놓은 html 을 리턴하려면 html 파일이 반드시 py 파일 위치에 templates 라는 폴더를 만들고 그 안에 존재해야 합니다. 기본적으로 render_template(\"html파일명\") 함수를 호출하면 templates 폴더에 해당 파일이 있는지 찾아서 리턴하게 됩니다. render_template() 함수를 사용하려면 import 해야 합니다."
   ]
  },
  {
   "cell_type": "code",
   "execution_count": null,
   "metadata": {},
   "outputs": [],
   "source": [
    "%%html\n",
    "\n",
    "<input type=\"text\" id=\"data\" size=\"70\" value=\"https://www.naver.com\">\n",
    "<input type=\"button\" value=\"생성\" onclick=\"qrcodeMake()\">\n",
    "<div id=\"qrcode\"></div>"
   ]
  },
  {
   "cell_type": "markdown",
   "metadata": {},
   "source": [
    "### HTML 입력 및 출력 \n",
    "index.html 에는 기본적으로 폼태그인 input 태그를 사용하여 1개는 사용자가 입력한 값을 받기 위한 text 형태의 input 박스와 하나의 전송 버튼을 생성합니다. 그리고 추후 QR코드를 출력할 div 태그를 하나 생성만 해놓고 id 를 설정해놓습니다. 그리고 해당 버튼이 클릭되면(onclick) qrcodeMake 라는 자바스크립트 함수를 호출 하게 했습니다."
   ]
  },
  {
   "cell_type": "code",
   "execution_count": null,
   "metadata": {},
   "outputs": [],
   "source": [
    "<script src=\"https://code.jquery.com/jquery-3.4.1.min.js\"></script>\n",
    "\n",
    "<script>\n",
    "    function qrcodeMake() {\n",
    "        var text = $.trim($(\"#data\").val());\n",
    "        console.log(\"입력값: \" + text);\n",
    "        $.ajax({\n",
    "            url: \"{{url_for('make_qrcode')}}\",\n",
    "            type: \"POST\",\n",
    "            cache: false,\n",
    "            data: {\"text\": text},\n",
    "            success: function(result) {\n",
    "                console.log(result);\n",
    "                base64 = result.data;\n",
    "                tag = \"<img src='data:image/png;base64, \" + base64 + \"'>\";\n",
    "                console.log(tag);\n",
    "                $(\"#qrcode\").append(tag);\n",
    "            },\n",
    "            error: function(request, status, error) {\n",
    "                var msg = \"ERROR : \" + request.status + \"<br>\"\n",
    "                msg +=  + \"내용 : \" + request.responseText + \"<br>\" + error;\n",
    "                console.log(msg);  \n",
    "            }\n",
    "        });\n",
    "    }\n",
    "</script>"
   ]
  },
  {
   "cell_type": "markdown",
   "metadata": {},
   "source": [
    "### javascript\n",
    "\n",
    "html 에서는 html 요소 접근의 편리성과 ajax 통신을 편리하게 하기 위해서 jquery 를 사용합니다. \n",
    "\n",
    "### qrcodeMake()\n",
    "qrcodeMake 함수에서는 페이지 새로고침 없이 서버에 QR코드 생성을 요청하고 그 결과를 받아서 바로 화면에 출력하기 위해서 ajax 통신을 사용합니다. jquery의 ajax 문법은 $.ajax({}) 안에 필요한 파라메터를 채워넣는 형식으로 작성됩니다.\n",
    "\n",
    "- url: ajax로 호출될 주소를 작성합니다. 여기서는 url_for 함수를 사용하여 make_qrcode 함수가 가리키는 주소로 요청을 합니다.(작성전)\n",
    "- type: ajax 주소에 데이터를 전송할 형식을 설정합니다. get, post 중에 하나를 선택합니다.\n",
    "- cache: 브라우저에 캐시된 데이터를 사용할지를 설정합니다.\n",
    "- data: url페이지에 전송할 데이터를 보냅니다. data는 json 형태로 작성되어야 합니다.\n",
    "- success: ajax 호출 후 서버에서 정상적인 리턴 값을 받은경우 호출되는 구간 입니다. \n",
    "- error: ajax 호출시 서버 오류가 발생한 경우 호출되는 구간 입니다."
   ]
  },
  {
   "cell_type": "markdown",
   "metadata": {},
   "source": [
    "### 파이썬에서 make_qrcode() 함수 작성"
   ]
  },
  {
   "cell_type": "code",
   "execution_count": null,
   "metadata": {},
   "outputs": [],
   "source": [
    "from flask import jsonify\n",
    "\n",
    "@app.route(\"/qrcode\", methods=[\"POST\"])\n",
    "def make_qrcode():\n",
    "    text = request.form.get(\"text\")\n",
    "    c = pyqrcode.create(text)\n",
    "    base64 = c.png_as_base64_str(scale=5, module_color=[0, 0, 0, 255], background=[255, 255, 255])\n",
    "    return jsonify(error=\"ok\", data=base64)"
   ]
  },
  {
   "cell_type": "markdown",
   "metadata": {},
   "source": [
    "make_qrcode 함수는 /qrcode 라는 주소를 사용하게 작성했고 POST 형태로 데이터를 받기로 설정합니다. requests.form.get(\"text\") 는 html 에서 text 라는 이름으로 넘어온 데이터의 값을 받습니다. 그리고 이 text 의 데이터를 pyqcode.create(text) 함수를 통해 QR코드로 생성하고 png_as_base64_str() 함수를 통해 이미지를 base64 형태의 텍스트로 변환하여 jsonify 함수를 통해 json 형태로 data라는 이름의 변수로 다시 브라우저에게 리턴합니다.\n",
    "\n",
    "- base64란?\n",
    "    - 데이터 전송을 위해 바이너리 데이터를 문자 코드에 영향받지 않는 공통 아스키 문자들로 변경하는 인코딩 방식\n",
    "    - 보통 A-Z, a-z, 0-9 의 문자를 모두 사용해 62개 문자를 만들고 나머지 2개는 +, / 문자를 사용\n",
    "    - base64 인코딩 된 문자열데이터의 끝은 = 문자로 끝납니다.\n"
   ]
  },
  {
   "cell_type": "code",
   "execution_count": null,
   "metadata": {},
   "outputs": [],
   "source": [
    "%%html\n",
    "success: function(result) {\n",
    "    console.log(result);\n",
    "    base64 = result.data;\n",
    "    tag = \"<img src='data:image/png;base64, \" + base64 + \"'>\";\n",
    "    console.log(tag);\n",
    "    $(\"#qrcode\").append(tag);\n",
    "},"
   ]
  },
  {
   "cell_type": "markdown",
   "metadata": {},
   "source": [
    "ajax 통신이 성공하면 success 에 구현된 함수가 콜백되는데 정상적으로 make_qrcode() 함수가 수행되었다면 error, data 2개의 키 값을 받게 됩니다. 여기서 data 라는 키의 값에 QR코드가 base64 인코딩된 형태로 전송되는데 이것을 이미지 태그에 data:image/png;base64, 형태로 이미지를 직접 출력하게 태그를 작성하여 div 태그에 append 시켜서 화면에 보여지게 만듭니다."
   ]
  },
  {
   "cell_type": "markdown",
   "metadata": {},
   "source": [
    "## 파이썬 전체 코드"
   ]
  },
  {
   "cell_type": "code",
   "execution_count": null,
   "metadata": {},
   "outputs": [],
   "source": [
    "from flask import Flask, render_template, request, jsonify\n",
    "\n",
    "# pip install pyqrcode pypng (필요)\n",
    "import pyqrcode\n",
    "\n",
    "app = Flask(__name__)\n",
    "\n",
    "@app.route(\"/\")\n",
    "def index():\n",
    "    return render_template(\"index.html\")\n",
    "\n",
    "@app.route(\"/qrcode\", methods=[\"POST\"])\n",
    "def make_qrcode():\n",
    "    text = request.form.get(\"text\")\n",
    "    c = pyqrcode.create(text)\n",
    "    base64 = c.png_as_base64_str(scale=5, module_color=[0, 0, 0, 255], background=[255, 255, 255])\n",
    "    return jsonify(error=\"ok\", data=base64)\n",
    "\n",
    "if __name__ == \"__main__\":\n",
    "    app.run(host=\"0.0.0.0\", port=9888, debug=True)"
   ]
  },
  {
   "cell_type": "markdown",
   "metadata": {},
   "source": [
    "# index.html 전체 코드"
   ]
  },
  {
   "cell_type": "code",
   "execution_count": null,
   "metadata": {},
   "outputs": [],
   "source": [
    "%%html\n",
    "\n",
    "<script src=\"https://code.jquery.com/jquery-3.4.1.min.js\"></script>\n",
    "\n",
    "<script>\n",
    "    function qrcodeMake() {\n",
    "        var text = $.trim($(\"#data\").val());\n",
    "        console.log(\"입력값: \" + text);\n",
    "        $.ajax({\n",
    "            url: \"{{url_for('make_qrcode')}}\",\n",
    "            type: \"POST\",\n",
    "            cache: false,\n",
    "            data: {\"text\": text},\n",
    "            success: function(result) {\n",
    "                console.log(result);\n",
    "                base64 = result.data;\n",
    "                tag = \"<img src='data:image/png;base64, \" + base64 + \"'>\";\n",
    "                console.log(tag);\n",
    "                $(\"#qrcode\").append(tag);\n",
    "            },\n",
    "            error: function(request, status, error) {\n",
    "                var msg = \"ERROR : \" + request.status + \"<br>\"\n",
    "                msg +=  + \"내용 : \" + request.responseText + \"<br>\" + error;\n",
    "                console.log(msg);  \n",
    "            }\n",
    "        });\n",
    "    }\n",
    "</script>\n",
    "<input type=\"text\" id=\"data\" size=\"70\" value=\"https://www.naver.com\">\n",
    "<input type=\"button\" value=\"생성\" onclick=\"qrcodeMake()\">\n",
    "<div id=\"qrcode\"></div>"
   ]
  }
 ],
 "metadata": {
  "kernelspec": {
   "display_name": "Python 3",
   "language": "python",
   "name": "python3"
  },
  "language_info": {
   "codemirror_mode": {
    "name": "ipython",
    "version": 3
   },
   "file_extension": ".py",
   "mimetype": "text/x-python",
   "name": "python",
   "nbconvert_exporter": "python",
   "pygments_lexer": "ipython3",
   "version": "3.6.3"
  }
 },
 "nbformat": 4,
 "nbformat_minor": 2
}
