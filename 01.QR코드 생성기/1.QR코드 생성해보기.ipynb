{
 "cells": [
  {
   "cell_type": "markdown",
   "metadata": {},
   "source": [
    "# QR코드란?\n",
    "\n",
    "현재 우리가 스마트폰으로 익숙하게 사용하고 있는 QR 코드란 Quick Response 의 줄임말로 최대 20자의 정보량 밖에 담을수 없고 가로로 밖에 인식되지 않던 바코드의 단점을 해결하기 위해 일본의 토요타 자동차의 자회사인 덴소 웨이브라는 회사에서 1994년에 2명의 개발자가 개발한 매트릭스 형식의 바코드 입니다. 덴소웨이브는 QR코드의 특허권을 갖고는 있지만 특허권의 권리를 행사하지 않기로 하여 전세계 어느곳에서든 마음데로 사용할 수 있게 되었습니다.\n",
    "\n",
    "## QR코드 버전\n",
    "우리가 아는 일반적인 QR코드는 버전 1부터 현재 40버전까지 나온상태입니다. 최초 버전1은 21 x 21 크기에서 버전이 증가함에 따라 각 4칸씩 증가하여 현재 40버전은 177 x 177 크기로 숫자 기준 7089자를 저장할 수 있습니다.\n",
    "\n",
    "![1.jpg](images/1.jpg)\n",
    "\n",
    "## 오류복원 기능\n",
    "QR 코드의 핵심적인 부분은 사실 많은 데이터를 저장할 수 있다는 점도 있지만 더 큰 부분은 QR코드가 오염이나 손상이 되었을때 데이터를 복원하는 기능입니다. QR코드의 오류 복원기능은 음악CD, 인공위성이나 행성탐사, 통신노이즈 대책으로 개발된 수학적인 오류복원 방법인 리드 솔로몬 부호(Reed-Solomon error correction)로 QR코드 생성시에 오류 복원 레벨에 따라 최대 30% 의 데이터를 복원할 수 있습니다.\n",
    "\n",
    "- 레벨 L: 약 7% 오류 정정 가능\n",
    "- 레벨 M: 약 15% 오류 정정 가능\n",
    "- 레벨 Q: 약 25% 오류 정정 가능\n",
    "- 레벨 H: 약 30% 오류 정정 가능\n",
    "\n",
    "단, 오류 정정 단계가 높아지면 상대적으로 데이터의 저장 공간이 줄어들기 때문에 데이터의 양과 오류 정정 단계를 고려하여 버전을 선택해야 합니다.\n",
    "\n",
    "## QR코드 인코딩\n",
    "\n",
    "- 숫자: 3개의 숫자가 10비트로 인코딩 됩니다. 최대 7089 개의 숫자를 저장할 수 있습니다.\n",
    "- 알파벳: 2개의 문자가 11비트로 인코딩 되며 최대 4296개의 문자를 저장할 수 있습니다.\n",
    "- 바이너리: 8비트로 구성되며 최대 2953개의 데이터를 저장할 수 있습니다.\n",
    "- 일본어: 1개의 2바이트 칸지문자가 13비트로 인코딩되며 최대 1817개의 문자를 저장할 수 있습니다.\n",
    "\n",
    "## QR코드 구조\n",
    "\n",
    "![3.jpg](images/qrcode.jpg)\n",
    "\n",
    "불과 몇년전에는 공식 사이트인 qrcode.com 사이트에서 qr코드의 구현코드를 열람할 수 있었는데 현재는 그럴 수가 없게 되었으며 QR 코드의 자세한 내용은 한국표준정보망에서 KS X ISO/IEC 18004 에 대한 QR코드 규격서를 구매하셔야 자세하게 알 수 있습니다. [관련링크](https://kssn.net/search/stddetail.do?itemNo=K001010116251)\n",
    "\n",
    "\n",
    "## qrcodegen.py\n",
    "\n",
    "실제 QR 코드에서 핵심적인 데이터 인코딩 부분, 오류 정정 코드 알고리즘 등은 수학적인 영역이기 때문에 이 강좌에서 해당 부분에 대해서는 자세하게 다루지 않습니다. QR코드의 생성방식은 [qrcodegen.py](https://github.com/nayuki/QR-Code-generator/blob/master/python/qrcodegen.py) 링크를 통해 QR코드의 알고리즘을 파이썬으로 구현한 코드를 보실 수 있습니다."
   ]
  },
  {
   "cell_type": "markdown",
   "metadata": {},
   "source": [
    "# QR코드 생성하기\n",
    "\n",
    "우리는 QR코드의 알고리즘을 직접 구현하지 않고 라이브러리를 사용해서 QR코드를 생성해보기로 하겠습니다. QR코드를 생성하는 라이브러리는 여러가지가 있습니다만 여기서는 pyqrcode 라이브러리를 이용하겠습니다. [[공식링크]](https://pypi.org/project/PyQRCode/)\n",
    "\n",
    "```pip install pyqrcode pypng```\n",
    "\n",
    "pyqrcode 에서 생성한 qrcode 를 이미지로 변환하려면 pyqrcode에서 내부적으로 pypng 라는 라이브러리를 사용하기 때문에 pypng 라이브러리도 설치를 해줘야 합니다.\n",
    "\n",
    "### QR코드를 SVG, EPS 포맷으로 생성 후 터미널에 출력하기"
   ]
  },
  {
   "cell_type": "code",
   "execution_count": null,
   "metadata": {},
   "outputs": [],
   "source": [
    "import pyqrcode\n",
    "qrcode = pyqrcode.create('http://www.naver.com')\n",
    "qrcode.svg('uca-url.svg', scale=8)\n",
    "qrcode.eps('uca-url.eps', scale=2)\n",
    "print(qrcode.terminal(quiet_zone=1))"
   ]
  },
  {
   "cell_type": "markdown",
   "metadata": {},
   "source": [
    "### QR코드를 PNG 파일로 생성하기"
   ]
  },
  {
   "cell_type": "code",
   "execution_count": null,
   "metadata": {},
   "outputs": [],
   "source": [
    "import pyqrcode\n",
    "qrcode = pyqrcode.create('https://www.naver.com', error='L', version=27, mode='binary')\n",
    "qrcode.png('code.png', scale=6, module_color=[0, 0, 0, 128], background=[0xff, 0xff, 0xcc])\n",
    "qrcode.show()"
   ]
  },
  {
   "cell_type": "markdown",
   "metadata": {},
   "source": [
    "pyqrcode 의 create() 함수를 통해 QR코드를 생성할 수 있습니다. \n",
    "\n",
    "```pyqrcode.create(content, error='H', version=None, mode=None, encoding=None)```\n",
    "\n",
    "\n",
    "create() 함수에는 QR코드 내용, 에러레벨, QR코드 버전, 내용 인코딩 방식, 컨텐츠를 해석할 방식의 파라메타로 QR코드를 생성할 수 있습니다. 내용 인코딩 방식에는 숫자, 숫자문자, 한자, 바이너리의 종류가 있는데 숫자문자인경우 모두 대문자처리가 됩니다.\n",
    "\n",
    "```pyqrcode.png(file, scale=1, module_color=(0,0,0,255), background=(255,255,255,255), quiet_zone=4)```\n",
    "\n",
    "png() 함수에는 파일명, 크기, QR코드의 색상, 배경색상, 여백크기의 파라메타를 받아서 png 파일을 생성하는데 위에서 얘기한데로 pypng 라이브러리를 쓰기 때문에 반드시 pypng 라이브러리를 미리 설치 해야 합니다. 그리고 색상값은 4채널 데이터로 마지막은 투명도 값이 들어갑니다.\n",
    "\n",
    "### QR 코드로 WIFI 접속하기\n",
    "\n",
    "QR 코드를 활용하는 방법은 여러가지가 있겠지만 그 중 한가지 유용한 기능중에 하나는 자주 사용하는 와이파이 네트워크를 QR코드로 접속하는 방법입니다. ```WIFI:S:[SSID];T:[WPA|WEP];P:[PASSWORD];H:[true|false]``` 의 포맷을 지켜서 QR 코드를 생성하고 해당 QR 코드를 스마트폰으로 인식하면 [SSID] 에 해당하는 공유기로 접속이 가능합니다. 특히나 주변에 내 공유기가 노출되는것을 꺼려해서 공유기의 SSID를 숨겨놓은 상태라고 하더라도 접속이 가능하기 때문에 이런 경우 더 유용하게 사용이 가능합니다. 여기서 ```S``` 는 SSID, ```T``` 는 암호화프로토콜, ```P``` 는 비밀번호, ```H``` 는 SSID가 숨겨져있는지 아닌지에 대한 값으로 사용됩니다."
   ]
  },
  {
   "cell_type": "code",
   "execution_count": 4,
   "metadata": {},
   "outputs": [],
   "source": [
    "import pyqrcode\n",
    "data = \"WIFI:S:MYIPTIME;T:WPA;P:12345678000;H:false\"\n",
    "qrcode = pyqrcode.create(data, error='L', version=3, mode='binary')\n",
    "qrcode.png('code.png', scale=6, module_color=[0, 0, 0, 128], background=[0xff, 0xff, 0xcc])\n",
    "qrcode.show()"
   ]
  },
  {
   "cell_type": "markdown",
   "metadata": {},
   "source": [
    "위의 코드는 WIFI 접속용 QR 코드를 생성하는 샘플 코드 입니다.\n",
    "\n",
    "![image](images/Camera.jpg)\n",
    "\n",
    "위의 코드를 실행해서 생성된 QR 코드를 스마트폰으로 인식하면 위의 이미지에서처럼 네트워크 접속이 가능합니다. 위의 이미지에서는 갤럭시노트9의 기본 카메라 어플을 사용하였습니다."
   ]
  },
  {
   "cell_type": "markdown",
   "metadata": {},
   "source": [
    "### QR 코드로 스마트폰 연락처 추가하기\n",
    "\n",
    "명함 역시 QR코드가 많이 사용되는 부분입니디만 대부분 명함에는 회사 사이트의 주소 정도를 사용하는게 일반적입니다. 하지만 QR 코드에는 [[vCard 3.0]](https://www.ietf.org/rfc/rfc2426.txt) 포맷을 활용하여 명함데이터를 스마트폰의 연락처에 자동 등록을 할 수 있는 방법도 존재합니다. 주소록에 등록을 하기위해서 QR 코드의 데이터는 ```BEGIN:VCARD``` 로 시작해서 ```END:VCARD``` 로 끝나야 하며 ```N:이름```, ```FN:패밀리이름(성)```, ```TITLE:대표이사```, ```TEL;TYPE=WORK;CELL:010 12345678```, ```EMAIL:TYPE=WORK:abcd@naver.com```, ```URL;TYPE=WORK:http://www.naver.com``` 이런식의 데이터를 추가할 수 있습니다만 스마트폰 제조사마다 그리고 국가마다 인식하는 범위가 약간씩 다르기 때문에 이점에 유의해야 합니다. 예를 들어 삼성 갤럭시노트9 경우 ```N:이름``` 항목을 인식하지 않습니다."
   ]
  },
  {
   "cell_type": "code",
   "execution_count": null,
   "metadata": {},
   "outputs": [],
   "source": [
    "import pyqrcode\n",
    "data = \"BEGIN:VCARD\" + \"\\n\"\n",
    "data += \"VERSION:3.0\" + \"\\n\"\n",
    "data += \"FN:남박사\" + \"\\n\"\n",
    "data += \"TEL;TYPE=WORK;CELL:010 1234 5678\" + \"\\n\"\n",
    "data += \"EMAIL;TYPE=WORK:nkj2001@naver.com\" + \"\\n\"\n",
    "data += \"URL;TYPE=WORK:https://www.naver.com\" + \"\\n\"\n",
    "data += \"END:VCARD\" + \"\\n\"\n",
    "\n",
    "qrcode = pyqrcode.create(data, mode='binary', encoding=\"utf-8\")\n",
    "qrcode.png('code.png', scale=6, module_color=[0, 0, 0, 128], background=[0xff, 0xff, 0xcc])\n",
    "qrcode.show()"
   ]
  }
 ],
 "metadata": {
  "kernelspec": {
   "display_name": "Python 3 (ipykernel)",
   "language": "python",
   "name": "python3"
  },
  "language_info": {
   "codemirror_mode": {
    "name": "ipython",
    "version": 3
   },
   "file_extension": ".py",
   "mimetype": "text/x-python",
   "name": "python",
   "nbconvert_exporter": "python",
   "pygments_lexer": "ipython3",
   "version": "3.10.11"
  }
 },
 "nbformat": 4,
 "nbformat_minor": 4
}
