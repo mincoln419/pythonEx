{
 "cells": [
  {
   "cell_type": "markdown",
   "metadata": {},
   "source": [
    "### FFmpeg [[공식 다운로드 링크]](https://www.ffmpeg.org/download.html)\n",
    "\n",
    "이렇게 비디오와 오디오가 분리된 파일을 하나로 합쳐줘야 하는데 이 합치는 작업을 위해서 ffmpeg 이라는 프로그램이 필요합니다. ffmpeg 는 오픈소스 기반의 영상 인코더로 동영상 관련 기능이 아주 풍부한 유틸리티로서 실제 서비스중인 많은 영상관련 소프트웨어에서도 사용중인 라이브러리 입니다. 파이썬용 ffmpeg-python 을 사용하기 위해서라도 윈도우 기반인 경우 ffmpeg 를 먼저 설치해야만 파이썬에서도 사용이 가능하며 다른 영상관련 라이브러리에서도 ffmpeg 를 의존적으로 사용하는 경우가 많습니다.\n",
    "\n",
    "### 명령프롬프트 상에서 파일 합치기\n",
    "\n",
    "<pre style=\"background-color:#eeeeee;margin:0px;padding:10px;margin-top:15px;\">\n",
    "C:\\작업경로>ffmpeg.exe -i 비디오파일.mp4 -i 오디오파일.mp4 -c copy 합쳐질파일명.mp4\n",
    "</pre>\n",
    "\n",
    "<font color=\"red\" style=\"background-color:#eeeeee;\">윈도우 경우 ffmpeg 설치 후 설치 경로가 반드시 환경변수 path 상에 존재 해야하거나 프로젝트 파일이 ffmpeg.exe 실행 파일과 같은 경로에 존재해야 합니다.</font>\n",
    "\n",
    "<pre style=\"background-color:#eeeeee;margin:0px;padding:10px;margin-top:15px;\">\n",
    "import subprocess\n",
    "\n",
    "cmd = 'ffmpeg -y -i {} -i {}  -c copy {}'.format(video_filename, audio_filename, output_filename)\n",
    "subprocess.call(cmd, shell=True)\n",
    "</pre>\n",
    "\n",
    "파이썬에서는 ```subprocess``` 를 활용하여 위의 코드에서처럼 ffmpeg 를 실행시킬 수 있습니다.\n",
    "\n",
    "### 파이썬에서 FFmpeg [[공식링크]](https://github.com/kkroening/ffmpeg-python)\n",
    "\n",
    "> pip install ffmpeg-python\n",
    "\n",
    "FFmpeg 는 파이썬용으로 제공되는 라이브러리가 있습니다. 물론 이 ffmpeg-python 역시 윈도우의 경우 내부적으로는 ffmpeg.exe 를 subprocess 으로 호출하는 방식이기 때문에 반드시 위의 FFmpeg 가 먼저 설치되고 ffmpeg-python 라이브러리를 설치 해야 합니다. \n",
    "\n",
    "### 최종 코드"
   ]
  },
  {
   "cell_type": "code",
   "execution_count": null,
   "metadata": {},
   "outputs": [],
   "source": [
    "from urllib.request import Request, urlopen\n",
    "import json\n",
    "import ffmpeg\n",
    "import subprocess\n",
    "\n",
    "def download_url(data, filename):\n",
    "    if data is None:\n",
    "        print(\"Data is None\")\n",
    "        return None\n",
    "    sample_url = data[\"url\"]\n",
    "    quality = data[\"quality\"]\n",
    "    print(\"다운로드 주소 >>>>>>>>\", sample_url, quality)\n",
    "\n",
    "    request = Request(sample_url, headers=header)\n",
    "    r = urlopen(request)\n",
    "    filesize = int(r.headers[\"Content-Length\"])\n",
    "    save_filename = \"{}\".format(filename)\n",
    "    print(\"다운로드 사이즈 >>>>>>>\", filesize)\n",
    "\n",
    "    download_size = 0\n",
    "    block_size = 8129\n",
    "    with open(save_filename, \"wb\") as f:\n",
    "        while True:\n",
    "            buffer = r.read(block_size)\n",
    "            if not buffer:\n",
    "                break\n",
    "            download_size += len(buffer)\n",
    "            f.write(buffer)\n",
    "            status = \"{:10d} [{:03.2f} %]\".format(download_size, download_size * 100.0 / filesize)\n",
    "            status += chr(8) * (len(status) + 1)\n",
    "            print(status)\n",
    "    print(\">>>> {} 다운로드 완료 <<<<\".format(filename))\n",
    "\n",
    "header = {\n",
    "    \"User-Agent\": \"Mozilla/5.0 (Windows NT 10.0; Win64; x64) AppleWebKit/537.36 (KHTML, like Gecko) Chrome/79.0.3945.88 Safari/537.36\",\n",
    "    \"Referer\": \"https://youtube.com\"\n",
    "}\n",
    "\n",
    "video_id = \"3-mHctyi3_Y\"\n",
    "watch_url = \"https://www.youtube.com/watch?v={}\".format(video_id)\n",
    "\n",
    "watch_html = urlopen(watch_url).read().decode(\"utf-8\")\n",
    "start_str = \"ytInitialPlayerResponse = \"\n",
    "start_index = watch_html.find(start_str)\n",
    "end_index = watch_html.find(\"};\", start_index + 1) if start_index >= 0 else 0\n",
    "\n",
    "if start_index < end_index:\n",
    "    h = watch_html[start_index + len(start_str):end_index + 1]\n",
    "    _json = json.loads(h)\n",
    "    aformats = _json['streamingData']['adaptiveFormats']\n",
    "    video = next((item for item in aformats if item[\"itag\"] == 137), None)\n",
    "    audio = next((item for item in aformats if item[\"itag\"] == 140), None)\n",
    "\n",
    "    video_filename = \"{}_video.mp4\".format(video_id)\n",
    "    audio_filename = \"{}_audio.mp4\".format(video_id)\n",
    "    download_url(video, video_filename)\n",
    "    download_url(audio, audio_filename)\n",
    "\n",
    "    input_v = ffmpeg.input(video_filename)\n",
    "    input_a = ffmpeg.input(audio_filename)\n",
    "    output_filename = \"{}_all.mp4\".format(video_id)\n",
    "\n",
    "    ffmpeg.output(input_v, input_a, output_filename, vcodec='copy', acodec='copy').run()\n",
    "    print(\">>> WORK COMPLETE!!! <<<\")"
   ]
  },
  {
   "cell_type": "markdown",
   "metadata": {},
   "source": [
    "위의 코드는 유튜브에서 ```video_id``` 에 해당하는 HD 1080 화질의 video 영상과 오디오 파일 2개를 다운로드 하고 ffmpeg-python 라이브러리를 사용해서 합치는 최종 코드 입니다.\n",
    "\n",
    "### 외부 라이브러리\n",
    "위의 샘플 파이썬 예제에서는 동영상의 화질을 선택할 수도 없고 여러가지 불편한 점이 많이 있습니다. 기본적으로 유튜브 동영상을 어떻게 다운로드 하는지 알았으니 이미 제작되어 많이 사용되는 외부 라이브러리를 활용하여 유튜브 동영상 다운로드를 만들어보도록 하겠습니다. 이 강좌에서 사용할 라이브러리는 pytube 와 youtube_dl 라이브러리 2가지를 사용해보도록 하겠습니다.\n",
    "\n",
    "```pip install pytube youtube_dl```"
   ]
  },
  {
   "cell_type": "code",
   "execution_count": null,
   "metadata": {},
   "outputs": [],
   "source": [
    "from pytube import YouTube\n",
    "\n",
    "url = \"https://www.youtube.com/watch?v=3-mHctyi3_Y\"\n",
    "yt = YouTube(url)\n",
    "print(yt.title)\n",
    "\n",
    "print(\"전체 목록 출력\")\n",
    "lists = yt.streams.all()\n",
    "for l in lists:\n",
    "    print(l)\n",
    "\n",
    "print(\"비디오 해상도순 출력\")\n",
    "vlists = yt.streams.filter(adaptive=True, file_extension='mp4', only_video=True).order_by('resolution').desc().all()\n",
    "for l in vlists:\n",
    "    print(l)\n",
    "\n",
    "print(\"오디오 해상도순 출력\")\n",
    "alists = yt.streams.filter(adaptive=True, file_extension='mp4', only_audio=True).order_by('abr').desc().all()\n",
    "for l in alists:\n",
    "    print(l)"
   ]
  },
  {
   "cell_type": "markdown",
   "metadata": {},
   "source": [
    "### pytube 다운로드 샘플"
   ]
  },
  {
   "cell_type": "code",
   "execution_count": 1,
   "metadata": {},
   "outputs": [
    {
     "name": "stdout",
     "output_type": "stream",
     "text": [
      "다운로드 시작 파이썬 준비끝! 파이썬 설치 및 비쥬얼스튜디오 코드 설치방법\n",
      "Completed\n"
     ]
    }
   ],
   "source": [
    "from pytube import YouTube\n",
    "import requests\n",
    "import subprocess\n",
    "import os\n",
    "\n",
    "current_path = os.path.dirname(os.path.realpath(__name__))\n",
    "url = \"https://www.youtube.com/watch?v=3-mHctyi3_Y\"\n",
    "yt = YouTube(url)\n",
    "\n",
    "title = yt.title\n",
    "print(\"다운로드 시작 {}\".format(title))\n",
    "\n",
    "yt.streams.filter(adaptive=True, file_extension='mp4', only_video=True).order_by('resolution').desc().first().download('./', 'video')\n",
    "yt.streams.filter(adaptive=True, file_extension='mp4', only_audio=True).order_by('abr').desc().first().download('./', 'audio')\n",
    "output = ''\n",
    "\n",
    "filename = title.replace(\"/\", \"-\")\n",
    "result = subprocess.Popen(['ffmpeg', '-y', '-i', current_path + '/video.mp4', '-i', current_path + '/audio.mp4', current_path + '/' + filename + '.mp4'], stdout=subprocess.PIPE, stderr=subprocess.PIPE)\n",
    "out, err = result.communicate()\n",
    "exitcode = result.returncode\n",
    "if exitcode != 0:\n",
    "    print(exitcode, out.decode('utf8'), err.decode('utf8'))\n",
    "else:\n",
    "    print('Completed')"
   ]
  },
  {
   "cell_type": "markdown",
   "metadata": {},
   "source": [
    "### youtube_dl 다운로드 샘플"
   ]
  },
  {
   "cell_type": "code",
   "execution_count": null,
   "metadata": {},
   "outputs": [],
   "source": [
    "import youtube_dl\n",
    "\n",
    "url = \"https://www.youtube.com/watch?v=3-mHctyi3_Y\"\n",
    "\n",
    "ydl_opts = {\n",
    "    'format': 'best/best',      # 가장 좋은 화질로 선택(화질을 선택하여 다운로드 가능)\n",
    "    'writesubtitles': True,   # 자막 다운로드(자막이 없는 경우 다운로드 X)\n",
    "    'writethumbnail': True,   # 영상 thumbnail 다운로드\n",
    "    'writeautomaticsub': True,  # 자동 생성된 자막 다운로드\n",
    "    'subtitleslangs': 'kr'      # 자막 언어가 영어인 경우(다른 언어로 변경 가능)\n",
    "}\n",
    "try:\n",
    "    with youtube_dl.YoutubeDL(ydl_opts) as ydl:\n",
    "        info_dict = ydl.extract_info(url, download=True)\n",
    "        filename = ydl.prepare_filename(info_dict)\n",
    "        print(\"다운로드 성공 {}\".format(filename))\n",
    "except Exception as e:\n",
    "    print('error', e)"
   ]
  }
 ],
 "metadata": {
  "kernelspec": {
   "display_name": "Python 3",
   "language": "python",
   "name": "python3"
  },
  "language_info": {
   "codemirror_mode": {
    "name": "ipython",
    "version": 3
   },
   "file_extension": ".py",
   "mimetype": "text/x-python",
   "name": "python",
   "nbconvert_exporter": "python",
   "pygments_lexer": "ipython3",
   "version": "3.6.3"
  }
 },
 "nbformat": 4,
 "nbformat_minor": 2
}
