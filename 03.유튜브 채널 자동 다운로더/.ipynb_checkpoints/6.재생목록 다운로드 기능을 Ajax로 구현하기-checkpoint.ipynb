{
 "cells": [
  {
   "cell_type": "markdown",
   "metadata": {},
   "source": [
    "# Ajax\n",
    "\n",
    "- Asynchronous JavaScript and XML\n",
    "- 웹서버와 비동기적인 방식으로 데이터와 상호작용하기 위해 사용하는 기법\n",
    "\n",
    "기존의 웹은 일반적으로 폼을 전송하는 방식으로 데이터를 처리하는데 이는 불필요한 트래픽을 유발하는 단점이 있습니다. 예를 들어 50개의 게시물이 있는 게시판 목록에서 중간에 한개의 게시물을 체크하여 삭제하는 기능이 있다고 가정했을 때 기존의 폼 방식은 체크된 데이터의 인덱스 정보를 삭제 기능이 있는 주소로 넘겨줄것이고 이때 페이지 이동이 발생합니다. \n",
    "\n",
    "삭제 기능이 있는 페이지에서는 해당 데이터를 DB에서 삭제하고 다시 리스트 목록이 있던 페이지로 웹페이지를 리다이렉트 시켜주게 되며 2번째 페이지 이동이 발생합니다. 이 과정에서 불필요한 트래픽 발생을 방지하기 위해 Ajax 방식으로 웹페이지를 작성하게 되면 리스트에서 삭제 정보만 삭제 기능이 있는 페이지로 넘겨주는데 이때 페이지 이동을 하지 않고 처리할 수 있습니다.\n",
    "\n",
    "\n",
    "### 다운로드 링크 수정\n",
    "이제 사용자가 동영상 리스트에서 체크를 하고 다운로드 버튼을 클릭했을때 동작할 수 있게 코드를 수정해야 합니다. 여기서 가장 먼저 할 일은 다운로드 링크를 클릭했을때 어떤 항목들이 체크되어있는지 구해오는것 입니다."
   ]
  },
  {
   "cell_type": "code",
   "execution_count": null,
   "metadata": {},
   "outputs": [],
   "source": [
    "%%html\n",
    "<script>\n",
    "    function download() {\n",
    "        var vids = []\n",
    "        // name이 vids 인 checkbox에서 checked 된 요소를 반복한다.\n",
    "        $(\"input[name=vids]:checked\").each(function() {\n",
    "            var vid = $(this).val();\n",
    "            vids.push(vid)\n",
    "        });\n",
    "        console.log(vids);\n",
    "    }\n",
    "</script>\n",
    "\n",
    "<a href=\"javascript:download()\">다운로드</a>"
   ]
  },
  {
   "cell_type": "markdown",
   "metadata": {},
   "source": [
    "html 소스에 download() 라는 이름의 자바스크립트 함수를 작성하고 다운로드 링크를 download() 함수가 호출되게 수정합니다. 이제 사용자가 다운로드 링크를 클릭하면 해당 download 자바스크립트 함수가 호출되게 됩니다. 물론 다운로드 링크는 &#60;A&#62; 태그를 이용해서 작성하는 방법 외에도 여려가지 방법이 있습니다.\n",
    "\n",
    "```var vids = []```\n",
    "\n",
    "일단 사용자가 체크한 체크 항목의 값을 저장할 vids 라는 빈배열 변수를 선언합니다.\n",
    "\n",
    "jquery 와 each() 함수를 사용하여 input 형태의 name 이 vids 이며 checked 된 항목을 반복하여 해당 요소의 value 값을 vids 배열에 추가 합니다. 이렇게 사용자가 체크한 체크박스의 항목 (여기서는 각 비디오의 vid 값) 을 구할 수 있습니다. 이렇게 구해진 값을 이제 서버쪽으로 전달해야 합니다. "
   ]
  },
  {
   "cell_type": "code",
   "execution_count": null,
   "metadata": {},
   "outputs": [],
   "source": [
    "%%html\n",
    "<script>\n",
    "function download() {\n",
    "        var vids = []\n",
    "        // name이 vids 인 checkbox에서 checked 된 요소를 반복한다.\n",
    "        $(\"input[name=vids]:checked\").each(function() {\n",
    "            var vid = $(this).val();\n",
    "            vids.push(vid)\n",
    "        });\n",
    "        for(var i = 0 ; i < vids.length ; i++) {\n",
    "            vid = vids[i];\n",
    "            $.ajax({\n",
    "                type: \"POST\",\n",
    "                url: \"/downloads\",\n",
    "                contentType: \"application/json\",\n",
    "                dataType: \"JSON\",\n",
    "                data: JSON.stringify(vid)\n",
    "            });\n",
    "        }\n",
    "    }\n",
    "</script>"
   ]
  },
  {
   "cell_type": "markdown",
   "metadata": {},
   "source": [
    "ajax 를 사용하여 POST 방식으로 /downloads 라는 URI 에 vids 데이터를 JSON 형태로 전송해주는 코드 입니다. 여기서 중요한 부분은 dataType 과 contentType 을 json 형태로 넘겨주어야 우리가 작성하는 플라스크에서도 json 형태로 데이터를 받을 수 있습니다. JSON 은 파이썬의 DICT 형태와 유사한 자료형이라고 볼 수 있습니다.\n",
    "\n",
    "위의 ```each``` 안에서 반복을 해서 배열에 담고 그걸 다시 for 문으로 반복하는 이유는 차후 동시 다운로드 갯수 제한등의 기능을 확장할 수 도 있기 때문에 이렇게 작성한것일뿐 특별한 이유는 없습니다. 위의 each 반복문 안에서 ajax 코드를 작성해도 상관없습니다."
   ]
  },
  {
   "cell_type": "code",
   "execution_count": null,
   "metadata": {},
   "outputs": [],
   "source": [
    "@app.route(\"/downloads\", methods=[\"POST\"])\n",
    "def downloads():\n",
    "    vids = request.get_json()\n",
    "    print(vids)\n",
    "    return \"\""
   ]
  },
  {
   "cell_type": "markdown",
   "metadata": {},
   "source": [
    "플라스크 서버쪽에 데이터가 제대로 넘어오는지 downloads 함수를 작성하고 get_json() 함수를 사용하여 데이터를 받은 후 print 문으로 화면에 출력되는지 확인해봅니다."
   ]
  },
  {
   "cell_type": "markdown",
   "metadata": {},
   "source": [
    "### youtube_dl 을 사용하여 동영상 다운로드 기능 구현"
   ]
  },
  {
   "cell_type": "code",
   "execution_count": null,
   "metadata": {},
   "outputs": [],
   "source": [
    "def download_from_youtube(vid):\n",
    "    url = \"https://www.youtube.com/watch?v={}\".format(vid)\n",
    "\n",
    "    ydl_opts = {\n",
    "        'format': 'best/best',      # 가장 좋은 화질로 선택(화질을 선택하여 다운로드 가능)\n",
    "        'writesubtitles': 'best',   # 자막 다운로드(자막이 없는 경우 다운로드 X)\n",
    "        'writethumbnail': 'best',   # 영상 thumbnail 다운로드\n",
    "        'writeautomaticsub': True,  # 자동 생성된 자막 다운로드\n",
    "        'subtitleslangs': 'kr'      # 자막 언어가 영어인 경우(다른 언어로 변경 가능)\n",
    "    }\n",
    "    try:\n",
    "        with youtube_dl.YoutubeDL(ydl_opts) as ydl:\n",
    "            info_dict = ydl.extract_info(url, download=True)\n",
    "            filename = ydl.prepare_filename(info_dict)\n",
    "            print(\"다운로드 성공 {}\".format(filename))\n",
    "    except Exception as e:\n",
    "        print('error', e)\n",
    "\n",
    "@app.route(\"/downloads\", methods=[\"POST\"])\n",
    "def downloads():\n",
    "    vid = request.get_json()\n",
    "    download_from_youtube(vid)\n",
    "    return jsonify({\"result\": \"success\", \"vid\": vid})"
   ]
  },
  {
   "cell_type": "markdown",
   "metadata": {},
   "source": [
    "첫번째 강좌에서 진행한 youtube_dl 라이브러리를 이용해 다운로드 기능을 구현했던 코드를 download_from_youtube(vid) 라는 이름의 함수로 재작성 하였습니다. 이 함수는 vid 라는 인자값을 받아서 유튜브 영상을 다운로드 하게 됩니다. \n",
    "\n",
    "기존의 downloads() 함수 역시 vids 의 리스트로 넘어온 vid 값을 반복하여 download_from_youtube 함수를 호출합니다. 다운로드가 모두 완료되면 다시 클라이언트쪽으로 ```{\"result\": \"success\", \"vid\": vid}``` 라는 값을 리턴하게 작성하였습니다. 이 값은 최종적으로 ```/downloads``` 를 호출한 클라이언트의 ajax 함수에서 받아서 처리 해야 합니다.\n",
    "\n",
    "이제 flask 를 구동하여 웹페이지를 리로드 한 후 영상을 체크하여 다운로드 링크를 클릭해봅니다.\n",
    "\n",
    "![8.jpg](images/8.jpg)\n",
    "\n",
    "위 이미지에서 처럼 다운로드가 문제 없이 동작했습니다."
   ]
  },
  {
   "cell_type": "code",
   "execution_count": null,
   "metadata": {},
   "outputs": [],
   "source": [
    "%%html\n",
    "\n",
    "<script>\n",
    "    function download() {\n",
    "        var vids = []\n",
    "        // name이 vids 인 checkbox에서 checked 된 요소를 반복한다.\n",
    "        $(\"input[name=vids]:checked\").each(function() {\n",
    "            var vid = $(this).val();\n",
    "            vids.push(vid)\n",
    "        });\n",
    "        for(var i = 0 ; i < vids.length ; i++) {\n",
    "            vid = vids[i];\n",
    "            $.ajax({\n",
    "                type: \"POST\",\n",
    "                url: \"/downloads\",\n",
    "                contentType: \"application/json\",\n",
    "                dataType: \"JSON\",\n",
    "                data: JSON.stringify(vid),\n",
    "                success: function(data) {\n",
    "                    console.log(data);\n",
    "                },\n",
    "                error: function(e) {\n",
    "                    alert(e);\n",
    "                }\n",
    "            });\n",
    "        }\n",
    "    }\n",
    "</script>"
   ]
  },
  {
   "cell_type": "markdown",
   "metadata": {},
   "source": [
    "기존의 클라이언트 쪽의 download() 자바스크립트 함수에 서버에서 완료되었을경우 처리할 명령을 추가해야 합니다. ```success: function() {}``` 을 작성하면 해당 ajax 통신이 성공적으로 수행되면 호출 되는 부분입니다. ```error: function() {}``` 부분은 서버 통신중 문제가 발생되면 호출 되는 구간입니다. 여기서는 특별한 내용없이 브라우저의 개발자 도구를 통해 확인만 하기 위해 ```console.log()``` 함수를 이용하여 출력만 해보도록 하겠습니다.\n",
    "\n",
    "![11.jpg](images/11.jpg)\n",
    "\n",
    "위의 이미지에서 처럼 다운로드 완료 후 브라우저 콘솔창에 정상적으로 출력되는것을 확인할 수 있습니다."
   ]
  }
 ],
 "metadata": {
  "kernelspec": {
   "display_name": "Python 3",
   "language": "python",
   "name": "python3"
  },
  "language_info": {
   "codemirror_mode": {
    "name": "ipython",
    "version": 3
   },
   "file_extension": ".py",
   "mimetype": "text/x-python",
   "name": "python",
   "nbconvert_exporter": "python",
   "pygments_lexer": "ipython3",
   "version": "3.6.3"
  }
 },
 "nbformat": 4,
 "nbformat_minor": 2
}
