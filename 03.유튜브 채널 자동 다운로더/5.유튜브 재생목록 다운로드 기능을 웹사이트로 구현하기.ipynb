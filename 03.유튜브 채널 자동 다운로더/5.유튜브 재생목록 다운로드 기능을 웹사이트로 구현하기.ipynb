{
 "cells": [
  {
   "cell_type": "markdown",
   "metadata": {},
   "source": [
    "# 유튜브 다운로드 서비스\n",
    "\n",
    "**유튜브 동영상은 모두 저작권이 있는 저작물입니다. 타인의 저작물을 저작자의 허락없이는 어떠한 용도로도 사용할 수 없다는 점을 분명히 알아야 합니다. 이 강좌는 교육목적으로 유튜브 다운로드 기능을 구현하는것일뿐 입니다. 또한 유튜브 다운로드 서비스도 플라스크 기반의 간단한 웹페이지를 만드는 교육적인 목적일뿐 실제 서비스를 할 수 있는 내용은 아닙니다.**\n",
    "\n",
    "\n",
    "Flask 는 파이썬으로 웹 프로그래밍을 가능하게 해주는 웹 프레임워크 라고 이전 QR코드 강좌에서 얘기했습니다. 사실 웹 사이트의 개념도 있지만 파이썬으로 제작한 프로그램을 배포하는 목적으로도 자주 사용되기도 합니다. 이전까지 작성한 유튜브 재생 목록 다운로드 기능을 Flask 를 활용해서 웹서비스 형태로 제작을 해보도록 하겠습니다."
   ]
  },
  {
   "cell_type": "code",
   "execution_count": null,
   "metadata": {},
   "outputs": [],
   "source": [
    "from flask import Flask\n",
    "from flask import render_template\n",
    "from flask import request\n",
    "\n",
    "app = Flask(__name__)\n",
    "\n",
    "@app.route(\"/\", methods=[\"GET\", \"POST\"])\n",
    "def index():\n",
    "    if request.method == \"GET\":\n",
    "        return render_template(\"index_1.html\")\n",
    "    else:\n",
    "        _url = request.form.get(\"url\")\n",
    "        if _url.find(\"/playlist?list=\") < 0:\n",
    "            return \"Error\"\n",
    "\n",
    "        return _url\n",
    "\n",
    "\n",
    "if __name__ == \"__main__\":\n",
    "    app.run(host=\"0.0.0.0\", debug=True, port=9900)"
   ]
  },
  {
   "cell_type": "code",
   "execution_count": null,
   "metadata": {},
   "outputs": [],
   "source": [
    "%%html\n",
    "\n",
    "<!-- index_1.html-->\n",
    "\n",
    "<script src=\"https://code.jquery.com/jquery-3.4.1.min.js\"></script>\n",
    "\n",
    "<form id=\"form\" action=\"/\" method=\"POST\">\n",
    "    Playlist 주소: <input type=\"text\" name=\"url\" id=\"url\" value=\"\">\n",
    "    <input type=\"submit\" value=\"체크\">\n",
    "</form>\n"
   ]
  },
  {
   "cell_type": "markdown",
   "metadata": {},
   "source": [
    "### 기본 로직\n",
    "\n",
    "```app.run(host=\"0.0.0.0\", debug=True, port=9900)``` 플라스크 인스턴스를 디버그모드로 9900번 포트로 구동합니다. ``` @app.route(\"/\", methods=[\"GET\", \"POST\"]) ``` 루트 라우트를 GET, POST 방식을 모두 사용가능하게 선언합니다. http://localhost:9900/ 이 주소로 접속하면 루트가 됩니다. ```if request.method == \"GET\":``` 루트 주소를 GET 방식으로 접근하게 된다면 ```return render_template(\"index_1.html\")```  특별한 기능 없이 index_1.html 을 그냥 웹브라우저에 출력합니다.\n",
    "\n",
    "### jquery [[jquery cdn]](https://code.jquery.com/)\n",
    "웹페이지의 요소들을 보다 쉽게 접근하고 관리, 사용하기 위해서 jquery 를 사용합니다.\n",
    "\n",
    "\n",
    "### form\n",
    "유튜브 재생목록을 다운로드 하기 위해서 서버쪽에서 필요한 정보는 플레이리스트의 URL 주소값이 필요합니다. URL 데이터를 입력받을 수 있는 ```<input type=\"text\">``` 요소를 ```<form>``` 요소로 감싸 데이터를 전송 할 수 있게 해야 합니다. ```<form>``` 태그에는 폼데이터를 전송할 방식 ```method=GET | POST``` 와 어디로 데이터를 넘길지 ```action=\"주소값\"``` 을 표기해야 합니다. 그리고 해당 폼을 전송할 수 있는 버튼인 ```<input type=\"submit\">```을 생성합니다.\n",
    "\n",
    "### html\n",
    "index_1.html 에서는 ```<input type=\"text\" name=\"url\" id=\"url\" value=\"\">``` 처럼 id 값과 name값이 url 이라는 텍스트 형태의 입력 박스를 만듭니다. 이 입력박스에서 사용자에게 유튜브 플레이 리스트의 주소를 입력받습니다. \n",
    "\n",
    "![4.jpg](images/4.jpg)\n",
    "\n",
    "해당 주소로 접속을 하면 최초 GET 방식으로 동작을 하게 되므로 위의 이미지에서 처럼 웹페이지를 볼 수 있게 됩니다. 여기서 PlayList 주소에 원하는 유튜브 재생목록 주소를 입력하고 체크를 URL로 입력된 값이 다시 / 에 POST 형태로 전달되며 해당 URL값 주소의 모든 동영상 리스트를 파싱하는 기능을 추가해야 합니다. 위의 처럼 코딩을 하고 주소를 입력 후 체크 버튼을 누르면 현재는 단순히 입력된 URL 변수 값이 화면에 출력되기만 하게 됩니다."
   ]
  },
  {
   "cell_type": "markdown",
   "metadata": {},
   "source": [
    "### 플레이 리스트 파싱"
   ]
  },
  {
   "cell_type": "code",
   "execution_count": null,
   "metadata": {},
   "outputs": [],
   "source": [
    "import requests\n",
    "import pprint\n",
    "import json\n",
    "\n",
    "def get_playlist_str(url):\n",
    "    results = []\n",
    "    r = requests.get(url, headers={\"user-agent\": \"Mozilla/5.0 (Windows NT 10.0; Win64; x64) AppleWebKit/537.36 (KHTML, like Gecko) Chrome/78.0.3904.108 Safari/537.36\"})\n",
    "    find_text = 'var ytInitialData = '\n",
    "    start_index = r.text.find(find_text)\n",
    "    if start_index >= 0:\n",
    "        end_index = r.text.find(\"};\", start_index)\n",
    "        if end_index > start_index:\n",
    "            str_data = r.text[start_index + len(find_text) : end_index + 1]\n",
    "            list_str = str_data.split('playlistVideoRenderer\":{')[1:]\n",
    "            json_data = json.loads(str_data)\n",
    "            datas = json_data[\"contents\"][\"twoColumnBrowseResultsRenderer\"][\"tabs\"][0][\"tabRenderer\"][\"content\"][\"sectionListRenderer\"][\"contents\"][0][\"itemSectionRenderer\"][\"contents\"][0][\"playlistVideoListRenderer\"][\"contents\"]\n",
    "            \n",
    "            for d in datas:\n",
    "                vid = d[\"playlistVideoRenderer\"][\"videoId\"]\n",
    "                title = d[\"playlistVideoRenderer\"][\"title\"][\"runs\"][0][\"text\"]\n",
    "                length = d[\"playlistVideoRenderer\"][\"lengthSeconds\"]\n",
    "                thumbnail = d[\"playlistVideoRenderer\"][\"thumbnail\"][\"thumbnails\"][0][\"url\"]\n",
    "                isplay = d[\"playlistVideoRenderer\"][\"isPlayable\"]\n",
    "                \n",
    "                results.append({\n",
    "                    \"vid\": vid,\n",
    "                    \"title\": title,\n",
    "                    \"isplay\": isplay,\n",
    "                    \"sec\": length,\n",
    "                    \"thumb\": thumbnail,\n",
    "                    \"url\": \"https://www.youtube.com/watch?v={}\".format(vid)\n",
    "                })\n",
    "\n",
    "    return results\n",
    "\n",
    "url = \"https://www.youtube.com/playlist?list=PLoYqJvK3JVbVPuumE5Wxa-ZA0Qy0QMkU8\"\n",
    "results = get_playlist_str(url)\n",
    "for r in results:\n",
    "    pprint.pprint(r)\n"
   ]
  },
  {
   "cell_type": "markdown",
   "metadata": {},
   "source": [
    "이전 강좌에서 진행했던 재생 목록을 파싱하는 함수를 약간 수정했습니다. 기존에 idx 값을 받지 않고 URL 값을 인자로 받게하였으며 썸네일 이미지의 URL 과 특정 영상은 링크는 존재하지만 재생이 안되는 경우가 있는데 이를 ```isplay``` 라는 값으로 확인이 가능해서 이 부부도 추가하였습니다. get_playlist_str() 함수는 결과적으로 필요한 정보를 dict 형태로 가공하여 list 에 담아 최종적으로 이 list 를 리턴하게 만들어졌습니다."
   ]
  },
  {
   "cell_type": "markdown",
   "metadata": {},
   "source": [
    "### index 함수 수정"
   ]
  },
  {
   "cell_type": "code",
   "execution_count": null,
   "metadata": {},
   "outputs": [],
   "source": [
    "from flask import Flask\n",
    "from flask import render_template\n",
    "from flask import request\n",
    "from flask import jsonify\n",
    "from flask import url_for\n",
    "from flask import send_from_directory\n",
    "from flask import abort\n",
    "\n",
    "import requests\n",
    "import re\n",
    "\n",
    "app = Flask(__name__)\n",
    "\n",
    "def get_playlist_str(url):\n",
    "    results = []\n",
    "    r = requests.get(url, headers={\"user-agent\": \"Mozilla/5.0 (Windows NT 10.0; Win64; x64) AppleWebKit/537.36 (KHTML, like Gecko) Chrome/78.0.3904.108 Safari/537.36\"})\n",
    "    find_text = 'var ytInitialData = '\n",
    "    start_index = r.text.find(find_text)\n",
    "    if start_index >= 0:\n",
    "        end_index = r.text.find(\"};\", start_index)\n",
    "        if end_index > start_index:\n",
    "            str_data = r.text[start_index + len(find_text) : end_index + 1]\n",
    "            list_str = str_data.split('playlistVideoRenderer\":{')[1:]\n",
    "            json_data = json.loads(str_data)\n",
    "            datas = json_data[\"contents\"][\"twoColumnBrowseResultsRenderer\"][\"tabs\"][0][\"tabRenderer\"][\"content\"][\"sectionListRenderer\"][\"contents\"][0][\"itemSectionRenderer\"][\"contents\"][0][\"playlistVideoListRenderer\"][\"contents\"]\n",
    "            \n",
    "            for d in datas:\n",
    "                vid = d[\"playlistVideoRenderer\"][\"videoId\"]\n",
    "                title = d[\"playlistVideoRenderer\"][\"title\"][\"runs\"][0][\"text\"]\n",
    "                length = d[\"playlistVideoRenderer\"][\"lengthSeconds\"]\n",
    "                thumbnail = d[\"playlistVideoRenderer\"][\"thumbnail\"][\"thumbnails\"][0][\"url\"]\n",
    "                isplay = d[\"playlistVideoRenderer\"][\"isPlayable\"]\n",
    "                \n",
    "                results.append({\n",
    "                    \"vid\": vid,\n",
    "                    \"title\": title,\n",
    "                    \"isplay\": isplay,\n",
    "                    \"sec\": length,\n",
    "                    \"thumb\": thumbnail,\n",
    "                    \"url\": \"https://www.youtube.com/watch?v={}\".format(vid)\n",
    "                })\n",
    "    return results\n",
    "\n",
    "@app.route(\"/\", methods=[\"GET\", \"POST\"])\n",
    "def index():\n",
    "    print(request.method)\n",
    "    if request.method == \"GET\":\n",
    "        return render_template(\"index_1.html\")\n",
    "    else:\n",
    "        _url = request.form.get(\"url\")\n",
    "        if _url.find(\"/playlist?list=\") < 0:\n",
    "            return \"Error\"\n",
    "\n",
    "        results = get_playlist_str(_url)\n",
    "        return render_template(\"index_1.html\", datas=results)\n",
    "\n",
    "\n",
    "if __name__ == \"__main__\":\n",
    "    app.run(host=\"0.0.0.0\", debug=True, port=9900)\n"
   ]
  },
  {
   "cell_type": "markdown",
   "metadata": {},
   "source": [
    "index() 함수에서 POST로 데이터가 넘어온 경우 ```get_playlist_str(_url)``` 함수에 ```_url``` 을 인자로 넘겨 해당 주소의 동영상 주소를 모두 추출하여 ```results``` 변수에 담습니다. 이렇게 구해온 동영상 리스트를 다시 index_1.html 에 ```datas``` 라는 이름의 인자로 넘겨서 실제 데이터는 html 페이지에서 출력합니다."
   ]
  },
  {
   "cell_type": "markdown",
   "metadata": {},
   "source": [
    "### 유튜브 플레이리스트 동영상 목록 출력"
   ]
  },
  {
   "cell_type": "code",
   "execution_count": null,
   "metadata": {},
   "outputs": [],
   "source": [
    "<script src=\"https://code.jquery.com/jquery-3.4.1.min.js\"></script>\n",
    "\n",
    "<form id=\"form\" action=\"/\" method=\"POST\">\n",
    "    Playlist 주소: <input type=\"text\" name=\"url\" id=\"url\" value=\"\">\n",
    "    <input type=\"submit\" value=\"체크\">\n",
    "</form>\n",
    "\n",
    "{% if datas|length > 0 %}\n",
    "    <table>\n",
    "    {% for d in datas %}\n",
    "        <tr>\n",
    "            <td><input type=\"checkbox\" name=\"vids\" value=\"{{d.vid}}\"></td>\n",
    "            <td><img src=\"{{d.thumb}}\" width=\"100\"></td>\n",
    "            <td>{{d.title}}</td>\n",
    "            <td><a href=\"{{d.url}}\">{{d.url}}</a></td>\n",
    "        </tr>\n",
    "    {% endfor %}\n",
    "    </table>\n",
    "    <a href=\"#\">다운로드</a>\n",
    "{% endif %}"
   ]
  },
  {
   "cell_type": "markdown",
   "metadata": {},
   "source": [
    "위의 코드를 보면 HTML 에서는 서버에서 넘어온 datas 의 갯수가 0 보다 클 경우 데이터가 있다고 가정하고 ```for```문을 통해 해당 datas의 데이터를 원하는 형태로 화면에 출력합니다.\n",
    "\n",
    "![6.jpg](images/6.jpg)\n",
    "\n",
    "### 다운로드 기능\n",
    "\n",
    "지금까지 flask 를 활용해서 playlist 주소를 받아 해당 플레이 목록의 영상 리스트를 구하고 이를 출력하는데까진 완료했습니다. 그런데 여기서 문제가 다운로드 기능을 어떻게 구현해야 하는것 입니다. 여기서 아래와 같이 잠깐 생각해봐야 할 문제가 있습니다.\n",
    "\n",
    "- FORM 형식으로 데이터를 주고 받을때 생기는 페이지 이동 문제\n",
    "- 특정 영상을 다운로드 하라고 Flask 서버에게 알리는 방식을 FORM 으로 전송하게 되는경우 서버에서 동영상 파일이 다운로드가 완료될 때까지 브라우저는 블럭된 상태 혹은 로딩상태가 되야 하는데 동영상의 특성상 시간이 오래 걸리는 문제(오랜 시간동안 브라우저가 멈춰있는걸로 보일 수 있습니다.)\n",
    "- 만약 링크 방식으로 다운로드를 요청하면 페이지가 이동해버리는 문제\n",
    "- 클라이언트에서 동영상 다운로드를 10개 요청하면 서버에서도 10개를 다운로드 해야 하는데 동시에 다운로드를 할 것인지 아니면 순차적으로 다운로드 할 것인지에 대한 문제\n",
    "- 서버에서 유튜브 다운로드를 완료 한 후에 다시 클라이언트에게 이 다운로드 된 파일을 알리거나 저장 할 수 있게 경로를 제공해줄 수 있는 방법에 대한 문제"
   ]
  }
 ],
 "metadata": {
  "kernelspec": {
   "display_name": "Python 3",
   "language": "python",
   "name": "python3"
  },
  "language_info": {
   "codemirror_mode": {
    "name": "ipython",
    "version": 3
   },
   "file_extension": ".py",
   "mimetype": "text/x-python",
   "name": "python",
   "nbconvert_exporter": "python",
   "pygments_lexer": "ipython3",
   "version": "3.6.3"
  }
 },
 "nbformat": 4,
 "nbformat_minor": 2
}
