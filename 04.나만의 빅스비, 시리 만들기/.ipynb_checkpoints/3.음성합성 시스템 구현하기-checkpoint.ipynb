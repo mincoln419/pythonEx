{
 "cells": [
  {
   "cell_type": "markdown",
   "metadata": {},
   "source": [
    "# 음성 합성 [Text-to-Speech]\n",
    "\n",
    "\n",
    "음성인식과 반대로 컴퓨터 프로그램을 통해 텍스트 데이터를 활용하여 사람의 목소리를 구현해 내는 기술 입니다. Text-to-Speech (TTS) 혹은 Speech Synthesis 라고도 합니다. 음성합성 기술은 장애인이나 문자를 읽을 수 없는 아이 혹은 외국인 등의 사람들에게 편리성을 제공하며 음성합성 기술이 발전함에 따라 오디오북, 국어사전 등의 활용도가 점점 더 높아지고 있는 추세 입니다.\n",
    "\n",
    "### 파이썬에서 음성합성\n",
    "\n",
    "파이썬에서는 대표적으로 구글 TTS 와 네이버 TTS 등이 있습니다.\n",
    "\n",
    "- Google Text to Speech API (gTTS)\n",
    "- <strike>Clova Speech Synthesis API (CSS)</strike> <font color=\"red\" style=\"font-weight:bold\">(서비스 중지)</font>\n",
    "\n",
    "\n",
    "### 오디오 파일 재생을 위한 라이브러리 설치\n",
    "\n",
    "```pip install playsound```"
   ]
  },
  {
   "cell_type": "markdown",
   "metadata": {},
   "source": [
    "### Google API 사용해보기\n",
    "\n",
    "<font color=\"red\">Google Cloud Text-to-Speech 는 월 0-400만자 까지 무료로 제공되며 초과시 1백만자당 $4.0 의 요금이 부과되는 유료서비스 입니다.</font>\n",
    "\n",
    "```pip install google-auth```<br>\n",
    "```pip install google-cloud-texttospeech```\n",
    "\n",
    "\n",
    "\n",
    "구글 Text-to-Speech 라이브러리를 사용하기 위해선 먼저 구글 인증에 필요한 google-auth 라이브러리와 Text-to-Speech 에 필요한 google-cloud-texttospeech 의 2개의 라이브러리를 설치 해야 합니다. \n",
    "\n",
    "<img src=\"images/7.jpg\" style=\"border:1px solid #000000\" width=\"900\"><br>\n",
    "주피터 노트북 [1.파이썬으로 음성인식 구현하기] 페이지에서 처럼 구글 콘솔 좌측 햄버거 메뉴버튼 클릭 > API 및 서비스 클릭 > 라이브러리 클릭 합니다. 이때 상단에 선택되어진 프로젝트명을 확인하시기 바랍니다. 여기서는 이전 주피터 노트북 [1.파이썬으로 음성인식 구현하기]에서 생성한 GoogleAPI 라는 프로젝트가 선택되어 있습니다.\n",
    "\n",
    "<img src=\"images/8.jpg\" style=\"border:1px solid #000000\" width=\"900\"><br>\n",
    "라이브러리 페이지가 나오면 검색창에 Text to speech 를 검색합니다.\n",
    "\n",
    "<img src=\"images/9.jpg\" style=\"border:1px solid #000000\" width=\"900\"><br>\n",
    "Cloud Text-to-Speech API 항목이 나오면 \"사용\" 버튼을 클릭합니다.\n",
    "\n",
    "주피터 노트북 [1.파이썬으로 음성인식 구현하기] 에서 생성한 JSON 파일을 현재 파이썬 파일이 위치한 곳에 복사해야 합니다. 해당 JSON 파일이 Google Cloud Text-to-Speech 사용을 인증할 인증 파일입니다. 만약 주피터노트북 [1.파이썬으로 음성인식 구현하기] 에서 사용된 프로젝트명이 다르면 다시 사용자 계정을 생성하고 JSON 파일을 다시 다운로드 해야 합니다."
   ]
  },
  {
   "cell_type": "code",
   "execution_count": null,
   "metadata": {},
   "outputs": [],
   "source": [
    "from google.oauth2 import service_account\n",
    "from google.cloud import texttospeech\n",
    "import playsound\n",
    "\n",
    "credentials = service_account.Credentials.from_service_account_file('GoogleAPI-d7c756f56463.json')\n",
    "\n",
    "\n",
    "def google_speak(text):\n",
    "    client = texttospeech.TextToSpeechClient(credentials=credentials)\n",
    "    input_text = texttospeech.SynthesisInput(text=text)\n",
    "    voice = texttospeech.VoiceSelectionParams(language_code=\"ko-KR\")\n",
    "    aconfig = texttospeech.AudioConfig(audio_encoding=texttospeech.AudioEncoding.MP3, speaking_rate=1.5)\n",
    "\n",
    "    response = client.synthesize_speech(\n",
    "        request={\"input\": input_text, \"voice\": voice, \"audio_config\": aconfig}\n",
    "    )\n",
    "\n",
    "    with open(\"output.mp3\", \"wb\") as out:\n",
    "        out.write(response.audio_content)\n",
    "    playsound.playsound(\"output.mp3\")\n",
    "\n",
    "    \n",
    "google_speak(\"안녕하세요 파이썬\")"
   ]
  },
  {
   "cell_type": "markdown",
   "metadata": {},
   "source": [
    "- ```credentials = service_account.Credentials.from_service_account_file('GoogleAPI-d7c756f56463.json')``` 구글 API 를 사용하기 위해선 사용자 계정에서 다운로드 한 JSON 파일을 사용해야 합니다. \n",
    "\n",
    "- ```client = texttospeech.TextToSpeechClient(credentials=credentials)``` 위에서 생성한 ```credentials``` 변수에 담긴 인증정보를 TextToSpeech 인스턴스 생성시 인자로 넘겨줍니다. 인증정보가 옳바르지 않다면 오류가 발생합니다.\n",
    "\n",
    "- ```aconfig = texttospeech.AudioConfig(audio_encoding=texttospeech.AudioEncoding.MP3, speaking_rate=1.5)``` 에 speaking_rate 는 오디오의 재생 속도를 설정하는 값 입니다.\n",
    "\n",
    "- ```response = client.synthesize_speech(request={\"input\": input_text, \"voice\": voice, \"audio_config\": aconfig})``` 위에서 생성한 text 설정값 목소리 설정값, 오디오 환경 설정값을 ```synthesize_speech()``` 함수에 전달하면 해당 함수가 오디오 데이터를 리턴해줍니다."
   ]
  },
  {
   "cell_type": "markdown",
   "metadata": {},
   "source": [
    "### gTTS 라이브러리 설치 [[gTTS 깃헙 링크]](https://github.com/pndurette/gTTS)\n",
    "\n",
    "```pip install gTTS```"
   ]
  },
  {
   "cell_type": "code",
   "execution_count": null,
   "metadata": {},
   "outputs": [],
   "source": [
    "from gtts import gTTS\n",
    "import playsound\n",
    "import os\n",
    "\n",
    "text = \"안녕하세요\"\n",
    "tts = gTTS(text=text, lang=\"ko\", slow=False)\n",
    "filename = \"voice.mp3\"\n",
    "tts.save(filename)\n",
    "playsound.playsound(filename)\n",
    "os.unlink(filename)"
   ]
  },
  {
   "cell_type": "markdown",
   "metadata": {},
   "source": [
    "위의 코드는 ```text``` 변수에 담긴 \"안녕하세요\" 라는 문자열 데이터를 gTTS 라이브러리를 사용하여 음성 합성을 하는 예제입니다.<br>\n",
    "gTTS 생성자의 인자값으로는 ```text=\"문자열데이터\" lang=\"언어\"``` 의 인자값을 사용할 수 있습니다.<br>\n",
    "gTTS 생성자로 넘긴 인자값에 의해 합성 된 결과를 ```save()``` 함수를 사용하여 오디오 파일로 저장 후 이를 ```playsound()``` 함수를 통해 재생하고 삭제합니다.<br>\n",
    "gTTS 오디오에서 영어는 여자 성우가 한글은 남자 성우의 목소리를 사용하고 있으며 이는 변경이 불가능 합니다.<br>\n",
    "lang=\"en\" 으로 언어를 영어로 설정한경우 text 데이터에 한글이 있으면 한글이 무시됩니다. 반대로 lang=\"ko\" 설정으로 언어가 한글인경우 텍스트 데이터에 영문이 있으면 이때는 무시하지 않습니다.\n",
    "lang=\"언어\" 형태는 [[IETF 언어태그]](https://ko.wikipedia.org/wiki/IETF_%EC%96%B8%EC%96%B4_%ED%83%9C%EA%B7%B8) 형식을 따르며 구글이 거의 대부분의 국가 언어를 제공합니다.\n",
    "\n",
    "\n",
    "### <strike>네이버 CSS</strike> [[공식링크]](https://developers.naver.com/products/clova/tts/)  <font color=\"red\"><서비스 중지!!!></font>\n",
    "\n",
    "네이버 클라우드 플랫폼에서 제공하는 네이버 CSS 는 사용전 네이버 클라우드 플랫폼에 가입 후 신청을 해야만 사용이 가능합니다. 월 이용글자 1,000 글자당 4원의 이용요금이 있는 유료서비스 입니다. 단 네이버 클라우드 플랫폼 신규 가입시 10만원 상당의 크레딧을 얻을 수 있어 10만원이 넘지 않는 선까지는 무료 처럼 사용이 가능합니다.\n",
    "네이버 CSS 는 한국어, 영어, 일어, 중국어 만 지원됩니다."
   ]
  },
  {
   "cell_type": "code",
   "execution_count": null,
   "metadata": {},
   "outputs": [],
   "source": [
    "import requests\n",
    "import playsound\n",
    "\n",
    "url = \"https://naveropenapi.apigw.ntruss.com/voice/v1/tts\"\n",
    "header = {\n",
    "    \"X-NCP-APIGW-API-KEY-ID\": CLIENT_ID,\n",
    "    \"X-NCP-APIGW-API-KEY\": CLIENT_SECRET\n",
    "}\n",
    "keyword = \"안녕하세요\"\n",
    "params = {\n",
    "    \"speaker\": \"mijin\",\n",
    "    \"speed\": 0,\n",
    "    \"text\": keyword,\n",
    "}\n",
    "r = requests.post(url, headers=header, data=params)\n",
    "if r.status_code == 200:\n",
    "    with open(\"_voice_naver.mp3\", \"wb\") as f:\n",
    "        f.write(r.content)\n",
    "    playsound.playsound(\"_voice_naver.mp3\")\n",
    "else:\n",
    "    print(\"Error {}\".format(r.status_code))"
   ]
  },
  {
   "cell_type": "markdown",
   "metadata": {},
   "source": [
    "네이버 CSS 는 네이버에서 제공하는 API 를 직접 호출하는 방식으로 사용합니다. 네이버 클라우드 플랫폼에 가입하면 발부되는 Client ID 와 Client Secret 값을 정해진 URL 호출시 헤더값에 설정하여 호출하는 방식으로 사용할 수 있습니다. [[네이버 CSS API]](https://apidocs.ncloud.com/ko/ai-naver/clova_speech_synthesis/)\n",
    "\n",
    "params 값에는 speaker 키의 값으로 mijin(여성음색), jinho(남성음색) 을 설정할 수 있고 speed 값은 -5 에서 5 사이의 정수값으로 음성의 재생 속도를 설정 할 수 있습니다. text 값에 설정된 값이 CSS 를 통해 음성파일로 리턴되게 됩니다.\n",
    "\n",
    "<font color=\"red\">네이버에서 제공하던 CSS 서비스는 2021년 2월경 월 90,000원의 Premium 서비스만 남기고 모두 삭제되었습니다.</font>\n",
    "\n",
    "\n",
    "### 윈도우에서의 TTS\n",
    "\n",
    "Microsoft Windows 운영체제에는 기본적으로 제공되는 SAPI 라는게 있습니다. 이는 Speech Application Program Interface 로 개발자가 텍스트 음성 변환 및 음성인식 기능을 사용할 수 있게 하기 위해 기본적으로 운영체제가 지원하는 인터페이스 입니다. 이는 내 컴퓨터가 윈도우일때 그리고 나 혼자만 사용하는 프로그램에서만 동작 가능합니다. [[SAPI 공식 문서]](https://docs.microsoft.com/en-us/previous-versions/windows/desktop/ms723627(v=vs.85))\n",
    "\n",
    "\n",
    "> pip install pywin32 pypiwin32"
   ]
  },
  {
   "cell_type": "code",
   "execution_count": null,
   "metadata": {},
   "outputs": [],
   "source": [
    "import win32com.client as wincl\n",
    "\n",
    "def sapi(text):\n",
    "    speak = wincl.Dispatch(\"SAPI.SpVoice\")\n",
    "    speak.Speak(text)\n",
    "\n",
    "sapi(\"테스트\")"
   ]
  },
  {
   "cell_type": "markdown",
   "metadata": {},
   "source": [
    "윈도우에는 여러가지 프로그램들이 COM(Component Object Model) 이라는 기술로 어떤 언어로 제작되었던 다른 언어에서 손쉽게 사용가능한 방법을 제시하고 있습니다. 파이썬에서 윈도우의 COM 객체를 사용하기 위해선 win32com.client 라이브러리의 Dispatch 함수를 사용해야 합니다. \n",
    "\n",
    "<img src=\"images/3.jpg\" style=\"border:1px solid #000000\">\n",
    "\n",
    "```gci HKLM:\\Software\\Classes -ea 0| ? {$_.PSChildName -match '^\\w+\\.\\w+$' -and (gp \"$($_.PSPath)\\CLSID\" -ea 0)} | ft PSChildName```\n",
    "\n",
    "윈도우 파워쉘에서 위의 코드를 입력하면 내 컴퓨터에 설치된 모든 COM 요소들을 확인할 수 있습니다."
   ]
  }
 ],
 "metadata": {
  "kernelspec": {
   "display_name": "Python 3",
   "language": "python",
   "name": "python3"
  },
  "language_info": {
   "codemirror_mode": {
    "name": "ipython",
    "version": 3
   },
   "file_extension": ".py",
   "mimetype": "text/x-python",
   "name": "python",
   "nbconvert_exporter": "python",
   "pygments_lexer": "ipython3",
   "version": "3.6.3"
  }
 },
 "nbformat": 4,
 "nbformat_minor": 2
}
