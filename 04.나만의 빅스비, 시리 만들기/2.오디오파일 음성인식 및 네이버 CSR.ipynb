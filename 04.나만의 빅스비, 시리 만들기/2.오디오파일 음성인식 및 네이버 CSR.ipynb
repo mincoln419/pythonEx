{
 "cells": [
  {
   "cell_type": "markdown",
   "metadata": {},
   "source": [
    "# 오디오 파일에서의 음성인식\n",
    "\n",
    "SpeechRecognition 이 지원하는 오디오 파일 포맷\n",
    "\n",
    "- Wav\n",
    "- AIFF\n",
    "- AIFF-C\n",
    "- FLAC"
   ]
  },
  {
   "cell_type": "code",
   "execution_count": 10,
   "metadata": {},
   "outputs": [
    {
     "name": "stdout",
     "output_type": "stream",
     "text": [
      "we lucked out this life is on the good ones\n",
      "ゲーム開始までお待ちください エントリー受付終了まで2分 現在の参加者3名なんだよこれ\n"
     ]
    }
   ],
   "source": [
    "import speech_recognition as sr\n",
    "import os\n",
    "\n",
    "def stt_file(filepath, lang=None):\n",
    "    r = sr.Recognizer()\n",
    "    af = sr.AudioFile(filepath)\n",
    "    with af as source:\n",
    "        audio = r.record(source)\n",
    "        text = r.recognize_google(audio, language=lang)\n",
    "        print(text)\n",
    "\n",
    "filepath1 = os.getcwd() + '\\\\eng_devs.flac'\n",
    "filepath2 = os.getcwd() + '\\\\jp_borderland.flac'\n",
    "\n",
    "stt_file(filepath1, lang=\"en-US\")\n",
    "stt_file(filepath2, lang=\"ja-JP\")"
   ]
  },
  {
   "cell_type": "markdown",
   "metadata": {},
   "source": [
    "위 코드는 드라마 데브스와 보더랜드의 대사 한문장을 녹음하여 flac 파일로 저장 후 이를 구글 음성인식을 사용하여 텍스트화 시킨 샘플 코드 입니다."
   ]
  },
  {
   "cell_type": "markdown",
   "metadata": {},
   "source": [
    "### 네이버 Clova Speech Recognition (CSR) [[공식문서]](https://api.ncloud-docs.com/docs/ai-naver-clovaspeechrecognition-stt)\n",
    "\n",
    "-  네이버에서는 네이버 음성인식 Clova Speech Recognition (CSR) 라는 이름으로 음성인식 기술을 15초당 4원에 <font color=\"red\" style=\"background-color:#eeeeee;font-weight:bold;\">유료</font>로 제공하고 있습니다. 기본적인 테스트의 시간이 주어지지 않으니 단 1초라도 테스트를 하면 비용이 발생하는점 유의하시기 바랍니다.\n",
    "- 이용시간은 15초 단위로 올림되므로 15초 미만의 오디오 데이터 역시 15초로 처리 됩니다.\n",
    "- 네이버 CSR API 는 1회당 최대 60초의 오디오를 인식할 수 있습니다.\n",
    "- 임성 인식 요청 후 종료시까지의 시간을 측정하며 오디오 스트림의 묵음, 공백도 이용시간에 포함됩니다.\n",
    "\n",
    "![img](images/s10.jpg)\n",
    "\n",
    "먼저 [네이버 클라우드 플랫폼](https://www.ncloud.com/)에 가입한 후 로그인 하여 위의 이미지에서 처럼 네이버클라우드 플랫폼 우측 상단의 Console 버튼을 클릭합니다. (회원가입시 결제 정보를 등록해야 사용이 가능하니 참고하시기 바랍니다.)\n",
    "\n",
    "![img](images/s11.jpg)\n",
    "\n",
    "콘솔 페이지가 열리면 좌측 Products & Services 메뉴를 선택 후  AI-NAVER API 항목을 찾아 클릭합니다.\n",
    "\n",
    "![img](images/s12.jpg)\n",
    "\n",
    "AI-NAVER API 페이지가 열리면 하단에 Application 등록 버튼을 클릭합니다.\n",
    "\n",
    "![img](images/s13.jpg)\n",
    "\n",
    "Application 설정 창이 열리면 적당한 이름을 입력하고 CLOVA Speech Recognition (CSR) 서비스를 선택 합니다.\n",
    "\n",
    "![img](images/s14.jpg)\n",
    "\n",
    "페이지를 하단으로 스크롤하여 서비스 URL 혹은 테스트용 주소를 입력하고 추가를 클릭합니다. 여기서는 내부적으로만 테스트 할거라 http://localhost 를 입력했습니다. 모두 끝났으면 등록 버튼을 클릭합니다.\n",
    "\n",
    "![img](images/s15.jpg)\n",
    "\n",
    "등록이 완료된 후 위의 이미지에서 처럼 어플리케이션 목록이 나오면 해당 어플리케이션의 인증정보 버튼을 클릭합니다.\n",
    "\n",
    "![img](images/s16.jpg)\n",
    "\n",
    "인증정보 창이 팝업되면 위의 이미지에서 처럼 Client ID 와 Client Secret 키를 복사하여 API 를 사용할 수 있습니다.\n",
    "\n",
    "\n",
    "### 네이버 Clova Speech Recognition 테스트 샘플코드"
   ]
  },
  {
   "cell_type": "code",
   "execution_count": 2,
   "metadata": {},
   "outputs": [
    {
     "name": "stdout",
     "output_type": "stream",
     "text": [
      "{\"text\":\"음성인식을 위한 테스트 녹음\"} 200\n"
     ]
    }
   ],
   "source": [
    "import requests\n",
    "import os\n",
    "\n",
    "url = \"https://naveropenapi.apigw.ntruss.com/recog/v1/stt?lang=Kor\"\n",
    "filepath = os.getcwd() + '\\\\sample_rec.mp3'\n",
    "data = open(filepath, 'rb')\n",
    "\n",
    "headers = {\n",
    "    \"X-NCP-APIGW-API-KEY-ID\": \"z6cfmy8lcy\",\n",
    "    \"X-NCP-APIGW-API-KEY\": \"GfIqv4HwDpU03ldF80mI6VMtSCivaR65VWATGRd5\",\n",
    "    \"Content-Type\" : \"application/octet-stream\"\n",
    "}\n",
    "\n",
    "r = requests.post(url, data=data, headers=headers)\n",
    "print(r.text, r.status_code)"
   ]
  },
  {
   "cell_type": "markdown",
   "metadata": {},
   "source": [
    "### 다음 카카오 음성인식\n",
    "\n",
    "- 다음 카카오에서 제공하는 인공지능 서비스인 다음 카카오 Speech API는 카카오i 제휴 업체만 사용이 가능합니다."
   ]
  }
 ],
 "metadata": {
  "kernelspec": {
   "display_name": "Python 3",
   "language": "python",
   "name": "python3"
  },
  "language_info": {
   "codemirror_mode": {
    "name": "ipython",
    "version": 3
   },
   "file_extension": ".py",
   "mimetype": "text/x-python",
   "name": "python",
   "nbconvert_exporter": "python",
   "pygments_lexer": "ipython3",
   "version": "3.6.3"
  }
 },
 "nbformat": 4,
 "nbformat_minor": 2
}
