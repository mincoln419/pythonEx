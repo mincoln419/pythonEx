{
 "cells": [
  {
   "cell_type": "markdown",
   "metadata": {},
   "source": [
    "# 파이썬으로 이메일 가져오기\n",
    "\n",
    "이메일은 POP(Post Office Protocol) 혹은 IMAP(Internet Message Access Protocol) 을 사용하여 가져올 수 있습니다. POP 같은 경우 여러 버전이 개발되었지만 최종적으로는 POP3 버전이 마지막 표준이며 통상 POP 는 POP3을 지칭하여 사용됩니다. POP 보다 더 발전된 프로토콜이 IMAP 이며 POP에서 지원하지 않는 여러 강력한 기능을 추가 제공하는게 특징입니다. 여기서는 네이버 메일을 활용하여 메일 읽기 기능을 추가해보도록 하겠습니다.\n",
    "\n",
    "<img src=\"images/4.jpg\" style=\"border:1px solid #000000\"><br>\n",
    "네이버 메일에 접속하여 \"내 메일함\" 우측의 톱니바퀴 버튼 혹은 하단의 \"환경설정\" 메뉴를 클릭하여 네이버 메일의 환경설정 페이지로 진입합니다.\n",
    "\n",
    "<img src=\"images/5.jpg\" style=\"border:1px solid #000000\"><br>\n",
    "네이버 메일 환경설정 페이지로 접속이 되면 상단 메뉴중 POP3/IMAP 설정 > IMAP/SMTP 탭 클릭 > IMAP/SMTP 사용에 \"사용함\" 을 체크 합니다.\n",
    "\n",
    "\n",
    "### 파이썬에서 IMAP\n",
    "\n",
    "파이썬에서 네이버 메일을 읽어오기 위해선 몇몇가지 라이브러리를 사용해야 합니다."
   ]
  },
  {
   "cell_type": "code",
   "execution_count": null,
   "metadata": {},
   "outputs": [],
   "source": [
    "import imaplib\n",
    "import email\n",
    "from email.header import decode_header"
   ]
  },
  {
   "cell_type": "markdown",
   "metadata": {},
   "source": [
    "기본적으로 IMAP 을 사용하기 위해서는 ```imaplib``` 를 사용하며 내용 파싱, 헤더 디코딩을 위해 email 라이브러리를 추가 사용합니다. 해당 라이브러리들은 파이썬 설치시에 기본적으로 설치되는 라이브러리이므로 추가 설치를 할 필요가 없습니다."
   ]
  },
  {
   "cell_type": "code",
   "execution_count": null,
   "metadata": {},
   "outputs": [],
   "source": [
    "mail = imaplib.IMAP4_SSL(\"imap.naver.com\")\n",
    "mail.login(\"test@naver.com\", \"xxxxxx\")\n",
    "(_, tot_mail_count) = mail.select(\"INBOX\", readonly=True)\n",
    "(retcode, messages) = mail.search(None, '(UNSEEN)')\n",
    "\n",
    "print(retcode, messages, tot_mail_count)"
   ]
  },
  {
   "cell_type": "markdown",
   "metadata": {},
   "source": [
    "- ```mail = imaplib.IMAP4_SSL(host=\"imap.naver.com\", port=993)``` 은 imap.naver.com 에 접속하여 mail 객체를 생성합니다. 여기서 port= 값을 생략하면 기본적으로 imap_ssl 기본포트인 993으로 접속합니다.\n",
    "\n",
    "- ```login()``` 함수를 통해 해당 서버에 로그인 시도를 하게 됩니다. 여기서 중요한 사항이 만약 <font color=red><b>네이버에 2단계 인증관리</b></font>를 설정한 경우에는 ```네이버 내정보 > 보안설정 > 애플리케이션 비밀번호 관리``` 를 통해 생성된 비밀번호를 사용하셔야만 접속이 가능합니다.\n",
    "- ```select(\"INBOX\")``` 함수를 통해 \"내 메일함\" 의 메일을 선택할 수 있습니다. 이때 ```readonly=True``` 매개변수를 설정함으로써 혹시 모를 사고를 방지하기 위해 메일함에 읽기 전용으로 접근합니다. ```select()``` 함수는 해당 메일박스에 있는 총 메세지의 갯수 입니다.\n",
    "- ```search(None, '(UNSEEN)')``` 함수와 인자값으로 내 메일함에서 읽지 않은 메일의 고유 ID를 가져오기 합니다. 이때 리턴값은 튜플형태로 (\"OK\", [메일 고유값]) 형태로 넘어옵니다. (예) (\"OK\", [b'123 124 125 126 127 128 129 130 131 132 133'])"
   ]
  },
  {
   "cell_type": "code",
   "execution_count": null,
   "metadata": {},
   "outputs": [],
   "source": [
    "if retcode == \"OK\":\n",
    "    for uid in messages[0].split():\n",
    "        _, data = mail.fetch(uid, \"(RFC822)\")\n",
    "        original = email.message_from_bytes(data[0][1])\n",
    "        _subject = original[\"Subject\"]\n",
    "        _from = original[\"From\"]\n",
    "        print(_subject, _from)"
   ]
  },
  {
   "cell_type": "markdown",
   "metadata": {},
   "source": [
    "```retcode==\"OK\"``` 인 경우 ```messages[0]```을 ```split()``` 하여 메세지 고유값을 반복하여 해당 고유값에 대한 메일을 구해옵니다. [RFC822](https://tools.ietf.org/html/rfc822) 는 인터넷 텍스트 메세지의 기준 포맷 형식입니다. ```fetch()``` 함수를 실행하여 얻어진 결과는 메세지 부분 데이터와 환경정보 등이 튜플형태가 리스트에 감싸져서 bytes 형태로 리턴 됩니다. \n",
    "\n",
    "<img src=\"images/6.jpg\" style=\"border:1px solid #000000\"><br>\n",
    "```print(data)``` 를 해보면 최초 시작문자가 &#91; 를 보니 리스트로 감싸져 있는걸 확인할 수 있습니다. 그리고 바로 &#40; 가 튜플임을 알려주고 있습니다. 위의 이미지에서 처럼 우리가 필요하는 정보는 data[0][1] 에 존재합니다. ```email``` 라이브러리의 ```message_from_bytes()``` 함수를 통해 bytes 형태의 데이터를 문자열 데이터로 파싱 변환 하여 ```original``` 이라는 변수에 담았습니다.\n",
    "\n",
    "```_subject = original[\"Subject\"]``` 로 메일의 제목을 구할 수 있습니다. 그러나 해당 ```_subject``` 값을 ```print(_subject)``` 해보면 \n",
    "\n",
    "```=?euc-kr?B?ASDASDA7BpLq4IMDMv+uzu7+qIL7Is7s=?= \"=?euc-kr?B?wM66pQ==?=\"<noreply@test.co.kr>```\n",
    "\n",
    "위처럼 알 수 없는 글자로만 나옵니다. =?euc-kr? 이라는 문자가 아마도 해당 텍스트 데이터가 인코딩된 정보를 표기하는것으로 보입니다. "
   ]
  },
  {
   "cell_type": "code",
   "execution_count": null,
   "metadata": {},
   "outputs": [],
   "source": [
    "def decodeHeader(value):\n",
    "    if value.startswith('\"=?'):\n",
    "        value = value.replace('\"', '')\n",
    "\n",
    "    value, encoding = decode_header(value)[0]\n",
    "    if encoding:\n",
    "        value = value.decode(encoding)\n",
    "    return value"
   ]
  },
  {
   "cell_type": "markdown",
   "metadata": {},
   "source": [
    "위의 함수를 통해 해당 문자열을 디코딩 하는 기능을 추가해야 합니다. 또한 ```original[\"From\"]``` 정보에서 보낸이의 주소와 이름값을 구할 수 있는데 주소값 은 ```email.utils.parseaddr()``` 함수를 통해 우리가 알 수 있는 문자열로 변환할 수 있습니다."
   ]
  },
  {
   "cell_type": "code",
   "execution_count": null,
   "metadata": {},
   "outputs": [],
   "source": [
    "'''*************************************************\n",
    "mymail.py 파일로 저장\n",
    "*************************************************'''\n",
    "import imaplib\n",
    "import email\n",
    "from email.header import decode_header\n",
    "\n",
    "FROM_EMAIL = \"네이버아이디@naver.com\"\n",
    "FROM_PWD = \"네이버비번\"\n",
    "\n",
    "\n",
    "def decodeHeader(value):\n",
    "    if value.startswith('\"=?'):\n",
    "        value = value.replace('\"', '')\n",
    "\n",
    "    value, encoding = decode_header(value)[0]\n",
    "    if encoding:\n",
    "        value = value.decode(encoding)\n",
    "    return value\n",
    "\n",
    "\n",
    "def get_mail_from_naver(email_id, email_pass):\n",
    "    '''네이버 메일에 접속하여 내 메일함에서 읽지 않은 메일의 제목과 보낸이를 구하는 함수\n",
    "    Args:\n",
    "        email_id (str) : 네이버 이메일 주소 xxxx@naver.com 형식\n",
    "        email_pass (str) : 네이버 아이디 비밀번호\n",
    "    Return:\n",
    "        list : 이메일 제목과 보낸이 정보를 리스트 형태로 리턴\n",
    "    '''\n",
    "    emails = []\n",
    "\n",
    "    # imap.naver.com 에 SSL 형태로 접속(네이버에서 SSL 접속을 요구)\n",
    "    mail = imaplib.IMAP4_SSL(\"imap.naver.com\")\n",
    "    # 네이버 이메일 로그인\n",
    "    mail.login(email_id, email_pass)\n",
    "    # 내 메일함 선택 (IMAP은 폴더를 개별 선택할 수 있는 기능을 제공)\n",
    "    (_, tot_mail_count) = mail.select(\"INBOX\", readonly=True)\n",
    "    # 내 메일함에서 읽지 않은(UNSEEN) 메일만 검색\n",
    "    (retcode, messages) = mail.search(None, '(UNSEEN)')\n",
    "    # 검색 결과 값이 OK 면 수행\n",
    "    if retcode == \"OK\":\n",
    "        # messages 갯수 만큼 반복\n",
    "        for uid in messages[0].split():\n",
    "            _, data = mail.fetch(uid, \"(RFC822)\")\n",
    "            original = email.message_from_bytes(data[0][1])\n",
    "            email_subject = decodeHeader(original[\"Subject\"])\n",
    "            from_name = decodeHeader(email.utils.parseaddr(original[\"From\"])[0])\n",
    "            from_email = email.utils.parseaddr(original[\"From\"])[1]\n",
    "            emails.append({\n",
    "                \"from_name\": from_name,\n",
    "                \"from_email\": from_email,\n",
    "                \"subject\": email_subject\n",
    "            })\n",
    "    return emails\n",
    "\n",
    "\n",
    "if __name__ == \"__main__\":\n",
    "    emails = get_mail_from_naver(FROM_EMAIL, FROM_PWD)\n",
    "    for e in emails:\n",
    "        print(e)"
   ]
  }
 ],
 "metadata": {
  "kernelspec": {
   "display_name": "Python 3",
   "language": "python",
   "name": "python3"
  },
  "language_info": {
   "codemirror_mode": {
    "name": "ipython",
    "version": 3
   },
   "file_extension": ".py",
   "mimetype": "text/x-python",
   "name": "python",
   "nbconvert_exporter": "python",
   "pygments_lexer": "ipython3",
   "version": "3.6.3"
  }
 },
 "nbformat": 4,
 "nbformat_minor": 2
}
