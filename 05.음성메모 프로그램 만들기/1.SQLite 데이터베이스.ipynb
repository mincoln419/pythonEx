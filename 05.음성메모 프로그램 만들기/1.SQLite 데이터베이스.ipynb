{
 "cells": [
  {
   "cell_type": "markdown",
   "metadata": {},
   "source": [
    "# 음성 메모 프로그램 만들기\n",
    "\n",
    "- 마이크를 통해 인식된 내용을 메모하는 프로그램 입니다.\n",
    "- 윈도우 스티커 프로그램처럼 GUI 형태로 제작 합니다.\n",
    "- 데이터베이스를 사용하여 메모 내용을 저장합니다.\n",
    "\n",
    "\n",
    "\n",
    "### SQLite 데이터베이스 [[공식 문서]](https://www.sqlite.org/index.html)\n",
    "\n",
    "SQLite 는 높은 신뢰성에 작지만 빠르고 가벼운 SQL 데이터베이스 엔진을 구현하는 라이브러리 이며 전세계에서 가장 많이 사용되는 오픈소스 데이터베이스 엔진 입니다. SQLite 는 MySQL 같이 서버 구동형 데이터데이스가 아닌 로컬 응용 프로그램에서 사용되는 데이터베이스 입니다. 일반적인 대규모 RDBMS 에는 어울리지 않지만 대형 프로그램이 아니라면 중소규모 이상의 시스템에서 사용되는데 전혀 문제가 없을만큼 막강한 데이터베이스 입니다.\n",
    "\n",
    "- SQL 문법을 사용합니다.\n",
    "- 대부분의 플랫폼을 지원합니다. (윈도우, 맥OS, 리눅스, IOS, 안드로이드 등)\n",
    "- 단일 파일로 구성된 로컬 데이터베이스 입니다.\n",
    "- 중소규모 이상의 데이터를 처리하는데 손색이 없습니다.\n",
    "- 전세계에서 가장 많이 사용되는 데이터베이스 입니다.\n",
    "- 안드로이드 운영체제에 기본 탑재된 데이터베이스 시스템 입니다. (통화목록 같은게 모두 SQLite로 구현되어있음)\n",
    "- 수많은 써드파티 확장 프로그램이 존재합니다.(SQLCipher, SQLite-Bloomfilter 등)\n",
    "- BLOB, INTEGER, TEXT, NULL, REAL 의 데이터 형식을 지원합니다.\n",
    "- 파이썬 설치시에 기본 라이브러리를 제공합니다.\n",
    "- 라이센스에 자유로워 누구나 자유롭게 복사, 수정, 게시, 사용, 컴파일, 판매, 배포할 수 있습니다."
   ]
  },
  {
   "cell_type": "code",
   "execution_count": null,
   "metadata": {},
   "outputs": [],
   "source": [
    "import sqlite3\n",
    "\n",
    "print(sqlite3.version)        # 파이썬 sqlite3 라이브러리의 버전\n",
    "print(sqlite3.sqlite_version) # sqlite 의 버전"
   ]
  },
  {
   "cell_type": "markdown",
   "metadata": {},
   "source": [
    "파이썬에서는 sqlite 용 DB-API 2.0 인터페이스를 기본 라이브러리로 제공합니다. 따라서 손쉽게 sqlite 데이터베이스를 사용할 수 있습니다.\n",
    "\n",
    "\n",
    "### 데이터베이스 생성 및 접속"
   ]
  },
  {
   "cell_type": "code",
   "execution_count": null,
   "metadata": {},
   "outputs": [],
   "source": [
    "connect = sqlite3.connect(\"파일명 혹은 :memory:\")"
   ]
  },
  {
   "cell_type": "markdown",
   "metadata": {},
   "source": [
    "sqlite 데이터베이스 생성 및 접속은 ```connect(\"파일명\")``` 으로 수행됩니다. ```connect(\"파일명\")``` 함수를 수행하면 파일이 없다면 새롭게 생성되고 파일이 존재하면 해당 데이터베이스에 접속을 합니다. 이렇게 생성된 sqlite 인스턴스를 connect 라는 변수에 저장하고 모든 작업은 connect 인스턴스를 통해 수행할 수 있습니다. \n",
    "```sqlite3.connect(\":memory:\")``` 로 생성된 데이터베이스는 파일이 아닌 메모리상에 데이터베이스를 만들 수 있습니다. 이렇게 생성된 메모리 데이터베이스는 파일로 생성된 DB에 비해 월등한 속도로 연산할 수 있습니다.\n",
    "\n",
    "\n",
    "### SQL (Structured Query Language)\n",
    "\n",
    "SQL은 일반적인 관계형 데이터베이스 관리 시스템(RDBMS) 에서 데이터를 관리하기 위해 사용되는 언어 입니다. sqlite 역시 이런 데이터 질의 언어인 SQL 을 사용하여 데이터를 관리합니다. SQL 문법은 mysql 을 쓰던 ms-sql을 쓰던 사실 어떤 데이터베이스에서던 같은 문법을 사용할 수 있는게 원칙이지만 실상은 기본적인 문법을 제외하고 각 데이터베이스 시스템마다 자체적으로 사용할 수 있는 SQL 문법이 있습니다.\n",
    "\n",
    "### 기본적인 구조\n",
    "\n",
    "<img src=\"images/1.jpg\" style=\"border:1px solid #000000\"><br>\n",
    "일반적인 데이터의 구조는 2차원의 열과 행으로 구분되어있는데 열은 데이터의 항목을 지칭하며 이를 ```컬럼```이라 부르며 이렇게 모인 데이터 셋트 1개인 행을 ```로우```라 부릅니다. 이렇게 행과 열로 구조화 되어있는 데이터 전체를 ```테이블```이라 부릅니다. 한개의 데이터베이스안에는 여러개의 테이블을 생성할 수 있습니다.\n",
    "\n",
    "\n",
    "### DDL (Data Definition Language) : 데이터 정의어\n",
    "데이터베이스 관리자 혹은 생성자가 데이터베이스에 데이터를 정의하는 언어이며 테이블이나 관계, 스키마, 뷰 등을 정의하거나 변경, 삭제를 할 수 있습니다. 보통 최초 프로그램을 만들고 데이터베이스를 기획하는 단계에서만 사용되며 실제 프로그램이 완성되고 서비스될때는 사용되지 않는 영역의 SQL 문 입니다.\n",
    "\n",
    "- CREATE : 데이터베이스, 테이블 등을 생성합니다.\n",
    "    - ```CREATE TABLE 테이블명 (컬럼1 데이터유형, 컬럼2 데이터유형, 컬럼3 데이터유형)```\n",
    "- ALTER : 테이블을 수정합니다.\n",
    "    - ```ALTER TABLE 테이블명 ADD 추가할컬럼명 데이터유형```\n",
    "    - ```ALTER TABLE 테이블명 DROP COLUMN 삭제할컬럼명```\n",
    "    - ```ALTER TABLE 테이블명 RENAME COLUMN 변경전컬럼명 TO 새로운컬럼명```\n",
    "    - ```ALTER TABLE 테이블명 MODIFY (변경할컬럼명 데이터유형)```\n",
    "- DROP : 데이터베이스, 테이블을 삭제합니다.\n",
    "    - ```DROP TABLE 테이블명```\n",
    "- TRUNCATE : 테이블을 초기화 합니다.\n",
    "    - ```TRUNCATE TABLE 테이블명```"
   ]
  },
  {
   "cell_type": "code",
   "execution_count": null,
   "metadata": {},
   "outputs": [],
   "source": [
    "import sqlite3\n",
    "\n",
    "connect = sqlite3.connect(\"sample.db\")\n",
    "query = \"\"\"\n",
    "CREATE TABLE currency (\n",
    "    \"index\" INTEGER PRIMARY KEY AUTOINCREMENT,\n",
    "    \"name\" TEXT,\n",
    "    \"base_ratio\" FLOAT DEFAULT 0.0,\n",
    "    \"cache_buy_price\" FLOAT,\n",
    "    \"cache_sell_price\" FLOAT,\n",
    "    \"remittance_send\" FLOAT,\n",
    "    \"remittance_receive\" FLOAT,\n",
    "    \"us_exchange_ratio\" FLOAT\n",
    ")\n",
    "\"\"\"\n",
    "connect.execute(query)\n",
    "connect.close()"
   ]
  },
  {
   "cell_type": "markdown",
   "metadata": {},
   "source": [
    "테이블 생성시에는 칼럼 이름 뒤에 데이터 형태를 작성해야 합니다. sqlite 는 기본적으로 NULL, INTEGER, REAL, TEXT, BLOB 5개의 유형이 있습니다.\n",
    "- NULL : NULL 값\n",
    "- INTEGER : 부호있는 정수값, 1, 2, 3, 4, 6, 8바이트로 저장됩니다.\n",
    "- REAL : 8바이트 부동 소수점 값이 저장됩니다.\n",
    "- TEXT : 텍스트 문자열로 UTF-8, UTF-16BE, UTF-16LE 로 저장됩니다.\n",
    "- BLOB : 입력된 그대로 저장됩니다. (파일 같은 Raw 데이터 저장시 사용)\n",
    "\n",
    "데이터 형태 뒤에는 ```DEFAULT 기본값```처럼 옵션으로 해당 컬럼의 기본값을 설정할 수 있습니다. \n",
    "\n",
    "### PRIMARY KEY\n",
    "좀 더 정확한 목적은 관계형 데이터베이스에서 관계를 맺기 위한 도구로 사용되는데 쉽게 각 데이터마다의 중복되지 않는 고유값이라고 보시면 됩니다. PK 는 되도록 짧은 데이터의 컬럼에 부여하거나 PK를 위한 인덱스 컬럼을 따로 만들기도 합니다. 위의 코드에서는 PK 를 위해 index 라는 컬럼을 INTEGER 형태로 만들었고 ```AUTOINCREMENT``` 옵션을 부여하여 데이터 입력시 index 값이 입력되지 않아도 데이터베이스가 알아서 ```자동 증가``` 하게끔 설정하였습니다.\n",
    "\n",
    "\n",
    "### 데이터의 유형 선호도 [[SQLite 공식 문서]](https://www.sqlite.org/datatype3.html)\n",
    "실제 sqlite 는 위의 5개 자료형태만을 사용하지만 일반적인 sql 데이터베이스에서 사용하는 자료형태를 사용할 수 있습니다. 위의 예제 코드에서처럼 실제 sqlite 에는 FLOAT 형태의 자료형이 없지만 이렇게 선언된 자료 형태는 sqlite 가 자동으로 자료형태를 REAL로 변환하여 저장합니다.\n"
   ]
  },
  {
   "cell_type": "markdown",
   "metadata": {},
   "source": [
    "### VSCode 에서의 SQLite 뷰어\n",
    "<img src=\"images/3.jpg\" style=\"border:1px solid #000000\"><br>\n",
    "vscode 에서 좌측 확장(Ctrl + Shift + X) 버튼을 클릭하여 마켓플레이스에 접속합니다. 확장 마켓 플레이스 검색창에 **\"SQLTools\"** 를 입력하고 결과로 나온 **SQLTools, SQLTools SQLite** 2개의 확장 프로그램을 설치합니다.\n",
    "\n",
    "<img src=\"images/4.jpg\" style=\"border:1px solid #000000\"><br>\n",
    "VSCode 용 SQLTools 가 설치되고 나면 위의 이미지에서 처럼 좌측에 SQLTools 버튼이 생깁니다. 이 버튼을 클릭하고 Add new Connection 버튼을 클릭하면 나오는 SQLite(Node) 버튼을 클릭합니다. SQLite(Node) 버튼을 클릭하면 VSCode 우측 하단에 이것저것 필요한 요소들을 설치할꺼냐고 묻는데 모두 설치를 허용합니다.\n",
    "\n",
    "<img src=\"images/5.jpg\" style=\"border:1px solid #000000\"><br>\n",
    "모든 설치가 정상적으로 완료되고 나면 위의 이미지에서 처럼 Connection Assistant 항목을 설정하는 페이지가 나옵니다. Connection Name 에는 적당한 이름을 입력하고 Database file 항목에 생성된 db 파일명을 선택하고 ```SAVE CONNECTION``` 버튼을 클릭합니다.\n",
    "\n",
    "<img src=\"images/6.jpg\" style=\"border:1px solid #000000\"><br>\n",
    "최종적으로 입력한 항목을 모두 확인 후 CONNECT NOW 버튼을 클릭합니다.\n",
    "\n",
    "<img src=\"images/7.jpg\" style=\"border:1px solid #000000\"><br>\n",
    "좌측 CONNECTIONS 항목을 펼치기 하여 보면 위의 이미지에서 처럼 Tables 항목들을 볼 수 있고 해당 테이블에서 우클릭 > Show Table Records 메뉴를 클릭하면 해당 테이블의 데이터를 살펴볼 수 있습니다."
   ]
  }
 ],
 "metadata": {
  "kernelspec": {
   "display_name": "Python 3",
   "language": "python",
   "name": "python3"
  },
  "language_info": {
   "codemirror_mode": {
    "name": "ipython",
    "version": 3
   },
   "file_extension": ".py",
   "mimetype": "text/x-python",
   "name": "python",
   "nbconvert_exporter": "python",
   "pygments_lexer": "ipython3",
   "version": "3.6.3"
  }
 },
 "nbformat": 4,
 "nbformat_minor": 2
}
