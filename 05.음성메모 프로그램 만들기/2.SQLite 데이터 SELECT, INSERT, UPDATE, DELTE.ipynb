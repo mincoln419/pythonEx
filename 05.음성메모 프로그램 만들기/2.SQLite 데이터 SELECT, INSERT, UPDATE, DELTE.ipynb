{
 "cells": [
  {
   "cell_type": "markdown",
   "metadata": {},
   "source": [
    "# DML (Data Manipulation Language) : 데이터 조작어\n",
    "정의된 데이터베이스에 데이터를 조회하거나 수정, 삭제 등의 역할을 하는 언어입니다. 실제 프로그램이 서비스되고 있는 시기에 지속적으로 사용자에 의해 사용되는 영역의 SQL 문 입니다.\n",
    "- SELECT : 데이터를 조회 합니다.\n",
    "    - ```SELECT * FROM 테이블명```\n",
    "    - ```SELECT 컬럼1, 컬럼2, 컬럼3 FROM 테이블명```\n",
    "    - ```SELECT 컬럼1, 컬럼2, 컬럼3 FROM 테이블명 WHERE 조건```\n",
    "- INSERT : 데이터를 삽입 합니다.\n",
    "    - ```INSERT INTO 테이블명(컬럼1, 컬럼2, 컬럼3) VALUES(데이터1, 데이터2, 데이터3)```\n",
    "- UPDATE : 데이터를 수정 합니다.\n",
    "    - ```UPDATE 테이블명 SET 컬럼1=데이터 (WHERE 조건)```\n",
    "- DELETE : 데이터를 삭제 합니다.\n",
    "    - ```DELETE FROM 테이블명 (WHERE 조건)```"
   ]
  },
  {
   "cell_type": "code",
   "execution_count": null,
   "metadata": {},
   "outputs": [],
   "source": [
    "import sqlite3\n",
    "connect = sqlite3.connect(\"sample.db\")\n",
    "cursor = connect.cursor()\n",
    "query = \"\"\"\n",
    "INSERT INTO currency (name, base_ratio, cache_buy_price, cache_sell_price, remittance_send, remittance_receive, us_exchange_ratio)\n",
    "VALUES(\"미국 USD\", 1107.70, 1127.08, 1088.32, 1118.50, 1096.90, 1.000)\n",
    "\"\"\"\n",
    "cursor.execute(query)\n",
    "count = cursor.rowcount\n",
    "connect.commit()\n",
    "print(\"{}개 행 적용\".format(count))"
   ]
  },
  {
   "cell_type": "markdown",
   "metadata": {},
   "source": [
    "일반적으로 데이터베이스 연결 인스턴스를 생성하고 나면 Cursor 객체를 만들고 execute() 함수를 호출하여 SQL 문을 수행하게 됩니다. 커서는 쿼리문을 수행한 결과를 메모리상에 보관하기 위한 목적으로 사용됩니다. \n",
    "\n",
    "```commit()``` 함수는 ```INSERT, UPDATE, DELETE``` 같이 데이터에 변화가 생기는 SQL 문으로 수행한 작업을 실제 데이터베이스에 저장할때 사용되는 함수 입니다. 위의 예제에서 처럼 ```INSERT``` 문을 호출하고 ```commit()``` 함수를 수행하지 않으면 실제 데이터베이스에 데이터가 저장되지 않습니다. ```count = cursor.rowcount``` 는 ```execute(query)``` 에 의해 영향을 받는 행의 갯수를 반환합니다."
   ]
  },
  {
   "cell_type": "code",
   "execution_count": null,
   "metadata": {},
   "outputs": [],
   "source": [
    "# 데이터 수정 예제\n",
    "query = \"UPDATE currency SET base_ratio=1234.12 WHERE name='미국 USD'\"\n",
    "cursor.execute(query)\n",
    "count = cursor.rowcount\n",
    "connect.commit()\n",
    "print(\"{}개 행 적용\".format(count))"
   ]
  },
  {
   "cell_type": "markdown",
   "metadata": {},
   "source": [
    "```UPDATE``` 문은 보통 ```WHERE 조건``` 문과 함께 사용됩니다. 조건이 없는경우에는 테이블의 모든 데이터에 적용될 수 있기 때문에 유의해서 사용해야 하는 쿼리문 입니다."
   ]
  },
  {
   "cell_type": "code",
   "execution_count": null,
   "metadata": {},
   "outputs": [],
   "source": [
    "# 데이터 삭제 예제\n",
    "query = \"DELETE FROM currency WHERE name='미국 USD'\"\n",
    "cursor.execute(query)\n",
    "count = cursor.rowcount\n",
    "connect.commit()\n",
    "print(\"{}개 행 적용\".format(count))"
   ]
  },
  {
   "cell_type": "markdown",
   "metadata": {},
   "source": [
    "```DELETE``` 문은 역시 ```WHERE 조건``` 문과 함께 사용됩니다. 조건이 없는경우에는 테이블의 모든 데이터를 삭제 하게 되므로 반드시 DELETE 문을 수행하기전 조건문이 제대로 작성되었는지 확인해야 합니다."
   ]
  },
  {
   "cell_type": "code",
   "execution_count": null,
   "metadata": {},
   "outputs": [],
   "source": [
    "connect.close()"
   ]
  },
  {
   "cell_type": "markdown",
   "metadata": {},
   "source": [
    "데이터를 사용한 후 데이터베이스를 닫습니다. ```commit()```하지 않고 ```close()```를 하게 되면 데이터베이스에 적용되지 않으며 ```close()```를 하지 않고 프로그램을 종료하게 되면 다른 프로그램에서 해당 데이터베이스를 열지 못할 수도 있습니다."
   ]
  },
  {
   "cell_type": "markdown",
   "metadata": {},
   "source": [
    "### 네이버 환율 정보를 구해서 데이터베이스에 삽입"
   ]
  },
  {
   "cell_type": "code",
   "execution_count": null,
   "metadata": {},
   "outputs": [],
   "source": [
    "import requests\n",
    "from bs4 import BeautifulSoup\n",
    "import sqlite3 as sql\n",
    "\n",
    "connect = sql.connect(\"sample.db\")\n",
    "cursor = connect.cursor()\n",
    "\n",
    "query = \"\"\"\n",
    "CREATE TABLE IF NOT EXISTS currency (\n",
    "    \"name\" TEXT,\n",
    "    \"base_ratio\" FLOAT DEFAULT 0.0,\n",
    "    \"cache_buy_price\" FLOAT,\n",
    "    \"cache_sell_price\" FLOAT,\n",
    "    \"remittance_send\" FLOAT,\n",
    "    \"remittance_receive\" FLOAT,\n",
    "    \"us_exchange_ratio\" FLOAT\n",
    ")\n",
    "\"\"\"\n",
    "cursor.execute(query)\n",
    "\n",
    "\n",
    "url = \"https://finance.naver.com/marketindex/exchangeList.nhn\"\n",
    "r = requests.get(url)\n",
    "bs = BeautifulSoup(r.text, \"lxml\")\n",
    "trs = bs.select(\"table.tbl_exchange > tbody > tr\")\n",
    "for tr in trs:\n",
    "    tds = tr.select(\"td\")\n",
    "    if len(tds) == 7:\n",
    "        name = tds[0].select_one(\"a\").text.strip()\n",
    "        base_ratio = tds[1].text.strip()\n",
    "        cache_buy_price = tds[2].text.strip()\n",
    "        cache_sell_price = tds[3].text.strip()\n",
    "        remittance_send = tds[4].text.strip()\n",
    "        remittance_receive = tds[5].text.strip()\n",
    "        us_exchange_ratio = tds[6].text.strip()\n",
    "\n",
    "        query = \"\"\"\n",
    "        INSERT INTO currency (name, base_ratio, cache_buy_price, cache_sell_price, remittance_send, remittance_receive, us_exchange_ratio)\n",
    "        VALUES(?, ?, ?, ?, ?, ?, ?)\n",
    "        \"\"\"\n",
    "        cursor.execute(query, (name, base_ratio, cache_buy_price, cache_sell_price, remittance_receive, remittance_send, us_exchange_ratio, ))\n",
    "connect.commit()\n",
    "connect.close()"
   ]
  },
  {
   "cell_type": "markdown",
   "metadata": {},
   "source": [
    "위 코드에서 ```CREATE TABLE IF NOT EXISTS ``` 는 해당 테이블이 존재하지 않는 경우에는 테이블을 CREATE 하고 존재하는 경우에는 수행하지 않게하도록 수정한 코드 입니다. 기존의 코드는 파이썬 코드를 실행할때마다 이미 테이블이 존재하는 경우 에러가 발생하기 때문에 위처럼 수정을 하였습니다.\n",
    "\n",
    "실제 프로그램을 통해 데이터를 삽입, 수정, 삭제 하는 경우에는 변수에 담긴 값을 사용하는 경우가 대부분입니다. 이럴때 변수값을 어떻게 쿼리 문자열에 삽입하느냐가 문제인데 이때 <b>Parameterized Query</b> 를 사용합니다.\n",
    "\n",
    "```python\n",
    "query = \"\"\"\n",
    "INSERT INTO currency (name, base_ratio, cache_buy_price, cache_sell_price, remittance_send, remittance_receive, us_exchange_ratio)\n",
    "VALUES(?, ?, ?, ?, ?, ?, ?)\n",
    "\"\"\"\n",
    "cursor.execute(query, (name, base_ratio, cache_buy_price, cache_sell_price, remittance_receive, remittance_send, us_exchange_ratio, ))\n",
    "```\n",
    "위의 코드를 보면 SQL 문장의 컬럼 갯수만큼의 ? 가 있고 ```execute(\"쿼리\", (튜플))``` 함수 호출시에 ? 의 갯수만큼 값이 튜플 형태로 대입되야 합니다. 여기서 중요한게 <font color=\"red\">반드시 튜플형태로 값이 넘어가야</font> 하는데 위처럼 변수의 값이 여러개인 경우에는 상관없지만 만약 변수가 1개인경우에 execute(query, (변수)) 이런식으로 넘기면 (변수) 가 튜플형태가 되지 않기 때문에 반드시 ```execute(query, (변수,))``` 처럼 콤마(,) 를 추가하여 튜플형태로 넘겨주어야 합니다. 그래서 이런 오류를 방지하기 위해여 습관적으로 마지막을 콤마(,) 를 써버릇 하는것도 나쁘지 않습니다.\n",
    "\n",
    "```commit()``` 함수는 데이터를 모두 INSERT 한 후 한번만 수행하면 됩니다."
   ]
  },
  {
   "cell_type": "markdown",
   "metadata": {},
   "source": [
    "### 데이터 확인하기"
   ]
  },
  {
   "cell_type": "code",
   "execution_count": null,
   "metadata": {},
   "outputs": [],
   "source": [
    "import sqlite3 as sql\n",
    "\n",
    "connect = sql.connect(\"sample.db\")\n",
    "cursor = connect.cursor()\n",
    "query = \"\"\"\n",
    "SELECT name, base_ratio, cache_buy_price, cache_sell_price, remittance_send, remittance_receive, us_exchange_ratio\n",
    "FROM currency\n",
    "\"\"\"\n",
    "cursor.execute(query)\n",
    "rows = cursor.fetchall()\n",
    "for row in rows:\n",
    "    print(row)\n",
    "connect.close()"
   ]
  },
  {
   "cell_type": "markdown",
   "metadata": {},
   "source": [
    "데이터베이스에 있는 데이터를 조회하기 위해서는 ```SELECT```문을 사용하여 데이터를 조회할 수 있습니다. SELECT 문 뒤에는 조회할 컬럼명을 기입하는데 테이블 전체 데이터를 조회하는 경우에는 아스트릭문자(&#42;) 로 대체할 수 있습니다.\n",
    "\n",
    "```SELECT * FROM currency```\n",
    "\n",
    "SELECT 문은 WHERE 조건문과 함께 사용될 수 있으며 두개 이상의 테이블을 결합하여 표기하는 JOIN 이라는 방식도 있습니다.\n",
    "\n",
    "### 외부 프로그램으로 데이터 확인하기\n",
    "<img src=\"images/2.jpg\" style=\"border:1px solid #000000\"><br>\n",
    "sqlite 의 데이터베이스는 단일 파일로 구성되어있고 이 데이터베이스의 내용을 확인하기 위해선 따로 프로그램이 필요합니다. 위의 이미지는 [DB Browser for SQLite](https://sqlitebrowser.org/) 를 사용하여 데이터베이스의 내용을 확인한 모습입니다."
   ]
  }
 ],
 "metadata": {
  "kernelspec": {
   "display_name": "Python 3",
   "language": "python",
   "name": "python3"
  },
  "language_info": {
   "codemirror_mode": {
    "name": "ipython",
    "version": 3
   },
   "file_extension": ".py",
   "mimetype": "text/x-python",
   "name": "python",
   "nbconvert_exporter": "python",
   "pygments_lexer": "ipython3",
   "version": "3.6.3"
  }
 },
 "nbformat": 4,
 "nbformat_minor": 2
}
