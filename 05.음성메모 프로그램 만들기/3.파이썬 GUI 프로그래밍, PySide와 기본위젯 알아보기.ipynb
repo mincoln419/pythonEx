{
 "cells": [
  {
   "cell_type": "markdown",
   "metadata": {},
   "source": [
    "# GUI 프로그래밍\n",
    "\n",
    "일반적인 파이썬은 기본적으로 Command Line Interface 로 터미널 혹은 콘솔을 통해 프로그램이 사용자와 상호작용 하는 방식으로 제작됩니다. 이런 파이썬에서 Graphical User Interface(GUI) 를 기반으로 사용자와 상호작용으 하기 위해선 GUI 라이브러리가 필요합니다.\n",
    "\n",
    "\n",
    "### PySide2 [[공식문서]](https://wiki.qt.io/Qt_for_Python)\n",
    "\n",
    "파이썬에는 몇몇가지의 GUI 라이브러리가 있지만 그중 PySide2 는 노키아에서 제공하는 파이썬에서 GUI 를 만들어줄 수 있는 Qt용 파이썬 인터페이스 입니다. Qt 프페임워크는 C++로 제작되어 리눅스/윈도우/맥OS 를 모두 지원하는 GUI 도구인데 이를 파이썬에서 사용가능하게 해주는 라이브러리 입니다.\n",
    "\n",
    "PySide 외에도 많이 사용되었던 PyQt 라는 라이브러리가 있었습니다만 PyQt의 라이센스가 문제되어 PyQt와 거의 비슷하게 사용될 수 있는 PySide가 노키아에 의해 개발되었고 PySide 는 LGPL 의 라이센스를 사용합니다.\n",
    "\n",
    "- LGPL 라이센스 : 라이브러리를 사용하는 프로그램이 라이브러리를 수정하여 사용하는 2차 저작물이 아닌한 무료 소프트웨어인지 상용 소프트웨어인지에 따른 제약없이 자유롭게 사용될 수 있습니다. 단, 라이브러리의 저작권 관련 문구 유지와 라이브러리의 제품명을 사용해서는 안되는 조건이 있습니다.\n",
    "\n",
    "\n",
    "### pyside2 설치\n",
    "\n",
    "> ```pip install pyside2```<br>\n",
    "> ```pip install pyside2 --upgrade```\n"
   ]
  },
  {
   "cell_type": "code",
   "execution_count": null,
   "metadata": {
    "scrolled": true
   },
   "outputs": [],
   "source": [
    "import PySide2\n",
    "import PySide2.QtCore\n",
    "\n",
    "print(PySide2.__version__)\n",
    "print(PySide2.QtCore.__version__)\n",
    "print(PySide2.QtCore.qVersion())"
   ]
  },
  {
   "cell_type": "markdown",
   "metadata": {},
   "source": [
    "```PySide2.__version__``` 은 PySide2 라이브러리의 버전이며 ```PySide2.QtCore.__version__``` 은 PySide2 내부의 QtCore의 버전입니다.\n",
    "\n",
    "라이브러리 업그레이드시 permission 오류가 발생하는 경우 pip 를 업그레이드 하시거나 \n",
    "```python -m pip install -user pyside2``` 로 업그레이드를 진행해보시기 바랍니다."
   ]
  },
  {
   "cell_type": "markdown",
   "metadata": {},
   "source": [
    "### PySide2 기본 윈도우"
   ]
  },
  {
   "cell_type": "code",
   "execution_count": null,
   "metadata": {},
   "outputs": [],
   "source": [
    "from PySide2.QtWidgets import QApplication, QWidget, QDialog\n",
    "\n",
    "app = QApplication([])\n",
    "\n",
    "window = QDialog()\n",
    "window.setWindowTitle(\"PySide6 윈도우 예제\")\n",
    "window.show()\n",
    "app.exec_()"
   ]
  },
  {
   "cell_type": "markdown",
   "metadata": {},
   "source": [
    "### PySide2 는 일반적으로 클래스로 만들어서 사용"
   ]
  },
  {
   "cell_type": "code",
   "execution_count": null,
   "metadata": {},
   "outputs": [],
   "source": [
    "import sys\n",
    "from PySide2 import QtWidgets\n",
    "\n",
    "class MyWindows(QtWidgets.QWidget):\n",
    "    '''QWidgets를 상속받아 새롭게 만드는 윈도우 클래스'''\n",
    "    def __init__(self):\n",
    "        # 부모인 QWidgets 의 생성자를 호출합니다.\n",
    "        super().__init__()\n",
    "        # 현재 생성되는 윈도우의 타이틀바 캡션 설정\n",
    "        self.setWindowTitle(\"남박사의 파이썬\")\n",
    "        # 윈도우 크기를 400 x 300 으로 변경\n",
    "        self.resize(400, 300)\n",
    "        # 윈도우 띄우기\n",
    "        self.show()\n",
    "\n",
    "if __name__ == \"__main__\":\n",
    "    # PySide 어플리케이션 인스턴스 생성\n",
    "    app = QtWidgets.QApplication([])\n",
    "    # 윈도우 생성\n",
    "    win = MyWindows()\n",
    "    # 어플리케이션 실행\n",
    "    sys.exit(app.exec_())"
   ]
  },
  {
   "cell_type": "markdown",
   "metadata": {},
   "source": [
    "### PySide2 위젯\n",
    "PySide2가 제공하는 모든 컨트롤 요소(윈도우, 버튼, 라벨, 에디트박스 등등) 과 같은 어플리케이션을 구성하는 요소들을 위젯이라고 합니다.\n",
    "\n",
    "### PySide2 모듈 [[공식문서]](https://doc.qt.io/qt-5/qtmodules.html)\n",
    "- PySide2 라이브러리는 QtWidgets, QtCore, QtGui 등 여러가지 모듈로 구성되어있습니다.\n",
    "- QtWidgets : 기본적인 위젯에 대한 것들이 정의 되어있습니다.\n",
    "- QtCore : 속성관련 설정, Thread, Timer 등에 대한 객체들이 정의 되어있습니다.\n",
    "- QtGui : QImage, QIcon, QFont 등 리소스 형식에 관한 것들이 정의 되어있습니다.\n",
    "\n",
    "### PySide2 import 형식\n",
    "- PySide2 는 여러가지 모듈로 구성되어있기 때문에 해당 모듈의 자원을 사용하기 위해선 모두 import를 해주어야만 합니다.\n",
    "- QLabel을 사용할 경우 ```from PySide2 import QtWidgets``` 로 임포트 하고 ```QtWidgets.QLabel``` 로 접근하거나 ```from PySide2.QtWidgets import QLabel``` 로 임포트하여 직접 ```QLabel```로 접근할 수 있습니다.\n",
    "\n",
    "\n",
    "### PySide2 레이아웃\n",
    "<img src=\"images/9.jpg\" style=\"border:1px solid #000000\"><br>\n",
    "PySide2 라이브러리를 사용하여 화면에 여러 위젯을 내가 원하는데로 배치하기 위해선 PySide2의 레이아웃에 대해 알아야 합니다. PySide2 에는 이런 화면 구성을 위해 QVBoxLayout, QHBoxLayout, QBoxLayout, QGridLayout, QLayout 으로 5개의 클래스를 제공하고 있습니다. 각 레이아웃들은 위 이미지에서 처럼 중첩하여 사용할 수 있습니다.\n",
    "\n",
    "- QVBoxLayout 은 위젯을 수직방향으로 나열할 수 있습니다.\n",
    "- QHBoxLayout 은 위젯을 수평방향으로 나열할 수 있습니다.\n",
    "- QGridLayout 은 격자 형태로 레이아웃을 구성할 수 있습니다."
   ]
  },
  {
   "cell_type": "markdown",
   "metadata": {},
   "source": [
    "### QLabel 위젯\n",
    "<img src=\"images/10.jpg\" style=\"border:1px solid #000000\"><br>\n",
    "- 입력은 불가능하고 텍스트를 출력하기 위한 기본적인 라벨 위젯 입니다. "
   ]
  },
  {
   "cell_type": "code",
   "execution_count": null,
   "metadata": {},
   "outputs": [],
   "source": [
    "# QLabel\n",
    "import sys\n",
    "from PySide2 import QtWidgets\n",
    "from PySide2 import QtCore\n",
    "\n",
    "class MyWindow(QtWidgets.QWidget):\n",
    "    '''QWidgets 를 상속받아 만든 커스텀 윈도우 클래스'''\n",
    "    def __init__(self):\n",
    "        super().__init__()\n",
    "        self.setWindowTitle(\"남박사의 파이썬\")\n",
    "\n",
    "        label_1 = QtWidgets.QLabel(\"라벨1 입니다.\", self)\n",
    "        label_1.setAlignment(QtCore.Qt.AlignCenter)\n",
    "        label_1.setStyleSheet(\"color:blue; font-size:20px;\")\n",
    "        label_1.resize(60, 25)\n",
    "\n",
    "        label_2 = QtWidgets.QLabel(\"라벨2 입니다.\", self)\n",
    "        label_2.setAlignment(QtCore.Qt.AlignRight)\n",
    "        label_2.setStyleSheet(\"color:red; font-size:20px;\")\n",
    "        layout = QtWidgets.QVBoxLayout()\n",
    "        layout.addWidget(label_1)\n",
    "        layout.addWidget(label_2)\n",
    "\n",
    "        self.setLayout(layout)\n",
    "        self.resize(400, 200)\n",
    "        self.show()\n",
    "\n",
    "if __name__ == \"__main__\":\n",
    "    app = QtWidgets.QApplication([])\n",
    "    win = MyWindow()\n",
    "    sys.exit(app.exec_())"
   ]
  },
  {
   "cell_type": "markdown",
   "metadata": {},
   "source": [
    "### QTextEdit 위젯\n",
    "<img src=\"images/11.jpg\" style=\"border:1px solid #000000\"><br>\n",
    "- 텍스트 입력을 받기 위한 위젯 입니다."
   ]
  },
  {
   "cell_type": "code",
   "execution_count": null,
   "metadata": {},
   "outputs": [],
   "source": [
    "import sys\n",
    "from PySide2 import QtWidgets\n",
    "from PySide2 import QtCore\n",
    "\n",
    "class MyWindow(QtWidgets.QWidget):\n",
    "    '''QWidgets 를 상속받아 만든 커스텀 윈도우 클래스'''\n",
    "    def __init__(self):\n",
    "        super().__init__()\n",
    "        self.setWindowTitle(\"남박사의 파이썬\")\n",
    "        textedit = QtWidgets.QTextEdit(self)\n",
    "        textedit.setStyleSheet(\"color:blue; font-size:20px;\")\n",
    "        textedit.resize(60, 25)\n",
    "\n",
    "        layout = QtWidgets.QVBoxLayout()\n",
    "        layout.addWidget(textedit)\n",
    "\n",
    "        self.setLayout(layout)\n",
    "        self.resize(400, 200)\n",
    "        self.show()\n",
    "\n",
    "if __name__ == \"__main__\":\n",
    "    app = QtWidgets.QApplication(sys.argv)\n",
    "    win = MyWindow()\n",
    "    sys.exit(app.exec_())"
   ]
  }
 ],
 "metadata": {
  "kernelspec": {
   "display_name": "Python 3",
   "language": "python",
   "name": "python3"
  },
  "language_info": {
   "codemirror_mode": {
    "name": "ipython",
    "version": 3
   },
   "file_extension": ".py",
   "mimetype": "text/x-python",
   "name": "python",
   "nbconvert_exporter": "python",
   "pygments_lexer": "ipython3",
   "version": "3.6.3"
  }
 },
 "nbformat": 4,
 "nbformat_minor": 2
}
