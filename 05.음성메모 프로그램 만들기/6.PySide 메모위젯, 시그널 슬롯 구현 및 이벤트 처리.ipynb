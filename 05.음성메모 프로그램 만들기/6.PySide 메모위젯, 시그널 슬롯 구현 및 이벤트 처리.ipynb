{
 "cells": [
  {
   "cell_type": "markdown",
   "metadata": {},
   "source": [
    "### 버튼 시그널, 슬롯 추가\n",
    "타이틀바에 생성한 버튼은 아직까지 아무런 기능이 없습니다. 이 버튼들을 클릭했을때 어떠한 동작을 하게 하려면 해당 버튼들에 클릭 시그널을 추가 하고 슬롯 함수를 구현해야 합니다."
   ]
  },
  {
   "cell_type": "code",
   "execution_count": null,
   "metadata": {},
   "outputs": [],
   "source": [
    "# 타이틀바의 MyBar 클래스에 생성한 3개의 버튼에 클릭 이벤트를 추가합니다.\n",
    "class MyBar(QtWidgets.QWidget):\n",
    "    def __init__(self, parent):\n",
    "        super(MyBar, self).__init__()\n",
    "        self.parent = parent\n",
    "        # ..... 코드 생략 .....\n",
    "        self.btn_new.clicked.connect(self.btn_new_clicked)\n",
    "        self.btn_close.clicked.connect(self.btn_delete_clicked)\n",
    "        self.btn_color.clicked.connect(self.btn_color_clicked)\n",
    "\n",
    "    def setColor(self, color):\n",
    "        self.title.setStyleSheet(\"background-color:\" + color)\n",
    "        self.btn_color.setStyleSheet(\"border: 0px; background-color:\" + color)\n",
    "        self.btn_close.setStyleSheet(\"border: 0px; background-color:\" + color)\n",
    "        self.btn_new.setStyleSheet(\"border: 0px; background-color:\" + color)\n",
    "\n",
    "    def btn_new_clicked(self):\n",
    "        print(\"click new\")\n",
    "        pass\n",
    "\n",
    "    def btn_color_clicked(self):\n",
    "        self.parent.changeBgColor()\n",
    "\n",
    "    def btn_delete_clicked(self):\n",
    "        buttonReply = QtWidgets.QMessageBox.question(self, \n",
    "                                                     '파이메모', \"현재 메모를 삭제 하시겠습니까?\", \n",
    "                                                     QtWidgets.QMessageBox.Yes | QtWidgets.QMessageBox.No, \n",
    "                                                     QtWidgets.QMessageBox.No)\n",
    "        if buttonReply == QtWidgets.QMessageBox.Yes:\n",
    "            print('Yes clicked.')\n",
    "            pass\n",
    "        else:\n",
    "            print('No clicked.')\n",
    "            self.parent.close()"
   ]
  },
  {
   "cell_type": "markdown",
   "metadata": {},
   "source": [
    "- MyBar 클래스 생성자에서 각 버튼에 ```self.버튼명.clicked.connect(self.함수명)``` 클릭 시그널과 슬롯 함수를 추가 합니다.\n",
    "- ```+``` 버튼 클릭시에는 새로운 위젯이 생성해야 하는데 이 부분은 추후 구현하도록 하겠습니다.\n",
    "- ```c``` 버튼 클릭시에는 메모 위젯의 색상을 바꿔야 하는데 이때 현재 ```c``` 버튼은 타이틀바인 MyBar 클래스에서 발생한 이벤트이지만 메모 위젯과 타이틀바의 색상을 모두 변경해야 하기 때문에 이 이벤트를 부모쪽에서 처리해야 합니다. 그래서 ```self.parent.changeBgColor()``` 로 부모쪽의 함수를 호출 하도록 합니다. ```changeBgColor()``` 를 부모쪽에서 구현해야 합니다.\n",
    "- ```x``` 버튼 클릭시에는 메모 윈도우를 종료해야 하는데 이때 현재 메모를 삭제할지 말지를 선택할 수 있게 하기 위해서 ```QMessageBox``` 를 이용하여 사용자에게 확인을 거치도록 했습니다. 사용자가 \"Yes\", \"No\" 중 선택하여 선택된 결과에 따라 동작을 결정합니다. 이때 메모를 삭제하는 경우에는 추후 구현할 데이터베이스에서 삭제하는 기능을 추가해야 합니다. 현재는 \"No\" 클릭시에 부모창에 ```close()``` 이벤트를 발생시켜 윈도우를 종료하게 합니다.\n",
    "- ```setColor()``` 함수는 부모 위젯에 의해 실행되는 함수 입니다."
   ]
  },
  {
   "cell_type": "code",
   "execution_count": null,
   "metadata": {},
   "outputs": [],
   "source": [
    "class MyMemo(QtWidgets.QWidget):\n",
    "    # .... 코드 생략 ....\n",
    "    def changeBgColor(self):\n",
    "        selectedcolor = QtWidgets.QColorDialog.getColor().name()\n",
    "        self.color_bg = selectedcolor\n",
    "        self.note.setStyleSheet(\"border:0px; background-color:\" + selectedcolor)\n",
    "        self.title_bar.setColor(selectedcolor)"
   ]
  },
  {
   "cell_type": "markdown",
   "metadata": {},
   "source": [
    "- 타이틀바에서 ```c``` 버튼 클릭시 부모쪽에 호출되는 ```chageBgColor()``` 함수를 위와 같이 구현합니다. chageBgColor 함수는 ```QColorDialog``` 을 사용해서 사용자로 하여금 색상값을 입력받을 수 있게 하였고 사용자에 의해 선택된 색상값을 현재 부모 위젯의 color_bg 값에 저장한 후 메모 입력 위젯인 ```self.note``` 과 타이틀바의 ```setColor(color)``` 멤버 함수에 현재선택된 값을 인자로 전달 합니다."
   ]
  },
  {
   "cell_type": "markdown",
   "metadata": {},
   "source": [
    "### 메모 위젯 리사이징"
   ]
  },
  {
   "cell_type": "code",
   "execution_count": null,
   "metadata": {},
   "outputs": [],
   "source": [
    "class MyMemo(QtWidgets.QWidget):\n",
    "    def __init__(self):\n",
    "        # ... 코드 생략\n",
    "        self.initUI()\n",
    "\n",
    "    def initUI(self):\n",
    "        # .... 코드 생략\n",
    "        self.layout = QtWidgets.QVBoxLayout()\n",
    "        self.layout.setSpacing(0)\n",
    "        self.layout.setMargin(0)\n",
    "\n",
    "        grip = QtWidgets.QSizeGrip(self)\n",
    "        self.layout.addWidget(self.title_bar)\n",
    "        self.layout.addWidget(self.note)\n",
    "        self.layout.addWidget(grip, 0, QtCore.Qt.AlignBottom | QtCore.Qt.AlignRight)\n",
    "        self.setLayout(self.layout)"
   ]
  },
  {
   "cell_type": "markdown",
   "metadata": {},
   "source": [
    "- QWidget 을 상속해서 만든 메모 위젯창에 리사이즈 기능을 추가하려면 ```QSizeGrip``` 객체를 사용할 수 있습니다.\n",
    "- ```QSizeGrip``` 인스턴스를 생성하여 ```QVboxLayout``` 에 타이틀바, 메모입력위젯 순서 다음에 추가합니다.\n",
    "- ```QtCore.Qt.AlignBottom``` 속성과 ```QtCore.Qt.AlignRight``` 속성을 주어 우측 하단 정렬 옵션을 사용합니다."
   ]
  },
  {
   "cell_type": "markdown",
   "metadata": {},
   "source": [
    "### 메모 위젯 윈도우 마우스 드래그 이동 구현\n",
    "현재 메모 위젯창은 타이틀바를 커스터마이징 했기 때문에 윈도우를 마우스로 이동시키는 기능을 직접 구현해야 합니다. 일반적인 윈도우의 마우스 클릭 이동은 2가지의 이벤트를 사용합니다."
   ]
  },
  {
   "cell_type": "code",
   "execution_count": null,
   "metadata": {},
   "outputs": [],
   "source": [
    "class MyMemo(QtWidgets.QWidget):\n",
    "    #.... 코드 생략 \n",
    "    def __init__(self):\n",
    "        self.oldPos = None\n",
    "\n",
    "    def resizeEvent(self, event):\n",
    "        self.oldPos = None\n",
    "\n",
    "    def mousePressEvent(self, event):\n",
    "        self.oldPos = event.globalPos()\n",
    "\n",
    "    def mouseMoveEvent(self, event):\n",
    "        if self.oldPos is not None:\n",
    "            delta = QtCore.QPoint(event.globalPos() - self.oldPos)\n",
    "            self.move(self.x() + delta.x(), self.y() + delta.y())\n",
    "            self.oldPos = event.globalPos()"
   ]
  },
  {
   "cell_type": "markdown",
   "metadata": {},
   "source": [
    "- 윈도우를 이동시키는 로직은 마우스 클릭 이벤트와 마우스 이동 이벤트로 구현할 수 있습니다.\n",
    "- 마우스를 클릭 이벤트 ```mousePresEvent(event)``` 가 발생하면 현재 마우스의 절대좌표 ```event.globalPos()``` 를 구해 ```self.oldPos``` 변수에 저장합니다.\n",
    "- ```mouseMoveEvent``` 는 기본적으로 마우스 버튼을 클릭했을때만 이벤트가 발생하며 클릭과 무관하게 마우스를 추적하려면 ```setMouseTracking()```을 사용하여 마우스 추적을 가능하게 설정해야 합니다.\n",
    "- 윈도우 창을 키우거나 줄일때도 ```mouseMoveEvent(event)```가 발생하기 때문에 ```resizeEvent(event)``` 이벤트에서 self.oldPos 값을 None 으로 설정합니다.\n",
    "- ```mouseMoveEvent(event)``` 이벤트 함수에서는 마우스의 현재 절대 좌표에서 최초 마우스 클릭시의 이전 마우스 절대좌표 사이의 차를 구해 얼만큼 이동했는지를 알 수 있습니다.이렇게 윈도우를 ```move()``` 함수를 통해 마우스가 이동한 만큼을 움직일 수 있습니다."
   ]
  }
 ],
 "metadata": {
  "kernelspec": {
   "display_name": "Python 3",
   "language": "python",
   "name": "python3"
  },
  "language_info": {
   "codemirror_mode": {
    "name": "ipython",
    "version": 3
   },
   "file_extension": ".py",
   "mimetype": "text/x-python",
   "name": "python",
   "nbconvert_exporter": "python",
   "pygments_lexer": "ipython3",
   "version": "3.6.3"
  }
 },
 "nbformat": 4,
 "nbformat_minor": 2
}
