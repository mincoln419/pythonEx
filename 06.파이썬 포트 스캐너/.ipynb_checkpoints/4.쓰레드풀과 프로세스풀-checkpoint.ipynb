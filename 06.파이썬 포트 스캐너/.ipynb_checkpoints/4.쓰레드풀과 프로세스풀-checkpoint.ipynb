{
 "cells": [
  {
   "cell_type": "markdown",
   "metadata": {},
   "source": [
    "# 쓰레드 풀\n",
    "\n",
    "원래 쓰레드풀은 쓰레드를 사용 할 때마다 생성하고 삭제할때 발생하는 리스크를 줄이고 보다 쓰레드 관리를 효율적으로 하기 위해서 쓰레드를 제한된 갯수만큼 미리 생성해놓고 사용된 쓰레드를 소멸시키지 않고 다시 새로운 요청이 들어왔을때 이를 재사용하는 방식의 구조를 말합니다. 파이썬 3.x 버전에서는 이를 더욱 편하게 관리 사용할 수 있게 ThreadPoolExecutor 라는 클래스가 포함되어 있습니다."
   ]
  },
  {
   "cell_type": "code",
   "execution_count": null,
   "metadata": {},
   "outputs": [],
   "source": [
    "from concurrent.futures import ThreadPoolExecutor, as_completed\n",
    "import socket\n",
    "import threading\n",
    "\n",
    "ports = [20, 21, 22, 23, 25, 80, 111, 135, 137, 138, 139, 443, 445, 548, 631, 993, 995]\n",
    "# 구글 아이피 주소\n",
    "host = \"172.217.27.68\"\n",
    "hosts = host.split(\".\")\n",
    "\n",
    "\n",
    "def pscan(host, port):\n",
    "    global thread_count\n",
    "    s = socket.socket(socket.AF_INET, socket.SOCK_STREAM)\n",
    "    s.settimeout(1)\n",
    "    r = s.connect_ex((host, port))\n",
    "    s.close()\n",
    "    if r == 0:\n",
    "        print(\"Connect {} {} {}\".format(host, port, r))\n",
    "        with open(\"result.txt\", \"a\") as f:\n",
    "            f.write(\"{} {} connect\\n\".format(host, port))\n",
    "\n",
    "def main():\n",
    "    for i in range(1, 255):\n",
    "        h = \"{}.{}.{}.{}\".format(hosts[0], hosts[1], hosts[2], i)\n",
    "        executor = ThreadPoolExecutor(max_workers=15)\n",
    "        futures = []\n",
    "        for port in ports:\n",
    "            futures.append(executor.submit(pscan, h, port))\n",
    "\n",
    "        for x in as_completed(futures):\n",
    "            result = x.result()"
   ]
  },
  {
   "cell_type": "markdown",
   "metadata": {},
   "source": [
    "ThreadPoolExecutor() 클래스를 생성할때 max_workers 의 인자로 쓰레드의 갯수를 제한할 수 있습니다. 이렇게 생성된 ThreadPoolExecutor 변수에 submit() 함수를 사용해서 쓰레드로 구동될 함수와 아규먼트들을 인자값으로 넘겨주면 쓰레드풀이 동작합니다. 여기서 submit() 함수를 실행하고 리턴된 값을 리스트에 추가한 뒤 리스트를 as_completed() 함수에 인자로 넘겨주어 쓰레드의 종료를 확인 할 수 있습니다."
   ]
  },
  {
   "cell_type": "markdown",
   "metadata": {},
   "source": [
    "## thread-safe\n",
    "\n",
    "쓰레드간 자원을 공유하게 되는 경우나 쓰레드에서 동시적으로 할당 및 사용하는 자원은 thread-safe 한 자원이어야 한다고들 말합니다. 여기서 thread-safe 라는 의미는 멀티 쓰레드 프로그램에서 사용해도 안전하다라는 의미로 사용됩니다."
   ]
  },
  {
   "cell_type": "code",
   "execution_count": null,
   "metadata": {},
   "outputs": [],
   "source": [
    "import threading\n",
    "\n",
    "x = 0\n",
    "\n",
    "def plus():\n",
    "    global x\n",
    "    for i in range(1000000):\n",
    "        x += 1\n",
    "\n",
    "def minus():\n",
    "    global x\n",
    "    for i in range(1000000):\n",
    "        x -= 1\n",
    "\n",
    "t1 = threading.Thread(target=plus)\n",
    "t2 = threading.Thread(target=minus)\n",
    "t1.start()\n",
    "t2.start()\n",
    "t1.join()\n",
    "t2.join()\n",
    "\n",
    "print(x)"
   ]
  },
  {
   "cell_type": "markdown",
   "metadata": {},
   "source": [
    "위의 코드는 전역변수 x 를 0으로 초기화 하고 plus 함수에서는 루프를 돌면서 증가, minus 함수에선는 똑같은 루프를 돌면서 감소 하고 각각 함수를 쓰레드로 실행 후 최종적으로 x 값을 출력하는 thread-unsafe 한 코드의 예제 입니다. 위에서 x는 컴퓨터 성능에 따라 다르겠지만 우리가 예상하는 0이 찍히지 않습니다. 그 이유는 어느 시점에서 쓰레드가 x에 동시 접근이 되어 어느 한쪽의 결과가 x에 반영이 되지 않았기 때문에 그런 결과가 나오게 됩니다. \n",
    "\n",
    "\n",
    "\n",
    "## 크리티컬 섹션\n",
    "\n",
    "이렇게 쓰레드간 자원이 공유되는 영역을 임계영역 혹은 크리티컬 섹션이라고 부릅니다. 파이썬에서는 쓰레드간 자원경쟁이 예상되는 경우 threading.Lock()을 통해 자원경쟁을 방지 할 수 있습니다."
   ]
  },
  {
   "cell_type": "code",
   "execution_count": null,
   "metadata": {},
   "outputs": [],
   "source": [
    "import threading\n",
    "\n",
    "lock = threading.Lock()\n",
    "x = 0\n",
    "\n",
    "def plus():\n",
    "    global x\n",
    "    for i in range(1000000):\n",
    "        with lock:\n",
    "            x += 1\n",
    "\n",
    "def minus():\n",
    "    global x\n",
    "    for i in range(1000000):\n",
    "        with lock:\n",
    "            x -= 1\n",
    "\n",
    "t1 = threading.Thread(target=plus)\n",
    "t2 = threading.Thread(target=minus)\n",
    "t1.start()\n",
    "t2.start()\n",
    "t1.join()\n",
    "t2.join()\n",
    "\n",
    "print(x)"
   ]
  },
  {
   "cell_type": "markdown",
   "metadata": {},
   "source": [
    "# 프로세스 풀\n",
    "\n",
    "파이썬에서 GIL(Global Interpreter Lock)은 파이썬 코드를 멀티쓰레드로 사용할 경우 단 한개의 쓰레드만이 파이썬 객체에 접근할 수 있도록 제한하는 뮤텍스라고 합니다. 이렇게 제한이 걸리는 이유는 파이썬이 메모리를 관리하는 방법이 thread-safe 하지 않기 때문이라고 합니다. \n",
    "- 뮤텍스란 공유되는 메모리를 여러 쓰레드가 동시에 사용할 수 없도록 잠그는 역할과 쓰레드의 갯수를 제한하는 역할을 하는데 쉽게 위에서 얘기한 크리티컬 섹션을 관리하는 한가지 방법이라고 볼 수 있습니다.\n",
    "\n",
    "그래서 다른 자바나 C++ 에서 쓰레드를 구현해본 후 파이썬에서 쓰레드를 구현해보면 뭔가 잘못된거 같은 결과를 보기도 합니다. 통상적으로 쓰레드를 사용하는 목적은 직렬처리되는 로직을 병렬로 분산해서 좀 더 빠른 결과를 얻기 위함이 가장 큰데 어떤 상황에서는 쓰레드를 구동하나 안하나 별다른 차이를 느끼지 못하는 경우도 종종 있습니다.\n",
    "\n",
    "## 멀티프로세스 기반 병렬처리\n",
    "\n",
    "그래서 파이썬에서는 이런 문제를 해결하고자 멀티쓰레드가 아닌 멀티프로세스 방식의 라이브러리를 제공합니다. 이전의 버전에서는 multiprocessing 모듈을 사용하고 3.x 버전에서는 ProcessPoolExecutor 를 사용해서 프로세스풀을 구현할 수 있게 됩니다. ThreadPoolExecutor 와 사용방법은 동일하기 때문에 특별히 어려운 점은 없습니다."
   ]
  },
  {
   "cell_type": "code",
   "execution_count": null,
   "metadata": {},
   "outputs": [],
   "source": [
    "from concurrent.futures import ProcessPoolExecutor, as_completed\n",
    "import socket\n",
    "import threading\n",
    "import os\n",
    "\n",
    "ports = [20, 21, 22, 23, 25, 80, 111, 135, 137, 138, 139, 443, 445, 548, 631, 993, 995]\n",
    "# 구글 아이피 주소\n",
    "host = \"172.217.27.68\"\n",
    "hosts = host.split(\".\")\n",
    "\n",
    "\n",
    "def pscan(host, port):\n",
    "    s = socket.socket(socket.AF_INET, socket.SOCK_STREAM)\n",
    "    s.settimeout(1)\n",
    "    r = s.connect_ex((host, port))\n",
    "    s.close()\n",
    "    if r == 0:\n",
    "        print(\"[{}] Connect {} {} {}\".format(os.getpid(), host, port, r))\n",
    "        with open(\"result.txt\", \"a\") as f:\n",
    "            f.write(\"{} {} connect\\n\".format(host, port))\n",
    "\n",
    "def main():\n",
    "    for i in range(1, 255):\n",
    "        h = \"{}.{}.{}.{}\".format(hosts[0], hosts[1], hosts[2], i)\n",
    "        executor = ProcessPoolExecutor(max_workers=15)\n",
    "        futures = []\n",
    "        for port in ports:\n",
    "            futures.append(executor.submit(pscan, h, port))\n",
    "\n",
    "        for x in as_completed(futures):\n",
    "            result = x.result()\n",
    "\n",
    "if __name__ == \"__main__\":\n",
    "    main()"
   ]
  },
  {
   "cell_type": "markdown",
   "metadata": {},
   "source": [
    "사용방법은 ThreadPoolExecutor와 동일하나 반드시 알아야 할 몇가지 차이점이 있습니다.\n",
    "\n",
    "- ProcessPoolExecutor는 반드시 메인모듈에서 실행되어야 합니다.\n",
    "- 프로세스 독립적으로 실행되기 떄문에 각 프로세스마다 global 변수를 공유하지 않습니다."
   ]
  }
 ],
 "metadata": {
  "kernelspec": {
   "display_name": "Python 3",
   "language": "python",
   "name": "python3"
  },
  "language_info": {
   "codemirror_mode": {
    "name": "ipython",
    "version": 3
   },
   "file_extension": ".py",
   "mimetype": "text/x-python",
   "name": "python",
   "nbconvert_exporter": "python",
   "pygments_lexer": "ipython3",
   "version": "3.6.3"
  }
 },
 "nbformat": 4,
 "nbformat_minor": 2
}
