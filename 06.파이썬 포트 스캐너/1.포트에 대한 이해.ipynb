{
 "cells": [
  {
   "cell_type": "markdown",
   "metadata": {},
   "source": [
    "# 네트워크\n",
    "\n",
    "통상적으로 컴퓨터 네트워크는 분산되어있는 여러 컴퓨터들을 랜선 같은 유선과 와이파이 같은 무선을 통해 하나의 망으로 구성하여 서로 직간접적으로 연결되어있는 것을 말합니다. 연결된 컴퓨터들은 서로 데이터를 공유할 수 있습니다. \n",
    "\n",
    "## 프로토콜\n",
    "프로토콜은 다른말로 통신 규약이라고 하는데 네트워크에 연결된 컴퓨터 혹은 통신 장비사이에서 메세지를 주고 받는 양식의 규칙이라고 볼 수 있습니다. 각각의 프로토콜은 독립적으로 구현되기 때문에 하드웨어 또는 소프트웨어 등을 사용해서 구현됩니다.\n",
    "\n",
    "- HTTPS, HTTP : www 에서 사용하는 Hyper Text Transfer Protocol (Secure)\n",
    "- FTP, SFTP : 파일전송에 사용하는 (Secure) File Transfer Protocol\n",
    "- POP3, SMTP : 메일수신 발신에 사용하는 Post Office Protocol version3, Simple Mail Transfer Protocol\n",
    "- Telnet : 터미널 접속에 사용하는 Terminal Network\n",
    "- SSH : 쉘 접속에 사용하는 Secure Shell\n",
    "- SSL : 보안소켓 계층이라는 말로 쉽게 HTTPS 가 SSL 프로토콜을 기반으로 동작합니다. Secure Socket Layer\n",
    "\n",
    "## 소켓\n",
    "우리가 통상적으로 사용하는 IP 라는 단어는 Internet Protocol 의 약자로서 사실 인터넷 프로토콜을 얘기합니다. 컴퓨터 통신은 대부분 인터넷 프로토콜을 기반으로 동작하게 되어있고 네트워크 프로그램의 최종 종착점은 네트워크 소켓입니다. 컴퓨터 네트워크 프로그램은 통신을 하기 위해 소켓을 생성하고 이 소켓을 사용해서 접속, 데이터 전송을 할 수 있게 되어있습니다. 네트워크 소켓은 크게 TCP 프로토콜, UDP 프로토콜로 나뉘며 로컬IP주소, 로컬Port, 원격IP주소, 원격 Port 의 요소로 구성 되어있습니다.\n",
    "\n",
    "\n",
    "```socket.socket(family=AF_INET, type=SOCK_STREAM, proto=0, fileno=None)```\n",
    "\n",
    "파이썬에서는 위처럼 소켓을 생성 할 수 있습니다. family는 지정된 주소 패밀리, type=소켓유형, proto=프로토콜번호를 인자로 사용하게 됩니다. 일반적인 소켓 프로그램에서는 TCP 인터넷 프로토콜, IP4 주소체계를 사용하기 때문에 아래와 같이 소켓을 생성해서 사용합니다."
   ]
  },
  {
   "cell_type": "code",
   "execution_count": null,
   "metadata": {},
   "outputs": [],
   "source": [
    "import socket\n",
    "s = socket.socket(socket.AF_INET, socket.SOCK_STREAM)"
   ]
  },
  {
   "cell_type": "markdown",
   "metadata": {},
   "source": [
    "생성된 소켓은 connect 함수를 사용해서 원격지의 네트워크 서버에 접속할 수 있습니다."
   ]
  },
  {
   "cell_type": "code",
   "execution_count": null,
   "metadata": {},
   "outputs": [],
   "source": [
    "# 접속 요청\n",
    "s.connect((\"127.0.0.1\", 9000))"
   ]
  },
  {
   "cell_type": "markdown",
   "metadata": {},
   "source": [
    "connect() 함수 인자는 접속대상의 IP주소와 접속대상 포트를 튜플 형태의 자료형태로 넘겨줘야 합니다. 당연한 이야기지만 접속대상 IP주소의 서버가 구동중이지 않으면 오류가 발생합니다."
   ]
  },
  {
   "cell_type": "markdown",
   "metadata": {},
   "source": [
    "## 포트\n",
    "인터넷 프로토콜 통신의 종단점은 포트 입니다. 각 포트는 번호로 지정하여 IP 주소와 함께 사용됩니다. 일반적으로 0번부터 65535번까지의 포트를 사용할 수 있습니다. 컴퓨터에서 카카오톡 메신저를 쓰면서 인터넷을 동시에 사용할 수 있는건 이렇게 각각 소프트웨어마다의 사용되는 포트가 다르기 때문에 가능한 일 입니다. 포트는 일반적으로 ICANN(Internet Corporation for Assigned Names and Numbers) 라는 국제인터넷주소관리기구에서 권고해놓은 일반적인 그룹이 있습니다. [ [TCP/UDP 포트 목록 위키백과 링크] ](https://ko.wikipedia.org/wiki/TCP/UDP%EC%9D%98_%ED%8F%AC%ED%8A%B8_%EB%AA%A9%EB%A1%9D)\n",
    "\n",
    "- 0 ~ 1023 : 잘 알려진 포트 (well-know port)\n",
    "- 1024 ~ 49151 : 등록된 포트 (registered port)\n",
    "- 49152 ~ 65535 : 동적 포트 (dynamic port)"
   ]
  },
  {
   "cell_type": "code",
   "execution_count": null,
   "metadata": {},
   "outputs": [],
   "source": [
    "import socket\n",
    "try:\n",
    "    server = socket.socket(socket.AF_INET, socket.SOCK_STREAM)\n",
    "    server.bind((\"\", 445))\n",
    "except Exception as e:\n",
    "    print(e)"
   ]
  },
  {
   "cell_type": "markdown",
   "metadata": {},
   "source": [
    "일반적인 컴퓨터 네트워크 프로그램은 한개 이상의 포트를 바인딩하여 사용하게 되며 위에서 사용되는 포트는 가급적 피하는게 좋습니다. 위의 예제는 소켓을 서버 목적으로 생성해서 윈도우 운영체제의 윈도우 공유시스템에서 선점하여 사용중인 445번 포트로 바인딩 하는 경우 오류가 발생하는것을 보여주는 샘플 코드 입니다. 잘 알려진 포트 외에도 포트가 이미 다른 프로그램에 선점되어 바인딩 되어있는 경우 해당 포트를 바인딩 하려고 할때 오류가 발생합니다. 바인딩은 소켓을 특정 포트에 맵핑한다는 의미로 사용되는데 일반적인 컴퓨터 소켓 프로그램은 이 맵핑의 주체가 운영체제 입니다."
   ]
  },
  {
   "attachments": {},
   "cell_type": "markdown",
   "metadata": {},
   "source": [
    "## 윈도우PC 현재 사용중인 포트 보기\n",
    "\n",
    "![image0.jpg](images/0.jpg)\n",
    "\n",
    "윈도우 명령프롬프트에서 ```netstat -na``` 를 입력하면 현재 윈도우 컴퓨터 네트워크 상태를 모두 확인 할 수 있습니다. 어떤 포트로 접속을 대기중인지(LISTENING), 어떤 포트로 어떤 아이피 주소와 연결된 상태인지(ESTABLISHED), 어떤 아이피 주소와 포트로 접속이 되었다가 종료 되었는지(TIME_WAIT) 를 모두 확인 할 수 있습니다.\n",
    "\n",
    "![image1.jpg](images/1.jpg)\n",
    "\n",
    "윈도우에서 제공하는 리소스 매니저를 통해서도 자세한 네트워크 정보를 확인 할 수 있습니다. 어떤 프로그램이 어떤 IP주소와 포트로 연결되었으며 얼마나 많은 양의 데이터를 주고 받는지까지도 확인 할 수 있습니다."
   ]
  }
 ],
 "metadata": {
  "kernelspec": {
   "display_name": "Python 3",
   "language": "python",
   "name": "python3"
  },
  "language_info": {
   "codemirror_mode": {
    "name": "ipython",
    "version": 3
   },
   "file_extension": ".py",
   "mimetype": "text/x-python",
   "name": "python",
   "nbconvert_exporter": "python",
   "pygments_lexer": "ipython3",
   "version": "3.6.3"
  }
 },
 "nbformat": 4,
 "nbformat_minor": 2
}
