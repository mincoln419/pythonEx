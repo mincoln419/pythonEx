{
 "cells": [
  {
   "cell_type": "markdown",
   "metadata": {},
   "source": [
    "# 포트 스캐너\n",
    "\n",
    "포트 스캐너는 말 그대로 특정 IP 주소의 컴퓨터에서 어떤 포트가 개방되어있는지를 확인 할 수 있는 프로그램 입니다. 네트워크 서버 프로그램은 어떤 프로그램으로 만들었던 결국엔 소켓을 생성해서 아이피 주소와 포트를 바인딩 해서 접속을 대기 중인 상태이기 때문에 이렇게 대기중인 소켓이 있다면 connect() 함수를 사용하면 무조건 연결을 된다는 점을 이용한 기능이라고 볼 수 있습니다.\n",
    "\n",
    "**<span style=\"color:red\">국내에선 아직 사례는 없지만 포트스캔을 하는 행위는 법률적인 측면에서 그 자체만으로도 해킹의 예비행위로 간주하여 처벌 될 수 있습니다. 외국의 경우에도 대부분은 무혐의 처리가 된 경우가 많지만 은행 네트워크를 단지 포트스캔한 혐의만으로 유죄판결이 난 경우도 있습니다. 포트스캔은 시스템의 취약점 분석을 위한 목적으로 사용되어야 하며 공격을 위한 분석 도구로 사용하지 않아야 합니다.</span>**\n",
    "\n",
    "\n",
    "## 포트스캐너 종류\n",
    "포트 스캐너에는 Sweeps, Open Scan, Half-Open, Stealth... 등 스캔의 방식에 따라 많은 종류가 있습니다. 이런 스캔 방식을 모두 이해하려면 네트워크 통신 방식, 원리, 패킷에 대한 상당한 지식이 필요합니다. 이 강좌에선 간단한 내용만 다룹니다."
   ]
  },
  {
   "cell_type": "code",
   "execution_count": null,
   "metadata": {},
   "outputs": [],
   "source": [
    "import socket\n",
    "\n",
    "host = \"127.0.0.1\"\n",
    "for port in range(1, 65535):\n",
    "    try:\n",
    "        s = socket.socket(socket.AF_INET, socket.SOCK_STREAM)\n",
    "        # 접속 응답 시간을 단축 하기 위해서\n",
    "        # 소켓의 timeout 시간을 0.5 초로 설정해서 0.5초 만에 접속여부를 판단합니다.\n",
    "        s.settimeout(0.5)\n",
    "        result = s.connect_ex((host, port))\n",
    "        if result == 0:\n",
    "            print(\"***** {} {} {} *****\".format(host, port, result))\n",
    "        else:\n",
    "            print(\"not connect {} {}\".format(host, port))\n",
    "        s.close()\n",
    "    except:\n",
    "        print(\"error {} {}\".format(host, port))\n",
    "        pass"
   ]
  },
  {
   "cell_type": "markdown",
   "metadata": {},
   "source": [
    "## 코드 설명\n",
    "위 코드는 아주 간단한 host 주소의 포트를 1부터 65535 번까지 스캔하는 프로그램 입니다. 여기서 settimeout() 함수는 소켓의 디폴트 대기 시간을 설정하는 함수 입니다. 포트스캐너의 특성상 접속 여부만 확인하면 되기 때문에 기본적으로 2초이상 걸리는 응답 시간을 최소화 하기 위해서 0.5초로 설정했습니다만 정상적인 서버에 접속시에는 네트워크 사정에 의해 timeout 시간을 너무 짧게 잡으면 실제 서버가 응답하기도 전에 종료로 판단되는 경우도 있으니 주의해야 합니다.\n",
    "\n",
    "일반적인 소켓 접속으로 connect() 는 리턴값이 없습니다만 connect_ex() 함수는 리턴값이 있습니다. 소켓이 문제없이 접속되었다면 0을 리턴하게 됩니다. 접속시 connect() 함수를 사용하고 실패시 exception 에서 처리해도 되지만 여기서는 connect_ex()함수를 사용해서 리턴값으로 접속 여부를 판단하게 했습니다."
   ]
  },
  {
   "cell_type": "markdown",
   "metadata": {},
   "source": [
    "## 코드의 문제점\n",
    "\n",
    "위 코드의 문제점은 일단 너무너무 느리다는 점과 한개의 아이피 주소만 확인 가능하다는 단점이 있습니다. 그래서 우리는 모든 포트를 전체 스캔 할게 아니라 특정 포트만 스캔하고 여러개의 아이피 주소를 대상으로 하는 코드로 변경해보겠습니다."
   ]
  },
  {
   "cell_type": "code",
   "execution_count": null,
   "metadata": {},
   "outputs": [],
   "source": [
    "import socket\n",
    "\n",
    "\n",
    "ports = [20, 21, 22, 23, 25, 80, 111, 135, 137, 138, 139, 443, 445, 548, 631, 993, 995]\n",
    "\n",
    "# 구글 아이피 주소\n",
    "host = \"172.217.27.68\"\n",
    "\n",
    "hosts = host.split(\".\")\n",
    "\n",
    "# 172.217.27.1 에서부터 172.217.27.255 까지 \n",
    "# 아이피주소의 c클래스 전체를 스캔하게 수정\n",
    "for i in range(1, 255):\n",
    "    h = \"{}.{}.{}.{}\".format(hosts[0], hosts[1], hosts[2], i)\n",
    "    for port in ports:\n",
    "        try:\n",
    "            s = socket.socket(socket.AF_INET, socket.SOCK_STREAM)\n",
    "            s.settimeout(0.5)\n",
    "            r = s.connect_ex((h, port))\n",
    "            if r == 0:\n",
    "                print(\"{} {} {}\".format(h, port, r))\n",
    "            s.close()\n",
    "        except: pass\n"
   ]
  },
  {
   "cell_type": "markdown",
   "metadata": {},
   "source": [
    "위의 코드는 일반적으로 알려진 포트트들을 list 에 담아서 해당 목록만 스캔을 하게 변경하였고 목록중 개방된 포트만 출력하도록 변경된 코드 입니다. 아까보단 나아졌지만 아이피가 한개가 아닌 수십, 수백개를 스캔한다고 하면 역시나 너무나도 느립니다."
   ]
  },
  {
   "cell_type": "markdown",
   "metadata": {},
   "source": [
    "### 포트스캐너와 보안\n",
    "\n",
    "보통 특정 대상 혹은 불특정 대상의 시스템을 해킹하고자 할때 외부에서 내부로 침투를 하거나 해당 시스템에 어떤 서비스가 구동중인지 확인해야 합니다. 이런 경우 쉽고 가장 많이 사용되는 방법이 이 포트스캐너를 이용하여 해당 시스템에 어떤 서비스가 구동중이고 해당 서비스의 어떤 포트가 개방되어있는지를 확인할 수 있게 됩니다. 물론 포트가 개방되었다고 무조건 침입 가능한것은 아니지만 이런 정보를 수집하여 취약점을 분석하는데 사용될 수 있습니다. 혹은 데이터베이스나 서비스의 관리자의 아이디 비번을 무작위적으로 대입해보며 침투를 시도해볼 수도 있게 됩니다."
   ]
  }
 ],
 "metadata": {
  "kernelspec": {
   "display_name": "Python 3",
   "language": "python",
   "name": "python3"
  },
  "language_info": {
   "codemirror_mode": {
    "name": "ipython",
    "version": 3
   },
   "file_extension": ".py",
   "mimetype": "text/x-python",
   "name": "python",
   "nbconvert_exporter": "python",
   "pygments_lexer": "ipython3",
   "version": "3.6.3"
  }
 },
 "nbformat": 4,
 "nbformat_minor": 2
}
