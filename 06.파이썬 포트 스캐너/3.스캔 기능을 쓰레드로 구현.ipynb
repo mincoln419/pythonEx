{
 "cells": [
  {
   "cell_type": "markdown",
   "metadata": {},
   "source": [
    "# 스캔 기능을 쓰레드로 구현\n",
    "\n",
    "우리가 작성해놓은 포트스캐너의 속도 문제를 해결하기 위해서 스캔 기능을 쓰레드로 구현하는 방법에 대해 알아보도록 하겠습니다. 프로그램은 프로세스와 쓰레드로 운영되는데 쉽게 프로세스는 프로그램 자체의 인스턴스 개념으로 보면 되고 쓰레드는 프로세스 내에서 동작을 하는 작업의 단위로 볼 수 있습니다.\n",
    "\n",
    "\"운영체제는 각각의 프로그램을 프로세스로 관리하고 프로세스는 내부적인 실행동작을 쓰레드로 관리한다고 볼 수 있습니다.\"\n",
    "\n",
    "좀 더 자세히 들어가면 각각의 프로그램은 저마다의 메모리를 운영체제에 할당 받아 사용하게 됩니다. 여기서 메모리는 코드영역, 데이터 영역, 힙 영역, 스택영역으로 구분되는데 프로세스가 쓰레드를 생성하면 쓰레드는 독립적인 스택메모리를 다시 할당 받아 사용하게 됩니다. 물론 같은 프로세스이기 때문에 나머지 코드영역, 데이터영역, 힙영역은 공유 상태입니다. 쓰레드는 자신에게 주어진 독립된 메모리를 할당 받았기 때문에 이 안에서 다른 쓰레드와 분리된 독립적인 기능을 수행하게 됩니다."
   ]
  },
  {
   "cell_type": "markdown",
   "metadata": {},
   "source": [
    "## 쓰레드로 동작하기 위해서 코드 수정\n",
    "\n",
    "쓰레드를 구동하기 위해선 어떤 기능이 작업의 단위로 구성이 되어야 합니다. 이 구성은 함수로 만들수도 있고 클래스 단위로 만들수도 있습니다만 여기서는 앞에서 작성한 코드에서 소켓을 생성하고 서버에 접속하는 동작을 함수로 작성하도록 하겠습니다."
   ]
  },
  {
   "cell_type": "code",
   "execution_count": null,
   "metadata": {},
   "outputs": [],
   "source": [
    "# 쓰레드를 사용하기 위해 threading 라이브러리 임포트\n",
    "import threading\n",
    "import socket\n",
    "\n",
    "def pscan(host, port):\n",
    "    try:\n",
    "        s = socket.socket(socket.AF_INET, socket.SOCK_STREAM)\n",
    "        s.settimeout(0.5)\n",
    "        r = s.connect_ex((host, port))\n",
    "        s.close()\n",
    "        if r == 0:\n",
    "            print(\"Connect {} {} {}\".format(host, port, r))\n",
    "            with open(\"result.txt\", \"a\") as f:\n",
    "                f.write(\"{} {} connect\\n\".format(host, port))\n",
    "    except Exception as e:\n",
    "        print(e)"
   ]
  },
  {
   "cell_type": "markdown",
   "metadata": {},
   "source": [
    "pscan 함수는 인자로 아이피주소와 포트 번호를 받아서 동작합니다. 함수 내용은 이전과 마찬가지로 소켓을 생성하고 접속을 시도하고 접속이 되면 화면에 출력을 하는데 이번에는 해당 결과를 파일에도 작성을 하도록 하겠습니다. 여기서 파일은 \"a\" 모드로 열기 때문에 파일내용에 계속 누적이 되게 됩니다."
   ]
  },
  {
   "cell_type": "code",
   "execution_count": null,
   "metadata": {},
   "outputs": [],
   "source": [
    "import threading\n",
    "import socket\n",
    "\n",
    "ports = [20, 21, 22, 23, 25, 80, 111, 135, 137, 138, 139, 443, 445, 548, 631, 993, 995]\n",
    "# 구글 아이피 주소\n",
    "host = \"172.217.27.68\"\n",
    "hosts = host.split(\".\")\n",
    "\n",
    "def pscan(host, port):\n",
    "    try:\n",
    "        s = socket.socket(socket.AF_INET, socket.SOCK_STREAM)\n",
    "        s.settimeout(0.5)\n",
    "        r = s.connect_ex((host, port))\n",
    "        s.close()\n",
    "        if r == 0:\n",
    "            print(\"Connect {} {} {}\".format(host, port, r))\n",
    "            with open(\"result.txt\", \"a\") as f:\n",
    "                f.write(\"{} {} connect\\n\".format(host, port))\n",
    "    except Exception as e:\n",
    "        print(e)\n",
    "\n",
    "def main():\n",
    "    for i in range(1, 255):\n",
    "        h = \"{}.{}.{}.{}\".format(hosts[0], hosts[1], hosts[2], i)\n",
    "        for port in ports:\n",
    "            t = threading.Thread(target=pscan, args=(h, port))\n",
    "            t.start()\n",
    "\n",
    "if __name__ == \"__main__\":\n",
    "    main()"
   ]
  },
  {
   "cell_type": "markdown",
   "metadata": {},
   "source": [
    "## 쓰레드 사용\n",
    "\n",
    "쓰레드를 사용하기 위해선 threading 라이브러리를 import 해야 합니다. 그리고 t = threading.Thread(target=대상함수, args=(함수인자,)) 형태로 쓰레드를 생성하고 t.start() 로 쓰레드를 시작시킬 수 있습니다.\n",
    "\n",
    "\n",
    "## 쓰레드의 종료 시점\n",
    "\n",
    "여기서 중요한 사실 한가지는 예를 들어 우리가 쓰레드를 1부터 100까지 순서대로 생성 및 실행을 시켰다 하더라도 이 쓰레드들은 1부터 100까지의 순서대로 종료되지 않는다는 사실입니다. 그리고 위의 예제처럼 생성되서 실행된 프로그램은 쓰레드의 일이 모두 끝나기 전까진 프로그램 종료가 되지 않는 다는 점 입니다. 프로그램이 종료되면 동작중인 쓰레드도 같이 종료되게 하려면 쓰레드의 데몬 속성값을 True 설정해야 합니다.\n",
    "\n",
    "```t.daemon = True```\n",
    "\n",
    "\n",
    "## 쓰레드 관리\n",
    "\n",
    "위의 예제 코드는 이론적으로 최대 아이피주소 대역(254) x 포트 리스트의 갯수(17) = 4318 개 만큼의 쓰레드가 생성이 되게 됩니다. 여기서 문제가 그럼 과연 동시에 실행중인 상태의 쓰레드는 몇 개가 되느냐 인데 사실 위 코드에서는 그런걸 관리하는 부분이 없기 때문에 우리는 알 수가 없습니다. 그리고 이 동시에 실행되는 쓰레드의 수는 쓰레드가 무슨일을 하느냐의 내용에 따라 큰 문제를 야기시킬 수 있습니다.\n",
    "\n",
    "요즘 나오는 성능의 PC에서 위 코드 정도는 아무 문제없이 구동이 될테지만 쓰레드 내에서 자원을 많이 사용하는 코드가 동시에 너무 많이 실행되서 시스템의 자원보다 더 많은 자원이 필요하는 상황이 될때 PC는 멈추거나 오류를 발생할 수 있기 때문입니다. 그래서 우리는 쓰레드의 갯수를 우리가 직접 조절할 필요성이 있고 그에 맞게 코드를 수정해야 합니다."
   ]
  },
  {
   "cell_type": "code",
   "execution_count": null,
   "metadata": {},
   "outputs": [],
   "source": [
    "import threading\n",
    "import socket\n",
    "\n",
    "# 쓰레드 갯수를 카운팅 할 전역 변수\n",
    "global thread_count\n",
    "thread_count = 0\n",
    "\n",
    "ports = [20, 21, 22, 23, 25, 80, 111, 135, 137, 138, 139, 443, 445, 548, 631, 993, 995]\n",
    "# 구글 아이피 주소\n",
    "host = \"172.217.27.68\"\n",
    "hosts = host.split(\".\")\n",
    "\n",
    "def pscan(host, port):\n",
    "    global thread_count\n",
    "    s = socket.socket(socket.AF_INET, socket.SOCK_STREAM)\n",
    "    s.settimeout(1)\n",
    "    r = s.connect_ex((host, port))\n",
    "    s.close()\n",
    "    if r == 0:\n",
    "        print(\"Connect {} {} {}\".format(host, port, r))\n",
    "        with open(\"result.txt\", \"a\") as f:\n",
    "            f.write(\"{} {} connect\\n\".format(host, port))\n",
    "    \n",
    "    # scan 함수가 종료될 때 쓰레드 갯수를 -1 해준다.\n",
    "    thread_count -= 1\n",
    "    print(\"쓰레드 갯수 감소 {}\".format(thread_count))\n",
    "\n",
    "\n",
    "def main():\n",
    "    global thread_count\n",
    "    for i in range(1, 255):\n",
    "        h = \"{}.{}.{}.{}\".format(hosts[0], hosts[1], hosts[2], i)\n",
    "        for port in ports:\n",
    "            while True:\n",
    "                if thread_count > 100:\n",
    "                    #print(\"쓰레드 생성 대기중 {}....\".format(thread_count))\n",
    "                    continue\n",
    "\n",
    "                t = threading.Thread(target=pscan, args=(h, port))\n",
    "                thread_count += 1\n",
    "                t.daemon = True\n",
    "                t.start()\n",
    "\n",
    "if __name__ == \"__main__\":\n",
    "    main()"
   ]
  },
  {
   "cell_type": "markdown",
   "metadata": {},
   "source": [
    "쓰레드를 카운팅 할 전역 변수를 thread_count 로 선언하고 쓰레드를 생성할때마다 현재 thread_count 의 값을 확인하고 100개가 넘어가는 경우 대기 후 100개 미만인 경우에만 수행하게 합니다. 쓰레드가 종료될때 thread_count 의 값을 1씩 감소 시킵니다."
   ]
  }
 ],
 "metadata": {
  "kernelspec": {
   "display_name": "Python 3",
   "language": "python",
   "name": "python3"
  },
  "language_info": {
   "codemirror_mode": {
    "name": "ipython",
    "version": 3
   },
   "file_extension": ".py",
   "mimetype": "text/x-python",
   "name": "python",
   "nbconvert_exporter": "python",
   "pygments_lexer": "ipython3",
   "version": "3.6.3"
  }
 },
 "nbformat": 4,
 "nbformat_minor": 2
}
