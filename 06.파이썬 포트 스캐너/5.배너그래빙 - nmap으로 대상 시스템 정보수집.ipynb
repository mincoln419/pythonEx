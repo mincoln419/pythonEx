{
 "cells": [
  {
   "cell_type": "markdown",
   "metadata": {},
   "source": [
    "# 배너그래빙 (Banner Grabbing)\n",
    "\n",
    "FTP, Telnet 등 몇몇 서비스는 원격지에서 해당 서비스로 접속을 하면 안내 문구를 팝업하게 되는데 이를 배너라고 합니다. 배너그래빙은 이 배너 정보를 확인하여 시스템의 정보를 확인하는 방법을 말합니다.\n",
    "\n",
    "![FTP 접속시 안내문구](images/2.jpg)<br><center style=\"color:gray\">*FTP 접속시 안내되는 문자열*</center>\n",
    "\n",
    "\n",
    "### 포트스캐너의 한계\n",
    "\n",
    "우리가 제작한 포트스캐너는 단순히 우리가 지정한 포트를 접속해보고 유추하는 수준에서 동작하며 그 외의 어떤 정보나 동작도 하지 않습니다. 또한 위 예제에서와는 다르게 서버 관리자가 안내 문구 기능을 끄거나 안내 문구 값을 빈 문자열 값으로 설정한 경우에 어떠한 정보도 얻을 수 없게 됩니다.\n",
    "\n",
    "\n",
    "### Nmap\n",
    "\n",
    "Nmap은 Network Mapper 라는 공개 소프트웨어로 네트워크 검색 및 보안 모니터링을 위한 통합 유틸리티 서비스를 제공합니다. Nmap 은 원시 IP 패킷을 분석하여 네트워크에서 호스트정보, 호스트가 제공하는 서비스에 대한 이름 및 버전 정보, 실행중인 운영체제 및 운영체제 버전정보, 방화벽 유형 등에 대한 정보를 알 수 있습니다. Nmap 은 리눅스, 윈도우, 맥OS 등의 운영체제에서 사용할 수 있습니다.\n",
    "\n",
    "**<span style=\"color:red\">내부망의 스캔은 문제 없으나 특정 Windows 10 환경에서 외부망의 포트를 스캔하지 못하는 경우가 있습니다. 따라서 외부망에 있는 시스템의 취약점 분석을 하기 위해선 리눅스 사용을 권장합니다. </span>**\n",
    "\n",
    "\n",
    "### 인스톨 가이드\n",
    "> https://nmap.org/book/install.html 설치 가이드를 참고하여 운영체제에 맞는 버전을 먼저 설치 해야 합니다.\n",
    "\n",
    "\n",
    "### Nmap 윈도우 설치\n",
    "1. Nmap [윈도우용 설치 프로그램](https://nmap.org/dist/nmap-7.91-setup.exe)을 다운로드 하여 설치 합니다.\n",
    "2. [윈도우용 Npcap 소프트웨어](https://nmap.org/npcap/dist/npcap-1.31.exe)를 다운로드 하여 설치합니다.\n",
    "3. Nmap 설치 중 오류 발생시 [Microsoft Visual C++ 2013 재배포 가능 패키지](https://www.microsoft.com/ko-KR/download/confirmation.aspx?id=40784)를 설치 해야 합니다.\n",
    "4. 설치된 Nmap 경로가 시스템의 환경 변수에 등록되어야 합니다. [[윈도우용 Nmap 설치 가이드 참조]](https://nmap.org/book/inst-windows.html#inst-win-exec)\n",
    "5. [파이썬용 Nmap 라이브러리](https://xael.org/pages/python-nmap-0.6.4.tar.gz)를 다운로드 하여 임시 폴더에 압축을 풀어줍니다.\n",
    "6. Nmap 라이브러리가 압축 풀린 폴더에서 `python setup.py install` 명령어로 라이브러리를 설치 합니다.\n",
    "\n",
    "\n",
    "### Nmap 우분투 설치\n",
    "1. `sudo apt update` 로 시스템을 업데이트 합니다.\n",
    "2. `sudo apt upgrade` 명령으로 시스템 업그레이드 합니다.\n",
    "3. `sudo apt-get install nmap` nmap 설치 합니다.\n",
    "4. `wget https://xael.org/pages/python-nmap-0.6.4.tar.gz` 명령으로 python-nmap 압축파일 다운로드 합니다.\n",
    "5. `tar xf python-nmap-0.6.4.tar.gz` 로 압축해제 합니다.\n",
    "6. `cd python-nmap-0.6.4` 디렉토리 이동 합니다.\n",
    "7. `python3 setup.py install` 명령으로 python-nmap 라이브러리 설치 합니다.\n",
    "![ubuntu nmap](images/3.jpg)<br><center style=\"color:gray\">*python3 실행 후 import 가 정상적으로 되야 합니다.(ubuntu 20.04)*</center>"
   ]
  },
  {
   "cell_type": "markdown",
   "metadata": {},
   "source": [
    "### Nmap 사용하기"
   ]
  },
  {
   "cell_type": "code",
   "execution_count": null,
   "metadata": {},
   "outputs": [],
   "source": [
    "import nmap\n",
    "\n",
    "nscan = nmap.PortScanner()\n",
    "nscan.scan(\"127.0.0.1\")\n",
    "print(nscan[\"127.0.0.1\"])"
   ]
  },
  {
   "cell_type": "markdown",
   "metadata": {},
   "source": [
    "파이썬에서 nmap 의 일반적인 사용법은 위의 코드에서 처럼 비교적 간단합니다. 그러나 nmap 은 수많은 옵션을 제공하고 이런 여러가지 옵션에 따라 동작을 달리 하게 됩니다.\n",
    "\n",
    "![ubuntu nmap](images/4.jpg)<br><center style=\"color:gray\">*nmap 의 기본적인 포트스캔 결과*</center>"
   ]
  },
  {
   "cell_type": "code",
   "execution_count": null,
   "metadata": {},
   "outputs": [],
   "source": [
    "import nmap\n",
    "\n",
    "nscan = nmap.PortScanner()\n",
    "nscan.scan(\"127.0.0.1\")\n",
    "\n",
    "for h in nscan.all_hosts():\n",
    "    print(\"hosts: {}\".format(h))\n",
    "    print(\"hostname: {}\".format(nscan[h].hostname()))\n",
    "    print(\"state: {}\".format(nscan[h].state()))\n",
    "    for p in nscan[h].all_protocols():\n",
    "        ports = nscan[h][p].keys()\n",
    "        for pt in ports:\n",
    "            _state = nscan[h][p][pt]['state']\n",
    "            _name = nscan[h][p][pt]['name']\n",
    "            _product = nscan[h][p][pt]['product']\n",
    "            print(\"port: {}\\tstate: {}\\tname: {}\\tproduct:{}\".format(pt, _state, _name, _product))"
   ]
  },
  {
   "cell_type": "markdown",
   "metadata": {},
   "source": [
    "![ubuntu nmap](images/6.jpg)<br><center style=\"color:gray\">*nmap 의 기본적인 포트스캔 결과*</center>\n",
    "\n",
    "Nmap 에 특별한 옵션을 설정하지 않고 구동해보면 해당 시스템에 어떤 서비스가 어떤 포트로 구동되는지 생각보다 자세히 알 수 있습니다. 만약 백도어 같은 해킹툴이 구동중이라면 이렇게 포트스캔으로도 어느정도 감지 할 수 있게 됩니다. 물론 포트스캐너는 이렇게 취약점을 분석하는 용도로도 사용되지만 반대로 해킹을 하려는 목적을 갖고 있는 공격자도 사용할 수 있다는 사실을 항상 잊지 않아야 합니다."
   ]
  },
  {
   "cell_type": "code",
   "execution_count": null,
   "metadata": {},
   "outputs": [],
   "source": [
    "import nmap\n",
    "\n",
    "nscan = nmap.PortScanner()\n",
    "nscan.scan(\"127.0.0.1\", arguments=\"-O\")\n",
    "print(\" Scanning \".center(30, \"*\"))\n",
    "for h in nscan.all_hosts():\n",
    "    print(\"hosts: {}\".format(h))\n",
    "    print(\"hostname: {}\".format(nscan[h].hostname()))\n",
    "    print(\"state: {}\".format(nscan[h].state()))\n",
    "    print(\"OS: {}\".format(nscan[h][\"osmatch\"]))\n",
    "    for p in nscan[h].all_protocols():\n",
    "        print(\"protocol: {}\".format(p))\n",
    "        ports = nscan[h][p].keys()\n",
    "        for pt in ports:\n",
    "            print(\"port: {}\\tstate: {}\".format(pt, nscan[h][p][pt]['state']))"
   ]
  },
  {
   "cell_type": "markdown",
   "metadata": {},
   "source": [
    "![ubuntu nmap](images/5.jpg)<br><center style=\"color:gray\">*scan()함수에 arguments=\"-O\" 옵션을 주어 OS 정보를 확인한 결과*</center>\n",
    "\n",
    "## Nmap 의 주요 옵션\n",
    "<table width=\"100%\" border=\"1\">\n",
    "    <tr>\n",
    "        <td width=\"20%\" style=\"text-align:center\">옵션</td>\n",
    "        <td width=\"80%\" style=\"text-align:center\">설명</td>\n",
    "    </tr>\n",
    "    <tr>\n",
    "        <td style=\"text-align:center\">-sT</td>\n",
    "        <td style=\"text-align:left;padding-left:20px;\">TCP 방식으로 스캔 합니다.</td>\n",
    "    </tr>\n",
    "    <tr>\n",
    "        <td style=\"text-align:center\">-sU</td>\n",
    "        <td style=\"text-align:left;padding-left:20px;\">UDP 방식으로 스캔 합니다.</td>\n",
    "    </tr>\n",
    "    <tr>\n",
    "        <td style=\"text-align:center\">-O</td>\n",
    "        <td style=\"text-align:left;padding-left:20px;\">OS를 식별합니다. 리눅스에서 -O 옵션 사용시 슈퍼유저 권한이 필요합니다.</td>\n",
    "    </tr>\n",
    "    <tr>\n",
    "        <td style=\"text-align:center\">-p <포트번호,...></td>\n",
    "        <td style=\"text-align:left;padding-left:20px;\">특정 포트를 대상으로만 스캔합니다.</td>\n",
    "    </tr>\n",
    "    <tr>\n",
    "        <td style=\"text-align:center\">-T<0-5></td>\n",
    "        <td style=\"text-align:left;padding-left:20px;\">타이밍 템플릿 설정</td>\n",
    "    </tr>\n",
    "    <tr>\n",
    "        <td style=\"text-align:center\">--top-ports <숫자></td>\n",
    "        <td style=\"text-align:left;padding-left:20px;\"><숫자>만큼의 일반적인 포트를 스캔합니다.</td>\n",
    "    </tr>\n",
    "</table>\n",
    "\n",
    "* *[Nmap 공식 사이트](https://nmap.org/book/man-briefoptions.html)를 참고하여 더 많은 옵션의 내용을 확인 할 수 있습니다.*"
   ]
  },
  {
   "cell_type": "code",
   "execution_count": null,
   "metadata": {},
   "outputs": [],
   "source": [
    "import argparse\n",
    "import nmap\n",
    "\n",
    "\n",
    "def nmapScan(host, ports, args=\"-O -n -T5\"):\n",
    "    nscan = nmap.PortScanner()\n",
    "    if ports is None:\n",
    "        nscan.scan(host, arguments=args)\n",
    "    else:\n",
    "        nscan.scan(host, ports, arguments=args)\n",
    "\n",
    "    print(\" Scanning \".center(30, \"*\"))\n",
    "    for h in nscan.all_hosts():\n",
    "        print(\"hosts: {}\".format(h))\n",
    "        print(\"hostname: {}\".format(nscan[h].hostname()))\n",
    "        print(\"state: {}\".format(nscan[h].state()))\n",
    "        for p in nscan[h].all_protocols():\n",
    "            ports = nscan[h][p].keys()\n",
    "            for pt in ports:\n",
    "                _state = nscan[h][p][pt]['state']\n",
    "                _name = nscan[h][p][pt]['name']\n",
    "                print(\"port: {}\\tstate: {}\\tname: {}\".format(pt, _state, _name))\n",
    "\n",
    "\n",
    "if __name__ == '__main__':\n",
    "    parser = argparse.ArgumentParser(description='nmap을 사용한 배너그래버')\n",
    "    parser.add_argument('-p', type=int, nargs='+', help='포트번호 입력 (ex) -p 21 22 443 445 5000')\n",
    "    parser.add_argument(\"-ip\", type=str, help=\"대상 아이피 ex) -ip 123.123.123.1-254\")\n",
    "    args = parser.parse_args()\n",
    "    _ports = None if args.p is None else \"\".join(str(args.p).split())\n",
    "    _ip = \"127.0.0.1\" if args.ip is None else args.ip\n",
    "    nmapScan(_ip, _ports)"
   ]
  }
 ],
 "metadata": {
  "kernelspec": {
   "display_name": "Python 3",
   "language": "python",
   "name": "python3"
  },
  "language_info": {
   "codemirror_mode": {
    "name": "ipython",
    "version": 3
   },
   "file_extension": ".py",
   "mimetype": "text/x-python",
   "name": "python",
   "nbconvert_exporter": "python",
   "pygments_lexer": "ipython3",
   "version": "3.6.3"
  }
 },
 "nbformat": 4,
 "nbformat_minor": 2
}
