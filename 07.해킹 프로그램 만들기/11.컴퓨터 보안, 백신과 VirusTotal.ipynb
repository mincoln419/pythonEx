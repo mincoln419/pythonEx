{
 "cells": [
  {
   "cell_type": "markdown",
   "metadata": {},
   "source": [
    "# VirusTotal [[공식사이트]](https://www.virustotal.com)\n",
    "\n",
    "2012년 구글에 인수된 바이러스토탈은 악성코드, 바이러스 등의 파일 검사를 무료로 제공하며 파일검사 외에도 URL 검사 APK 검사등 다양한 서비스를 제공하는 웹사이트 입니다. 바이러스토탈의 강점은 아바스트, 이셋노드32, F-Secure, 카스퍼스카이, 맥아피, 안랩, 알약 등 전세계에서 현재 서비스중인 유명한 백신을 모두 사용하여 검사를 진행할 수 있다는데 있습니다.\n",
    "\n",
    "\n",
    "### 바이러스 검색결과 비교\n",
    "\n",
    "사실 백신 프로그램의 검색 결과를 100% 신뢰할 수는 없습니다. 백신은 물론 제조사마다 다르지만 일반적으로 시그니처 방식과 휴리스틱 방식으로 악성코드를 탐지합니다. 시그니처 방식은 기존에 동작하던 바이러스나 악성코드의 샘플을 수집하여 해당 파일에 대한 해시값을 데이터베이스화 하여 현재 컴퓨터의 파일들의 해시값을 검출해서 악성코드를 검출하는 방식으로 정확도는 높으나 악성코드나 바이러스가 변조되거나 수정되면 이 해시값이 변화기 때문에 이런 변화에 취약하고 검색 시간이 오래 걸리는 단점이 있습니다. 휴리스틱 방식은 의심파일의 행동 패턴을 분석하여 악성코드 여부를 판단하는 방식으로 어떤 파일이 실행될때 특정 조건의 패턴으로 행동하면 이를 악성코드로 판단하는 판단하는데 단점으로 오진이 많습니다. 물론 이 방법 외에도 각각의 백신회사들은 각기 자신들만의 고유한 기술이 있고 오진률을 줄이고 정확도를 높이기에 끝없기 고민하고 연구하고 있습니다만 아직까지 100% 완벽한 백신은 존재하지 않는게 현실입니다.\n",
    "\n",
    "### 예제"
   ]
  },
  {
   "cell_type": "code",
   "execution_count": null,
   "metadata": {},
   "outputs": [],
   "source": [
    "import sys\n",
    "from PySide2.QtWidgets import QApplication, QDialog, QLineEdit, QPushButton\n",
    "class Form(QDialog):\n",
    "    def __init__(self, parent=None):\n",
    "        super(Form, self).__init__(parent)\n",
    "        self.setWindowTitle(\"My Form\")\n",
    "\n",
    "if __name__ == '__main__':\n",
    "    app = QApplication(sys.argv)\n",
    "    form = Form()\n",
    "    form.show()\n",
    "    sys.exit(app.exec_())"
   ]
  },
  {
   "cell_type": "markdown",
   "metadata": {},
   "source": [
    "위의 예제 코드는 PySide2 라이브러리를 사용하여 그냥 아무것도 없는 QDialog 형태의 창을 하나 띄우는 코드 입니다. 이렇게 작성한 파이썬 코드를 PyInstaller 를 이용하여 exe 형태로 패킹해서 해당 파일을 바이러스 토탈에 검색해보겠습니다.\n",
    "\n",
    "![pyinstaller](images/22.jpg)\n",
    "\n",
    "위의 바이러스 토탈 검색 결과를 보면 총 69개의 백신제품 중 5개의 제품이 악성코드로 판단했습니다. 악성코드 검출명은 백신회사 자체적으로 명명하기 때문에 큰 의미는 없으나 5개중 3개의 백신에서 Trojan/xxxxx 으로 명명된것을 확인 할 수 있습니다. 이는 pyinstaller 로 패킹된 파이썬 코드가 실행될때 PyInstaller 의 내부 동작 방식으로 인해 임시폴더를 만들고 이곳에 압축을 풀고 메모리에 로드하고 하는 여러 과정을 휴리스틱 방식에 의해 악성코드로 오진하고 있는 결과 입니다. \n",
    "\n",
    "![pyinstaller](images/23.jpg)\n",
    "\n",
    "이번엔 우리가 작성한 해킹툴을 바이러스토탈로 검사해보면 위에서 작성한 샘플과 동일한 결과가 나오는것을 볼 수 있습니다. 우리가 작성한 프로그램은 사실 프로그램의 관점에서 보면 아무 문제가 없는 프로그램입니다. 단지 이런 프로그램을 어떤 목적으로 어떻게 사용했느냐의 차이이지 프로그램 자체로만 이것이 악성코드라고 판단할 근거가 없습니다. 이렇기 때문에 이미 유명해져서 시그니처 방식에 의해 백신에 검출되기 전까지는 아무 문제 없이 목적을 수행하게 되기 때문에 백신은 보안의 최소한의 도구이지 백신이 모든걸 다 알아서 해주리란 믿음을 버리고 개개인의 컴퓨터 보안은 스스로가 지켜야합니다."
   ]
  }
 ],
 "metadata": {
  "kernelspec": {
   "display_name": "Python 3",
   "language": "python",
   "name": "python3"
  },
  "language_info": {
   "codemirror_mode": {
    "name": "ipython",
    "version": 3
   },
   "file_extension": ".py",
   "mimetype": "text/x-python",
   "name": "python",
   "nbconvert_exporter": "python",
   "pygments_lexer": "ipython3",
   "version": "3.6.3"
  }
 },
 "nbformat": 4,
 "nbformat_minor": 2
}
