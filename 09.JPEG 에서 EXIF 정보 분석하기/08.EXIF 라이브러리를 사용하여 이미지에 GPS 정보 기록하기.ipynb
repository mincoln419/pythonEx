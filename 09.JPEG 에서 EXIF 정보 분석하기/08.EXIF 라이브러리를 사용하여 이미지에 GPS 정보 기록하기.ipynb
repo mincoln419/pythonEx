{
 "cells": [
  {
   "cell_type": "markdown",
   "metadata": {},
   "source": [
    "# Exif 라이브러리\n",
    "\n",
    "지금까지 JPEG 파일에는 여러종류의 세그먼트들이 존재하고 우리는 그 세그먼트중에서 EXIF 정보가 기록되는 Application 세그먼트에 대해 좀 더 중점적으로 알아보았습니다. APP1 세그먼트에서는 어떤 규칙에 의해 EXIF 정보가 기록되고 읽어지는지에 대해서도 알아보았고 간단하게나마 프로그램도 만들어보았습니다. 그러나 사실 좀 더 완성도 있게 프로그램을 제작하기 위해서는 모든 종류의 JPEG 파일에 대처할 수도 있어야 하고 EXIF 정보 역시 각 카메라 제조사마다 사용되는 마커까지 모두 포함될 수 있어야 합니다.\n",
    "\n",
    "\n",
    "### Pillow\n",
    "\n",
    "파이썬에서 이미지를 다룰때 가장 많이 사용되는 라이브러리 중 한가지가 Pillow 라이브러리 입니다. Pillow 라이브러리에는 EXIF 정보를 읽는 기능과 부분적으로 쓸 수 있는 기능이 구현되어 있습니다. Pillow 라이브러리는 원래 PIL 이라는 프로젝트의 후속 프로젝트로 현재는 Pillow 라이브러를 그냥 PIL 라이브러라고 부르기도 합니다. 이 강좌에서는 PIL 이라고 사용하도록 하겠습니다.\n",
    "\n",
    "### 라이브러리 설치\n",
    "\n",
    "> pip install pillow\n",
    "\n",
    "### PIL 라이브러리로 EXIF 읽기"
   ]
  },
  {
   "cell_type": "code",
   "execution_count": 1,
   "metadata": {
    "scrolled": true
   },
   "outputs": [
    {
     "name": "stdout",
     "output_type": "stream",
     "text": [
      "GPSInfo 833\n",
      "ResolutionUnit 2\n",
      "ExifOffset 213\n",
      "Make samsung\n",
      "Model SM-N960N\n",
      "Software N960NKSU3CSG3\n",
      "Orientation 1\n",
      "YCbCrPositioning 1\n",
      "DateTime 2019:08:16 20:55:05\n",
      "XResolution 72.0\n",
      "YResolution 72.0\n"
     ]
    }
   ],
   "source": [
    "from PIL import Image\n",
    "from PIL.ExifTags import TAGS\n",
    "\n",
    "filename = \"note9.jpg\"\n",
    "image = Image.open(filename)\n",
    "exif = image.getexif()\n",
    "for tag, value in exif.items():\n",
    "    tag_name = TAGS.get(tag, tag)\n",
    "    print(tag_name, value)"
   ]
  },
  {
   "cell_type": "markdown",
   "metadata": {},
   "source": [
    "위의 코드는 PIL 라이브러리를 사용하여 EXIF 정보를 읽어오는 간단한 예제 코드 입니다. 기본적으로 ```.getexif()``` 함수는 PIL 의 Image 모듈에 구현되어있지만 태그명은 ```from PIL.ExifTags import TAGS``` 모듈에 기술되어있습니다.\n",
    "\n",
    "### 이미지에서 EXIF 기록 지우기"
   ]
  },
  {
   "cell_type": "code",
   "execution_count": 15,
   "metadata": {},
   "outputs": [],
   "source": [
    "filename = \"note9.jpg\"\n",
    "image = Image.open(filename)\n",
    "\n",
    "jpg_data = list(image.getdata())\n",
    "noexif = Image.new(image.mode, image.size)\n",
    "noexif.putdata(jpg_data)\n",
    "\n",
    "noexif.save(\"new_no_exif.jpg\", quality=100)"
   ]
  },
  {
   "cell_type": "markdown",
   "metadata": {},
   "source": [
    "위의 코드는 이미지 파일을 읽어 해당 이미지 파일에서 ```jpg_data = list(image.getdata())``` 이미지 데이터만 추출한 후 이를 새로운 파일명으로 저장하여 원본 이미지가 갖고 있던 모든 메타데이터를 제거 하고 새롭게 저장하는 예제 코드 입니다. 개인적으로 사용되는 이미지는 메타정보가 있어도 상관없지만 웹이나 SNS 등에 이미지를 업로드 할때는 GPS 정보나 카메라 정보, 코멘트, 시간정보등이 하나의 개인정보로 악용될 우려도 있으니 주의해야할 필요가 있는 부분입니다.\n",
    "\n",
    "\n",
    "### 이미지에 새로운 EXIF 기록하기\n",
    "\n",
    "EXIF 데이터를 읽어오는 방법은 라이브러리를 사용하지 않아도 우리가 지금까지 공부한 내용으로도 어느정도 제작이 가능합니다. 그러나 반대로 EXIF 정보를 파일에 기록하는것은 생각보다 복잡한 문제들이 있습니다. EXIF 정보를 기록하는것은 읽는것의 역순으로 엔트리를 작성하기 전 미리 갯수를 구해서 총 바이트수를 계산하고 4바이트가 넘는 데이터는 데이터 영역을 따로 잡아놓고 그곳에 기록하며 기록될때마다 오프셋 주소를 계산하고 이를 다시 엔트리의 데이터 및 오프셋 영역에 작성하고.... 등등등 복잡하긴 하지만 사실 조금 집중해보면 결국은 더하기빼기의 문제라 어느정도는 구현이 가능하리라 생각됩니다. \n",
    "\n",
    "그런데 실제 문제는 이런 IFD 영역의 문제가 아니라 기존의 JPEG 파일에 EXIF 정보를 기록하기 위해선 기존의 JPEG 파일의 모든 세그먼트에 대해서 분석이 가능해야 하고 가장 중요한 압축된 이미지 데이터를 디코딩할 수 있는 수준까지 분석이 가능해야 온전한 JPEG 파일을 작성할 수 있습니다. 따라서 이 강좌에서는 라이브러를 사용하여 EXIF 정보를 기록하는 방법에 대해서만 알아보도록 하겠습니다.\n",
    "\n",
    "\n",
    "### EXIF 기록을 위한 piexif 라이브러리 [[공식 깃헙링크]](https://github.com/hMatoba/Piexif)\n",
    "\n",
    "piexif 라이브러리의 주요 기능은 다음과 같습니다.\n",
    "\n",
    "- load(filename) - EXIF 데이터 읽기\n",
    "- dump(exif_dict) - EXIF 데이터를 바이트 형태로 변환\n",
    "- insert(exif_bytes, filename) - JPEG 파일에 EXIF 데이터 추가\n",
    "- remove(filename) - JPEG 파일의 EXIF 정보 삭제\n",
    "- transplant(filename, filename) - A 파일에서 B 파일로 EXIF 정보 이식\n",
    "\n",
    "### piexif 설치\n",
    "\n",
    "> pip install piexif\n",
    "\n",
    "\n",
    "### 이미지에 GPS 정보 추가하기"
   ]
  },
  {
   "cell_type": "code",
   "execution_count": 18,
   "metadata": {},
   "outputs": [],
   "source": [
    "from PIL import Image\n",
    "import piexif\n",
    "\n",
    "filename = \"canon-7d.jpg\"\n",
    "\n",
    "im = Image.open(filename)\n",
    "exif_dict = piexif.load(im.info[\"exif\"])\n",
    "\n",
    "gps_ifd = {\n",
    "    piexif.GPSIFD.GPSVersionID: (2, 0, 0, 0),\n",
    "    piexif.GPSIFD.GPSLatitudeRef: \"N\",\n",
    "    piexif.GPSIFD.GPSLatitude: ((37, 1), (39, 1), (7, 1)),\n",
    "    piexif.GPSIFD.GPSLongitudeRef: \"E\",\n",
    "    piexif.GPSIFD.GPSLongitude: ((127, 1), (14, 1), (35, 1)),\n",
    "    piexif.GPSIFD.GPSDateStamp: u\"1999:99:99 99:99:99\",\n",
    "}\n",
    "\n",
    "exif_dict[\"GPS\"] = gps_ifd\n",
    "exif_bytes = piexif.dump(exif_dict)\n",
    "im.save(\"NEW_GPS_IMAGE.jpg\", \"jpeg\", exif=exif_bytes, quality=90)"
   ]
  },
  {
   "cell_type": "markdown",
   "metadata": {},
   "source": [
    "위 코드는 샘플이미지 ```canon-7d.jpg``` 파일에서 EXIF 정보를 모두 읽어온뒤에 GPS 정보를 추가하여 새로운 ```NEW_GPS_IMAGE.jpg``` 파일로 저장하는 샘플 코드 입니다. piexif 라이브러리는 JPEG 에서 사용하는 5개의 IFD 구조가 모두 구현되어 있고 각 IFD 는 ```\"0th\", \"Exif\", \"GPS\", \"Interop\", \"1st\", \"thumbnail\"``` 로 각각 정의 되어 있습니다. 또한 각 엔트리 태그명은 [piexif](https://github.com/hMatoba/Piexif/blob/master/piexif/_exif.py) 사이트를 참고 해서 작성할 수 있습니다.\n",
    "\n",
    "<pre style=\"background-color:#eeeeee;margin:0px;padding:10px;margin-top:15px;\">\n",
    "exif_dict[\"GPS\"] = gps_ifd\n",
    "exif_bytes = piexif.dump(exif_dict)\n",
    "im.save(\"NEW_GPS_IMAGE.jpg\", \"jpeg\", exif=exif_bytes, quality=90)\n",
    "</pre>\n",
    "\n",
    "exif_dict[\"GPS\"] 에 각 정보를 설정하고 저장합니다. 그리고 최종적으로 ```piexif.dump(exif_dict)``` 를 하여 ```exif_dict``` 에 저장된 모든 데이터를 바이트로 변환합니다. 물론 바이트화 시키는 ```dump()``` 함수 내부에서는 오프셋 계산도 이뤄지게 됩니다. EXIF 데이터를 작성하는 프로그램을 직접 만들어보고 싶은 분들은 [piexif dump](https://github.com/hMatoba/Piexif/blob/master/piexif/_dump.py) 함수 소스 코드를 분석해보시면 많은 도움이 될 것 같습니다."
   ]
  }
 ],
 "metadata": {
  "kernelspec": {
   "display_name": "Python 3 (ipykernel)",
   "language": "python",
   "name": "python3"
  },
  "language_info": {
   "codemirror_mode": {
    "name": "ipython",
    "version": 3
   },
   "file_extension": ".py",
   "mimetype": "text/x-python",
   "name": "python",
   "nbconvert_exporter": "python",
   "pygments_lexer": "ipython3",
   "version": "3.9.7"
  }
 },
 "nbformat": 4,
 "nbformat_minor": 2
}
